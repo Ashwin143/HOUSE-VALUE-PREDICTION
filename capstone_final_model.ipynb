{
 "cells": [
  {
   "cell_type": "code",
   "execution_count": 1,
   "metadata": {
    "colab": {
     "base_uri": "https://localhost:8080/"
    },
    "id": "k78tpADvxRxz",
    "outputId": "29ead8f0-fce4-4645-fe3c-ccb25c81ede6"
   },
   "outputs": [],
   "source": [
    "# from google.colab import drive\n",
    "# drive.mount('/content/Pythoncode')"
   ]
  },
  {
   "cell_type": "markdown",
   "metadata": {
    "id": "59T6hd8Ote7c"
   },
   "source": [
    "# House Value Prediction\n",
    "### House price is often time determined by a multitude of factors besides size, location, condition of the house etc. This project aims at trying to have a house value prediction model with good accuracy for prospective buyers and sellers."
   ]
  },
  {
   "cell_type": "markdown",
   "metadata": {
    "id": "-5dnuLeDttcy"
   },
   "source": [
    "#### Loading libraries"
   ]
  },
  {
   "cell_type": "code",
   "execution_count": 6,
   "metadata": {
    "id": "0yjEHe_G4APm"
   },
   "outputs": [],
   "source": [
    "# Import the necessary libraries \n",
    "import pandas as pd\n",
    "import numpy as np\n",
    "import seaborn as sns\n",
    "import scipy.stats as stats\n",
    "import copy\n",
    "import pickle\n",
    "import matplotlib.pyplot as plt\n",
    "sns.set (color_codes = True)\n",
    "%matplotlib inline\n",
    "\n",
    "from sklearn.linear_model import LinearRegression\n",
    "from sklearn.ensemble import RandomForestRegressor, AdaBoostRegressor, GradientBoostingRegressor\n",
    "from sklearn import svm\n",
    "from sklearn import metrics\n",
    "from sklearn.model_selection import train_test_split\n",
    "from sklearn.metrics import mean_squared_error,mean_absolute_error,r2_score \n",
    "from sklearn.linear_model import Ridge\n",
    "from sklearn.linear_model import Lasso\n",
    "from sklearn.neighbors import KNeighborsRegressor\n",
    "from sklearn.metrics import accuracy_score\n",
    "from sklearn.model_selection import KFold\n",
    "from sklearn.model_selection import cross_val_score\n",
    "from sklearn.pipeline import Pipeline\n",
    "from sklearn.preprocessing import StandardScaler\n",
    "from sklearn.model_selection import GridSearchCV\n",
    "\n",
    "import warnings\n",
    "warnings.filterwarnings('ignore')\n"
   ]
  },
  {
   "cell_type": "markdown",
   "metadata": {
    "id": "bh1gjUda4dil"
   },
   "source": [
    "### Loading Dataset"
   ]
  },
  {
   "cell_type": "code",
   "execution_count": 7,
   "metadata": {
    "id": "FOPAV-QI4PdF"
   },
   "outputs": [],
   "source": [
    "# Read the data as a data frame \n",
    "city= pd.read_csv('innercity.csv')"
   ]
  },
  {
   "cell_type": "code",
   "execution_count": 8,
   "metadata": {
    "colab": {
     "base_uri": "https://localhost:8080/"
    },
    "id": "lNeTcbm34z_2",
    "outputId": "3b729d62-42e2-4559-b1db-4da0e1f629d9"
   },
   "outputs": [
    {
     "name": "stdout",
     "output_type": "stream",
     "text": [
      "DataFrame Shape : (21613, 23)\n",
      "Number of rows : 21613\n",
      "Number of columns : 23\n"
     ]
    }
   ],
   "source": [
    "#shape of the data frame\n",
    "shape = city.shape\n",
    "print('DataFrame Shape :', shape)\n",
    "print('Number of rows :', shape[0])\n",
    "print('Number of columns :', shape[1])"
   ]
  },
  {
   "cell_type": "code",
   "execution_count": 9,
   "metadata": {
    "colab": {
     "base_uri": "https://localhost:8080/",
     "height": 215
    },
    "id": "XEHzYAki5MwE",
    "outputId": "f5619701-812e-4f93-901e-ad3d9e805471"
   },
   "outputs": [
    {
     "data": {
      "text/html": [
       "<div>\n",
       "<style scoped>\n",
       "    .dataframe tbody tr th:only-of-type {\n",
       "        vertical-align: middle;\n",
       "    }\n",
       "\n",
       "    .dataframe tbody tr th {\n",
       "        vertical-align: top;\n",
       "    }\n",
       "\n",
       "    .dataframe thead th {\n",
       "        text-align: right;\n",
       "    }\n",
       "</style>\n",
       "<table border=\"1\" class=\"dataframe\">\n",
       "  <thead>\n",
       "    <tr style=\"text-align: right;\">\n",
       "      <th></th>\n",
       "      <th>cid</th>\n",
       "      <th>dayhours</th>\n",
       "      <th>price</th>\n",
       "      <th>room_bed</th>\n",
       "      <th>room_bath</th>\n",
       "      <th>living_measure</th>\n",
       "      <th>lot_measure</th>\n",
       "      <th>ceil</th>\n",
       "      <th>coast</th>\n",
       "      <th>sight</th>\n",
       "      <th>...</th>\n",
       "      <th>basement</th>\n",
       "      <th>yr_built</th>\n",
       "      <th>yr_renovated</th>\n",
       "      <th>zipcode</th>\n",
       "      <th>lat</th>\n",
       "      <th>long</th>\n",
       "      <th>living_measure15</th>\n",
       "      <th>lot_measure15</th>\n",
       "      <th>furnished</th>\n",
       "      <th>total_area</th>\n",
       "    </tr>\n",
       "  </thead>\n",
       "  <tbody>\n",
       "    <tr>\n",
       "      <th>0</th>\n",
       "      <td>3034200666</td>\n",
       "      <td>20141107T000000</td>\n",
       "      <td>808100</td>\n",
       "      <td>4</td>\n",
       "      <td>3.25</td>\n",
       "      <td>3020</td>\n",
       "      <td>13457</td>\n",
       "      <td>1.0</td>\n",
       "      <td>0</td>\n",
       "      <td>0</td>\n",
       "      <td>...</td>\n",
       "      <td>0</td>\n",
       "      <td>1956</td>\n",
       "      <td>0</td>\n",
       "      <td>98133</td>\n",
       "      <td>47.7174</td>\n",
       "      <td>-122.336</td>\n",
       "      <td>2120</td>\n",
       "      <td>7553</td>\n",
       "      <td>1</td>\n",
       "      <td>16477</td>\n",
       "    </tr>\n",
       "    <tr>\n",
       "      <th>1</th>\n",
       "      <td>8731981640</td>\n",
       "      <td>20141204T000000</td>\n",
       "      <td>277500</td>\n",
       "      <td>4</td>\n",
       "      <td>2.50</td>\n",
       "      <td>2550</td>\n",
       "      <td>7500</td>\n",
       "      <td>1.0</td>\n",
       "      <td>0</td>\n",
       "      <td>0</td>\n",
       "      <td>...</td>\n",
       "      <td>800</td>\n",
       "      <td>1976</td>\n",
       "      <td>0</td>\n",
       "      <td>98023</td>\n",
       "      <td>47.3165</td>\n",
       "      <td>-122.386</td>\n",
       "      <td>2260</td>\n",
       "      <td>8800</td>\n",
       "      <td>0</td>\n",
       "      <td>10050</td>\n",
       "    </tr>\n",
       "    <tr>\n",
       "      <th>2</th>\n",
       "      <td>5104530220</td>\n",
       "      <td>20150420T000000</td>\n",
       "      <td>404000</td>\n",
       "      <td>3</td>\n",
       "      <td>2.50</td>\n",
       "      <td>2370</td>\n",
       "      <td>4324</td>\n",
       "      <td>2.0</td>\n",
       "      <td>0</td>\n",
       "      <td>0</td>\n",
       "      <td>...</td>\n",
       "      <td>0</td>\n",
       "      <td>2006</td>\n",
       "      <td>0</td>\n",
       "      <td>98038</td>\n",
       "      <td>47.3515</td>\n",
       "      <td>-121.999</td>\n",
       "      <td>2370</td>\n",
       "      <td>4348</td>\n",
       "      <td>0</td>\n",
       "      <td>6694</td>\n",
       "    </tr>\n",
       "    <tr>\n",
       "      <th>3</th>\n",
       "      <td>6145600285</td>\n",
       "      <td>20140529T000000</td>\n",
       "      <td>300000</td>\n",
       "      <td>2</td>\n",
       "      <td>1.00</td>\n",
       "      <td>820</td>\n",
       "      <td>3844</td>\n",
       "      <td>1.0</td>\n",
       "      <td>0</td>\n",
       "      <td>0</td>\n",
       "      <td>...</td>\n",
       "      <td>0</td>\n",
       "      <td>1916</td>\n",
       "      <td>0</td>\n",
       "      <td>98133</td>\n",
       "      <td>47.7049</td>\n",
       "      <td>-122.349</td>\n",
       "      <td>1520</td>\n",
       "      <td>3844</td>\n",
       "      <td>0</td>\n",
       "      <td>4664</td>\n",
       "    </tr>\n",
       "    <tr>\n",
       "      <th>4</th>\n",
       "      <td>8924100111</td>\n",
       "      <td>20150424T000000</td>\n",
       "      <td>699000</td>\n",
       "      <td>2</td>\n",
       "      <td>1.50</td>\n",
       "      <td>1400</td>\n",
       "      <td>4050</td>\n",
       "      <td>1.0</td>\n",
       "      <td>0</td>\n",
       "      <td>0</td>\n",
       "      <td>...</td>\n",
       "      <td>0</td>\n",
       "      <td>1954</td>\n",
       "      <td>0</td>\n",
       "      <td>98115</td>\n",
       "      <td>47.6768</td>\n",
       "      <td>-122.269</td>\n",
       "      <td>1900</td>\n",
       "      <td>5940</td>\n",
       "      <td>0</td>\n",
       "      <td>5450</td>\n",
       "    </tr>\n",
       "  </tbody>\n",
       "</table>\n",
       "<p>5 rows × 23 columns</p>\n",
       "</div>"
      ],
      "text/plain": [
       "          cid         dayhours   price  room_bed  room_bath  living_measure  \\\n",
       "0  3034200666  20141107T000000  808100         4       3.25            3020   \n",
       "1  8731981640  20141204T000000  277500         4       2.50            2550   \n",
       "2  5104530220  20150420T000000  404000         3       2.50            2370   \n",
       "3  6145600285  20140529T000000  300000         2       1.00             820   \n",
       "4  8924100111  20150424T000000  699000         2       1.50            1400   \n",
       "\n",
       "   lot_measure  ceil  coast  sight  ...  basement  yr_built  yr_renovated  \\\n",
       "0        13457   1.0      0      0  ...         0      1956             0   \n",
       "1         7500   1.0      0      0  ...       800      1976             0   \n",
       "2         4324   2.0      0      0  ...         0      2006             0   \n",
       "3         3844   1.0      0      0  ...         0      1916             0   \n",
       "4         4050   1.0      0      0  ...         0      1954             0   \n",
       "\n",
       "   zipcode      lat     long  living_measure15  lot_measure15  furnished  \\\n",
       "0    98133  47.7174 -122.336              2120           7553          1   \n",
       "1    98023  47.3165 -122.386              2260           8800          0   \n",
       "2    98038  47.3515 -121.999              2370           4348          0   \n",
       "3    98133  47.7049 -122.349              1520           3844          0   \n",
       "4    98115  47.6768 -122.269              1900           5940          0   \n",
       "\n",
       "   total_area  \n",
       "0       16477  \n",
       "1       10050  \n",
       "2        6694  \n",
       "3        4664  \n",
       "4        5450  \n",
       "\n",
       "[5 rows x 23 columns]"
      ]
     },
     "execution_count": 9,
     "metadata": {},
     "output_type": "execute_result"
    }
   ],
   "source": [
    "# view the first fiverows of the dataset\n",
    "city.head()"
   ]
  },
  {
   "cell_type": "code",
   "execution_count": 10,
   "metadata": {
    "colab": {
     "base_uri": "https://localhost:8080/"
    },
    "id": "vksFlcfR5YZo",
    "outputId": "eb577e65-f721-4ac8-f379-e53957ed2ec9"
   },
   "outputs": [
    {
     "name": "stdout",
     "output_type": "stream",
     "text": [
      "<class 'pandas.core.frame.DataFrame'>\n",
      "RangeIndex: 21613 entries, 0 to 21612\n",
      "Data columns (total 23 columns):\n",
      "cid                 21613 non-null int64\n",
      "dayhours            21613 non-null object\n",
      "price               21613 non-null int64\n",
      "room_bed            21613 non-null int64\n",
      "room_bath           21613 non-null float64\n",
      "living_measure      21613 non-null int64\n",
      "lot_measure         21613 non-null int64\n",
      "ceil                21613 non-null float64\n",
      "coast               21613 non-null int64\n",
      "sight               21613 non-null int64\n",
      "condition           21613 non-null int64\n",
      "quality             21613 non-null int64\n",
      "ceil_measure        21613 non-null int64\n",
      "basement            21613 non-null int64\n",
      "yr_built            21613 non-null int64\n",
      "yr_renovated        21613 non-null int64\n",
      "zipcode             21613 non-null int64\n",
      "lat                 21613 non-null float64\n",
      "long                21613 non-null float64\n",
      "living_measure15    21613 non-null int64\n",
      "lot_measure15       21613 non-null int64\n",
      "furnished           21613 non-null int64\n",
      "total_area          21613 non-null int64\n",
      "dtypes: float64(4), int64(18), object(1)\n",
      "memory usage: 3.8+ MB\n"
     ]
    }
   ],
   "source": [
    "# Total no of rows and datatype of each columns\n",
    "city.info()"
   ]
  },
  {
   "cell_type": "markdown",
   "metadata": {
    "id": "eLmmJPAH5y4u"
   },
   "source": [
    "* Price is the target column and we have 22 independent features , Price is of integer datatype and has not null values"
   ]
  },
  {
   "cell_type": "code",
   "execution_count": 11,
   "metadata": {
    "colab": {
     "base_uri": "https://localhost:8080/"
    },
    "id": "V-bac9ZQ5-9E",
    "outputId": "8db4a9f2-1add-4b39-a14f-984e3a270723"
   },
   "outputs": [
    {
     "data": {
      "text/plain": [
       "cid                 False\n",
       "dayhours            False\n",
       "price               False\n",
       "room_bed            False\n",
       "room_bath           False\n",
       "living_measure      False\n",
       "lot_measure         False\n",
       "ceil                False\n",
       "coast               False\n",
       "sight               False\n",
       "condition           False\n",
       "quality             False\n",
       "ceil_measure        False\n",
       "basement            False\n",
       "yr_built            False\n",
       "yr_renovated        False\n",
       "zipcode             False\n",
       "lat                 False\n",
       "long                False\n",
       "living_measure15    False\n",
       "lot_measure15       False\n",
       "furnished           False\n",
       "total_area          False\n",
       "dtype: bool"
      ]
     },
     "execution_count": 11,
     "metadata": {},
     "output_type": "execute_result"
    }
   ],
   "source": [
    "# This shows the data type as well as null values (if any)\n",
    "city.isnull().any()"
   ]
  },
  {
   "cell_type": "markdown",
   "metadata": {
    "id": "0QAdut977Agb"
   },
   "source": [
    "* No null value present in data set."
   ]
  },
  {
   "cell_type": "code",
   "execution_count": 12,
   "metadata": {
    "colab": {
     "base_uri": "https://localhost:8080/"
    },
    "id": "h-KNfjyo6Rsx",
    "outputId": "3c6f1430-297c-4d2e-ce4c-d4e48c4be8f7"
   },
   "outputs": [
    {
     "data": {
      "text/plain": [
       "cid                 0\n",
       "dayhours            0\n",
       "price               0\n",
       "room_bed            0\n",
       "room_bath           0\n",
       "living_measure      0\n",
       "lot_measure         0\n",
       "ceil                0\n",
       "coast               0\n",
       "sight               0\n",
       "condition           0\n",
       "quality             0\n",
       "ceil_measure        0\n",
       "basement            0\n",
       "yr_built            0\n",
       "yr_renovated        0\n",
       "zipcode             0\n",
       "lat                 0\n",
       "long                0\n",
       "living_measure15    0\n",
       "lot_measure15       0\n",
       "furnished           0\n",
       "total_area          0\n",
       "dtype: int64"
      ]
     },
     "execution_count": 12,
     "metadata": {},
     "output_type": "execute_result"
    }
   ],
   "source": [
    "# Number of null values are 0 in each column\n",
    "city.isnull().sum()"
   ]
  },
  {
   "cell_type": "code",
   "execution_count": 13,
   "metadata": {
    "colab": {
     "base_uri": "https://localhost:8080/"
    },
    "id": "Zpu4372Y7jJt",
    "outputId": "66e26ebb-68b7-42ec-9b55-87cdcff9b32b"
   },
   "outputs": [
    {
     "data": {
      "text/plain": [
       "0"
      ]
     },
     "execution_count": 13,
     "metadata": {},
     "output_type": "execute_result"
    }
   ],
   "source": [
    "#Checking dupicate values\n",
    "city.duplicated().sum()"
   ]
  },
  {
   "cell_type": "markdown",
   "metadata": {
    "id": "jRnPRDXq7tHs"
   },
   "source": [
    "* There is no duplicate data found in data set"
   ]
  },
  {
   "cell_type": "code",
   "execution_count": 14,
   "metadata": {
    "colab": {
     "base_uri": "https://localhost:8080/",
     "height": 748
    },
    "id": "WoSp9uk-7vE1",
    "outputId": "14d513f8-5ce6-43b0-9d51-39aed57d995d"
   },
   "outputs": [
    {
     "data": {
      "text/html": [
       "<div>\n",
       "<style scoped>\n",
       "    .dataframe tbody tr th:only-of-type {\n",
       "        vertical-align: middle;\n",
       "    }\n",
       "\n",
       "    .dataframe tbody tr th {\n",
       "        vertical-align: top;\n",
       "    }\n",
       "\n",
       "    .dataframe thead th {\n",
       "        text-align: right;\n",
       "    }\n",
       "</style>\n",
       "<table border=\"1\" class=\"dataframe\">\n",
       "  <thead>\n",
       "    <tr style=\"text-align: right;\">\n",
       "      <th></th>\n",
       "      <th>count</th>\n",
       "      <th>unique</th>\n",
       "      <th>top</th>\n",
       "      <th>freq</th>\n",
       "      <th>mean</th>\n",
       "      <th>std</th>\n",
       "      <th>min</th>\n",
       "      <th>25%</th>\n",
       "      <th>50%</th>\n",
       "      <th>75%</th>\n",
       "      <th>max</th>\n",
       "    </tr>\n",
       "  </thead>\n",
       "  <tbody>\n",
       "    <tr>\n",
       "      <th>cid</th>\n",
       "      <td>21613</td>\n",
       "      <td>NaN</td>\n",
       "      <td>NaN</td>\n",
       "      <td>NaN</td>\n",
       "      <td>4.5803e+09</td>\n",
       "      <td>2.87657e+09</td>\n",
       "      <td>1.0001e+06</td>\n",
       "      <td>2.12305e+09</td>\n",
       "      <td>3.90493e+09</td>\n",
       "      <td>7.3089e+09</td>\n",
       "      <td>9.9e+09</td>\n",
       "    </tr>\n",
       "    <tr>\n",
       "      <th>dayhours</th>\n",
       "      <td>21613</td>\n",
       "      <td>372</td>\n",
       "      <td>20140623T000000</td>\n",
       "      <td>142</td>\n",
       "      <td>NaN</td>\n",
       "      <td>NaN</td>\n",
       "      <td>NaN</td>\n",
       "      <td>NaN</td>\n",
       "      <td>NaN</td>\n",
       "      <td>NaN</td>\n",
       "      <td>NaN</td>\n",
       "    </tr>\n",
       "    <tr>\n",
       "      <th>price</th>\n",
       "      <td>21613</td>\n",
       "      <td>NaN</td>\n",
       "      <td>NaN</td>\n",
       "      <td>NaN</td>\n",
       "      <td>540182</td>\n",
       "      <td>367362</td>\n",
       "      <td>75000</td>\n",
       "      <td>321950</td>\n",
       "      <td>450000</td>\n",
       "      <td>645000</td>\n",
       "      <td>7.7e+06</td>\n",
       "    </tr>\n",
       "    <tr>\n",
       "      <th>room_bed</th>\n",
       "      <td>21613</td>\n",
       "      <td>NaN</td>\n",
       "      <td>NaN</td>\n",
       "      <td>NaN</td>\n",
       "      <td>3.37084</td>\n",
       "      <td>0.930062</td>\n",
       "      <td>0</td>\n",
       "      <td>3</td>\n",
       "      <td>3</td>\n",
       "      <td>4</td>\n",
       "      <td>33</td>\n",
       "    </tr>\n",
       "    <tr>\n",
       "      <th>room_bath</th>\n",
       "      <td>21613</td>\n",
       "      <td>NaN</td>\n",
       "      <td>NaN</td>\n",
       "      <td>NaN</td>\n",
       "      <td>2.11476</td>\n",
       "      <td>0.770163</td>\n",
       "      <td>0</td>\n",
       "      <td>1.75</td>\n",
       "      <td>2.25</td>\n",
       "      <td>2.5</td>\n",
       "      <td>8</td>\n",
       "    </tr>\n",
       "    <tr>\n",
       "      <th>living_measure</th>\n",
       "      <td>21613</td>\n",
       "      <td>NaN</td>\n",
       "      <td>NaN</td>\n",
       "      <td>NaN</td>\n",
       "      <td>2079.9</td>\n",
       "      <td>918.441</td>\n",
       "      <td>290</td>\n",
       "      <td>1427</td>\n",
       "      <td>1910</td>\n",
       "      <td>2550</td>\n",
       "      <td>13540</td>\n",
       "    </tr>\n",
       "    <tr>\n",
       "      <th>lot_measure</th>\n",
       "      <td>21613</td>\n",
       "      <td>NaN</td>\n",
       "      <td>NaN</td>\n",
       "      <td>NaN</td>\n",
       "      <td>15107</td>\n",
       "      <td>41420.5</td>\n",
       "      <td>520</td>\n",
       "      <td>5040</td>\n",
       "      <td>7618</td>\n",
       "      <td>10688</td>\n",
       "      <td>1.65136e+06</td>\n",
       "    </tr>\n",
       "    <tr>\n",
       "      <th>ceil</th>\n",
       "      <td>21613</td>\n",
       "      <td>NaN</td>\n",
       "      <td>NaN</td>\n",
       "      <td>NaN</td>\n",
       "      <td>1.49431</td>\n",
       "      <td>0.539989</td>\n",
       "      <td>1</td>\n",
       "      <td>1</td>\n",
       "      <td>1.5</td>\n",
       "      <td>2</td>\n",
       "      <td>3.5</td>\n",
       "    </tr>\n",
       "    <tr>\n",
       "      <th>coast</th>\n",
       "      <td>21613</td>\n",
       "      <td>NaN</td>\n",
       "      <td>NaN</td>\n",
       "      <td>NaN</td>\n",
       "      <td>0.00754176</td>\n",
       "      <td>0.0865172</td>\n",
       "      <td>0</td>\n",
       "      <td>0</td>\n",
       "      <td>0</td>\n",
       "      <td>0</td>\n",
       "      <td>1</td>\n",
       "    </tr>\n",
       "    <tr>\n",
       "      <th>sight</th>\n",
       "      <td>21613</td>\n",
       "      <td>NaN</td>\n",
       "      <td>NaN</td>\n",
       "      <td>NaN</td>\n",
       "      <td>0.234303</td>\n",
       "      <td>0.766318</td>\n",
       "      <td>0</td>\n",
       "      <td>0</td>\n",
       "      <td>0</td>\n",
       "      <td>0</td>\n",
       "      <td>4</td>\n",
       "    </tr>\n",
       "    <tr>\n",
       "      <th>condition</th>\n",
       "      <td>21613</td>\n",
       "      <td>NaN</td>\n",
       "      <td>NaN</td>\n",
       "      <td>NaN</td>\n",
       "      <td>3.40943</td>\n",
       "      <td>0.650743</td>\n",
       "      <td>1</td>\n",
       "      <td>3</td>\n",
       "      <td>3</td>\n",
       "      <td>4</td>\n",
       "      <td>5</td>\n",
       "    </tr>\n",
       "    <tr>\n",
       "      <th>quality</th>\n",
       "      <td>21613</td>\n",
       "      <td>NaN</td>\n",
       "      <td>NaN</td>\n",
       "      <td>NaN</td>\n",
       "      <td>7.65687</td>\n",
       "      <td>1.17546</td>\n",
       "      <td>1</td>\n",
       "      <td>7</td>\n",
       "      <td>7</td>\n",
       "      <td>8</td>\n",
       "      <td>13</td>\n",
       "    </tr>\n",
       "    <tr>\n",
       "      <th>ceil_measure</th>\n",
       "      <td>21613</td>\n",
       "      <td>NaN</td>\n",
       "      <td>NaN</td>\n",
       "      <td>NaN</td>\n",
       "      <td>1788.39</td>\n",
       "      <td>828.091</td>\n",
       "      <td>290</td>\n",
       "      <td>1190</td>\n",
       "      <td>1560</td>\n",
       "      <td>2210</td>\n",
       "      <td>9410</td>\n",
       "    </tr>\n",
       "    <tr>\n",
       "      <th>basement</th>\n",
       "      <td>21613</td>\n",
       "      <td>NaN</td>\n",
       "      <td>NaN</td>\n",
       "      <td>NaN</td>\n",
       "      <td>291.509</td>\n",
       "      <td>442.575</td>\n",
       "      <td>0</td>\n",
       "      <td>0</td>\n",
       "      <td>0</td>\n",
       "      <td>560</td>\n",
       "      <td>4820</td>\n",
       "    </tr>\n",
       "    <tr>\n",
       "      <th>yr_built</th>\n",
       "      <td>21613</td>\n",
       "      <td>NaN</td>\n",
       "      <td>NaN</td>\n",
       "      <td>NaN</td>\n",
       "      <td>1971.01</td>\n",
       "      <td>29.3734</td>\n",
       "      <td>1900</td>\n",
       "      <td>1951</td>\n",
       "      <td>1975</td>\n",
       "      <td>1997</td>\n",
       "      <td>2015</td>\n",
       "    </tr>\n",
       "    <tr>\n",
       "      <th>yr_renovated</th>\n",
       "      <td>21613</td>\n",
       "      <td>NaN</td>\n",
       "      <td>NaN</td>\n",
       "      <td>NaN</td>\n",
       "      <td>84.4023</td>\n",
       "      <td>401.679</td>\n",
       "      <td>0</td>\n",
       "      <td>0</td>\n",
       "      <td>0</td>\n",
       "      <td>0</td>\n",
       "      <td>2015</td>\n",
       "    </tr>\n",
       "    <tr>\n",
       "      <th>zipcode</th>\n",
       "      <td>21613</td>\n",
       "      <td>NaN</td>\n",
       "      <td>NaN</td>\n",
       "      <td>NaN</td>\n",
       "      <td>98077.9</td>\n",
       "      <td>53.505</td>\n",
       "      <td>98001</td>\n",
       "      <td>98033</td>\n",
       "      <td>98065</td>\n",
       "      <td>98118</td>\n",
       "      <td>98199</td>\n",
       "    </tr>\n",
       "    <tr>\n",
       "      <th>lat</th>\n",
       "      <td>21613</td>\n",
       "      <td>NaN</td>\n",
       "      <td>NaN</td>\n",
       "      <td>NaN</td>\n",
       "      <td>47.5601</td>\n",
       "      <td>0.138564</td>\n",
       "      <td>47.1559</td>\n",
       "      <td>47.471</td>\n",
       "      <td>47.5718</td>\n",
       "      <td>47.678</td>\n",
       "      <td>47.7776</td>\n",
       "    </tr>\n",
       "    <tr>\n",
       "      <th>long</th>\n",
       "      <td>21613</td>\n",
       "      <td>NaN</td>\n",
       "      <td>NaN</td>\n",
       "      <td>NaN</td>\n",
       "      <td>-122.214</td>\n",
       "      <td>0.140828</td>\n",
       "      <td>-122.519</td>\n",
       "      <td>-122.328</td>\n",
       "      <td>-122.23</td>\n",
       "      <td>-122.125</td>\n",
       "      <td>-121.315</td>\n",
       "    </tr>\n",
       "    <tr>\n",
       "      <th>living_measure15</th>\n",
       "      <td>21613</td>\n",
       "      <td>NaN</td>\n",
       "      <td>NaN</td>\n",
       "      <td>NaN</td>\n",
       "      <td>1986.55</td>\n",
       "      <td>685.391</td>\n",
       "      <td>399</td>\n",
       "      <td>1490</td>\n",
       "      <td>1840</td>\n",
       "      <td>2360</td>\n",
       "      <td>6210</td>\n",
       "    </tr>\n",
       "    <tr>\n",
       "      <th>lot_measure15</th>\n",
       "      <td>21613</td>\n",
       "      <td>NaN</td>\n",
       "      <td>NaN</td>\n",
       "      <td>NaN</td>\n",
       "      <td>12768.5</td>\n",
       "      <td>27304.2</td>\n",
       "      <td>651</td>\n",
       "      <td>5100</td>\n",
       "      <td>7620</td>\n",
       "      <td>10083</td>\n",
       "      <td>871200</td>\n",
       "    </tr>\n",
       "    <tr>\n",
       "      <th>furnished</th>\n",
       "      <td>21613</td>\n",
       "      <td>NaN</td>\n",
       "      <td>NaN</td>\n",
       "      <td>NaN</td>\n",
       "      <td>0.196687</td>\n",
       "      <td>0.397503</td>\n",
       "      <td>0</td>\n",
       "      <td>0</td>\n",
       "      <td>0</td>\n",
       "      <td>0</td>\n",
       "      <td>1</td>\n",
       "    </tr>\n",
       "    <tr>\n",
       "      <th>total_area</th>\n",
       "      <td>21613</td>\n",
       "      <td>NaN</td>\n",
       "      <td>NaN</td>\n",
       "      <td>NaN</td>\n",
       "      <td>17186.9</td>\n",
       "      <td>41589.1</td>\n",
       "      <td>1423</td>\n",
       "      <td>7035</td>\n",
       "      <td>9575</td>\n",
       "      <td>13000</td>\n",
       "      <td>1.65266e+06</td>\n",
       "    </tr>\n",
       "  </tbody>\n",
       "</table>\n",
       "</div>"
      ],
      "text/plain": [
       "                  count unique              top freq        mean          std  \\\n",
       "cid               21613    NaN              NaN  NaN  4.5803e+09  2.87657e+09   \n",
       "dayhours          21613    372  20140623T000000  142         NaN          NaN   \n",
       "price             21613    NaN              NaN  NaN      540182       367362   \n",
       "room_bed          21613    NaN              NaN  NaN     3.37084     0.930062   \n",
       "room_bath         21613    NaN              NaN  NaN     2.11476     0.770163   \n",
       "living_measure    21613    NaN              NaN  NaN      2079.9      918.441   \n",
       "lot_measure       21613    NaN              NaN  NaN       15107      41420.5   \n",
       "ceil              21613    NaN              NaN  NaN     1.49431     0.539989   \n",
       "coast             21613    NaN              NaN  NaN  0.00754176    0.0865172   \n",
       "sight             21613    NaN              NaN  NaN    0.234303     0.766318   \n",
       "condition         21613    NaN              NaN  NaN     3.40943     0.650743   \n",
       "quality           21613    NaN              NaN  NaN     7.65687      1.17546   \n",
       "ceil_measure      21613    NaN              NaN  NaN     1788.39      828.091   \n",
       "basement          21613    NaN              NaN  NaN     291.509      442.575   \n",
       "yr_built          21613    NaN              NaN  NaN     1971.01      29.3734   \n",
       "yr_renovated      21613    NaN              NaN  NaN     84.4023      401.679   \n",
       "zipcode           21613    NaN              NaN  NaN     98077.9       53.505   \n",
       "lat               21613    NaN              NaN  NaN     47.5601     0.138564   \n",
       "long              21613    NaN              NaN  NaN    -122.214     0.140828   \n",
       "living_measure15  21613    NaN              NaN  NaN     1986.55      685.391   \n",
       "lot_measure15     21613    NaN              NaN  NaN     12768.5      27304.2   \n",
       "furnished         21613    NaN              NaN  NaN    0.196687     0.397503   \n",
       "total_area        21613    NaN              NaN  NaN     17186.9      41589.1   \n",
       "\n",
       "                         min          25%          50%         75%  \\\n",
       "cid               1.0001e+06  2.12305e+09  3.90493e+09  7.3089e+09   \n",
       "dayhours                 NaN          NaN          NaN         NaN   \n",
       "price                  75000       321950       450000      645000   \n",
       "room_bed                   0            3            3           4   \n",
       "room_bath                  0         1.75         2.25         2.5   \n",
       "living_measure           290         1427         1910        2550   \n",
       "lot_measure              520         5040         7618       10688   \n",
       "ceil                       1            1          1.5           2   \n",
       "coast                      0            0            0           0   \n",
       "sight                      0            0            0           0   \n",
       "condition                  1            3            3           4   \n",
       "quality                    1            7            7           8   \n",
       "ceil_measure             290         1190         1560        2210   \n",
       "basement                   0            0            0         560   \n",
       "yr_built                1900         1951         1975        1997   \n",
       "yr_renovated               0            0            0           0   \n",
       "zipcode                98001        98033        98065       98118   \n",
       "lat                  47.1559       47.471      47.5718      47.678   \n",
       "long                -122.519     -122.328      -122.23    -122.125   \n",
       "living_measure15         399         1490         1840        2360   \n",
       "lot_measure15            651         5100         7620       10083   \n",
       "furnished                  0            0            0           0   \n",
       "total_area              1423         7035         9575       13000   \n",
       "\n",
       "                          max  \n",
       "cid                   9.9e+09  \n",
       "dayhours                  NaN  \n",
       "price                 7.7e+06  \n",
       "room_bed                   33  \n",
       "room_bath                   8  \n",
       "living_measure          13540  \n",
       "lot_measure       1.65136e+06  \n",
       "ceil                      3.5  \n",
       "coast                       1  \n",
       "sight                       4  \n",
       "condition                   5  \n",
       "quality                    13  \n",
       "ceil_measure             9410  \n",
       "basement                 4820  \n",
       "yr_built                 2015  \n",
       "yr_renovated             2015  \n",
       "zipcode                 98199  \n",
       "lat                   47.7776  \n",
       "long                 -121.315  \n",
       "living_measure15         6210  \n",
       "lot_measure15          871200  \n",
       "furnished                   1  \n",
       "total_area        1.65266e+06  "
      ]
     },
     "execution_count": 14,
     "metadata": {},
     "output_type": "execute_result"
    }
   ],
   "source": [
    "# Transpose of the dataset\n",
    "city.describe(include='all').T"
   ]
  },
  {
   "cell_type": "markdown",
   "metadata": {
    "id": "xFjSjckGd2As"
   },
   "source": [
    "1. price: Target column value ranges from 75k - 7700k. As Mean > Median, it's Right-Skewed.\n",
    "2. room_bed: Number of bedrooms range from 0 - 33. As Mean slightly > Median, it's slightly Right-Skewed.\n",
    "3. room_bath: Number of bathrooms range from 0 - 8. As Mean slightly < Median, it's slightly Left-Skewed.\n",
    "4. living_measure: As Mean > Median, it's Right-Skewed.\n",
    "5. lot_measure: As Mean almost double of Median, it's Hightly Right-Skewed.\n",
    "6. ceil: Number of floors range from 1 - 3.5 As Mean ~ Median, it's almost Normal Distributed.\n",
    "7. coast: From above analysis we got know, very few houses has waterfront view.\n",
    "8. sight: Value ranges from 0 - 4. As Mean > Median, it's Right-Skewed\n",
    "9. condition: Represents rating of house which ranges from 1 - 5. As Mean > Median, it's Right-Skewed\n",
    "10. quality: Representign grade given to house which range from 1 - 13. As Mean > Median, it's Right-Skewed.\n",
    "11. ceil_measure: As Mean > Median, it's Right-Skewed.\n",
    "12. basement: As Mean highlty > Median, it's Highly Right-Skewed.\n",
    "13. yr_built: House built year ranges from 1900 - 2015. As Mean < Median, it's Left-Skewed.\n",
    "14. yr_renovated: This column can be used as to knowing whether house is renovated or not.\n",
    "15. zipcode: House ZipCode ranges from 98001 - 98199. As Mean > Median, it's Right-Skewed.\n",
    "16. lat: Lattitude , As Mean < Median, it's Left-Skewed.\n",
    "17. long: Longitude , As Mean > Median, it's Right-Skewed.\n",
    "18. living_measure15: As Mean > Median, it's Right-Skewed.\n",
    "19. lot_measure15: As Mean highly > Median, it's Highly Right-Skewed.\n",
    "20. furnished: Representing whether house is furnished or not.\n",
    "21. total_area : As Mean is almost double of Median, it's Highly Right-Skewed"
   ]
  },
  {
   "cell_type": "code",
   "execution_count": 15,
   "metadata": {
    "colab": {
     "base_uri": "https://localhost:8080/"
    },
    "id": "jxxcNAkwhET8",
    "outputId": "b51bb7e2-9fac-49e5-e904-7ca2dd161d6a"
   },
   "outputs": [
    {
     "data": {
      "text/plain": [
       "372"
      ]
     },
     "execution_count": 15,
     "metadata": {},
     "output_type": "execute_result"
    }
   ],
   "source": [
    "# dayhours is in object datatype, needs to be converted into consumable format\n",
    "city.dayhours.nunique()"
   ]
  },
  {
   "cell_type": "markdown",
   "metadata": {
    "id": "nqe23H9FiMDc"
   },
   "source": [
    "* There are total of 372 unique date"
   ]
  },
  {
   "cell_type": "code",
   "execution_count": 16,
   "metadata": {
    "id": "LhKenNm_kcc8"
   },
   "outputs": [],
   "source": [
    "# copy the dataframe\n",
    "city_df = city.copy()"
   ]
  },
  {
   "cell_type": "code",
   "execution_count": 17,
   "metadata": {
    "colab": {
     "base_uri": "https://localhost:8080/"
    },
    "id": "cHUbDv-uh_oF",
    "outputId": "87d1928c-0e6f-4125-eed4-24ec4a79ccea"
   },
   "outputs": [
    {
     "data": {
      "text/plain": [
       "0    November-2014\n",
       "1    December-2014\n",
       "2       April-2015\n",
       "3         May-2014\n",
       "4       April-2015\n",
       "Name: month_year, dtype: object"
      ]
     },
     "execution_count": 17,
     "metadata": {},
     "output_type": "execute_result"
    }
   ],
   "source": [
    "# converting dayhours column to month year\n",
    "city.dayhours=city.dayhours.str.replace('T000000', \"\")\n",
    "city.dayhours=pd.to_datetime(city.dayhours,format='%Y%m%d')\n",
    "city['month_year']=city['dayhours'].apply(lambda x: x.strftime('%B-%Y'))\n",
    "city['month_year'].head()\n"
   ]
  },
  {
   "cell_type": "code",
   "execution_count": 18,
   "metadata": {
    "colab": {
     "base_uri": "https://localhost:8080/"
    },
    "id": "K-RFcsNYnPRi",
    "outputId": "6077c159-8ffc-4fc7-f8a2-b18232719621"
   },
   "outputs": [
    {
     "data": {
      "text/plain": [
       "0    2014\n",
       "1    2014\n",
       "2    2015\n",
       "3    2014\n",
       "4    2015\n",
       "Name: house_sold_year, dtype: int64"
      ]
     },
     "execution_count": 18,
     "metadata": {},
     "output_type": "execute_result"
    }
   ],
   "source": [
    "#retriving the year from dayhours columns and created new house_sold_year \n",
    "city['house_sold_year'] = city['dayhours'].dt.year\n",
    "city['house_sold_year'].head()"
   ]
  },
  {
   "cell_type": "code",
   "execution_count": 19,
   "metadata": {
    "colab": {
     "base_uri": "https://localhost:8080/"
    },
    "id": "_ug-6xRepdcO",
    "outputId": "a9c1ee12-926b-4009-ce59-e506cd77c7d1"
   },
   "outputs": [
    {
     "data": {
      "text/plain": [
       "0    58\n",
       "1    38\n",
       "2     9\n",
       "3    98\n",
       "4    61\n",
       "Name: house_age, dtype: int64"
      ]
     },
     "execution_count": 19,
     "metadata": {},
     "output_type": "execute_result"
    }
   ],
   "source": [
    "#Determining the age of the house using the house_sold_year and yr_built column\n",
    "city['house_age'] = (city['house_sold_year'])-(city['yr_built'])\n",
    "\n",
    "#droping the dayhours columns and we have the house _sold year new column\n",
    "city.drop('dayhours', axis=1 ,inplace=True)\n",
    "#Created new feature house_age and from house_sold_year and the yr_built and drop the dayhours columns\n",
    "city['house_age'].head()"
   ]
  },
  {
   "cell_type": "code",
   "execution_count": 20,
   "metadata": {
    "colab": {
     "base_uri": "https://localhost:8080/"
    },
    "id": "Qq3-E8DIqddM",
    "outputId": "415dd25e-f41c-48bd-de41-aaedec39fae3"
   },
   "outputs": [
    {
     "name": "stdout",
     "output_type": "stream",
     "text": [
      "<class 'pandas.core.frame.DataFrame'>\n",
      "RangeIndex: 21613 entries, 0 to 21612\n",
      "Data columns (total 25 columns):\n",
      "cid                 21613 non-null int64\n",
      "price               21613 non-null int64\n",
      "room_bed            21613 non-null int64\n",
      "room_bath           21613 non-null float64\n",
      "living_measure      21613 non-null int64\n",
      "lot_measure         21613 non-null int64\n",
      "ceil                21613 non-null float64\n",
      "coast               21613 non-null int64\n",
      "sight               21613 non-null int64\n",
      "condition           21613 non-null int64\n",
      "quality             21613 non-null int64\n",
      "ceil_measure        21613 non-null int64\n",
      "basement            21613 non-null int64\n",
      "yr_built            21613 non-null int64\n",
      "yr_renovated        21613 non-null int64\n",
      "zipcode             21613 non-null int64\n",
      "lat                 21613 non-null float64\n",
      "long                21613 non-null float64\n",
      "living_measure15    21613 non-null int64\n",
      "lot_measure15       21613 non-null int64\n",
      "furnished           21613 non-null int64\n",
      "total_area          21613 non-null int64\n",
      "month_year          21613 non-null object\n",
      "house_sold_year     21613 non-null int64\n",
      "house_age           21613 non-null int64\n",
      "dtypes: float64(4), int64(20), object(1)\n",
      "memory usage: 4.1+ MB\n"
     ]
    }
   ],
   "source": [
    "city.info()"
   ]
  },
  {
   "cell_type": "code",
   "execution_count": 21,
   "metadata": {
    "colab": {
     "base_uri": "https://localhost:8080/"
    },
    "id": "pyiW5RwCqwwc",
    "outputId": "a4e414d2-b192-4f32-c95b-639d2adf85f8"
   },
   "outputs": [
    {
     "data": {
      "text/plain": [
       "April-2015        2231\n",
       "July-2014         2211\n",
       "June-2014         2180\n",
       "August-2014       1940\n",
       "October-2014      1878\n",
       "March-2015        1875\n",
       "September-2014    1774\n",
       "May-2014          1768\n",
       "December-2014     1471\n",
       "November-2014     1411\n",
       "February-2015     1250\n",
       "January-2015       978\n",
       "May-2015           646\n",
       "Name: month_year, dtype: int64"
      ]
     },
     "execution_count": 21,
     "metadata": {},
     "output_type": "execute_result"
    }
   ],
   "source": [
    "city['month_year'].value_counts()"
   ]
  },
  {
   "cell_type": "markdown",
   "metadata": {
    "id": "4PPg1z5Vq1mm"
   },
   "source": [
    "* Most houses were sold in April, July month"
   ]
  },
  {
   "cell_type": "code",
   "execution_count": 22,
   "metadata": {
    "colab": {
     "base_uri": "https://localhost:8080/"
    },
    "id": "AY6yXUBiq6Rr",
    "outputId": "f7d681d3-d4c5-4431-e0dc-f6b13ad94b49"
   },
   "outputs": [
    {
     "data": {
      "text/plain": [
       "0    20699\n",
       "1      914\n",
       "Name: yr_renovated, dtype: int64"
      ]
     },
     "execution_count": 22,
     "metadata": {},
     "output_type": "execute_result"
    }
   ],
   "source": [
    "#  Houses not renovated are mentioned as '0' and the renovated house are mentioned in year. convert the year of renovated house to '1'.\n",
    "city.loc[city['yr_renovated'] > 0, 'yr_renovated'] = 1\n",
    "city[\"yr_renovated\"].value_counts()"
   ]
  },
  {
   "cell_type": "markdown",
   "metadata": {
    "id": "AP4Y6sDHr5XB"
   },
   "source": [
    "* So, 914 houses are renovated and 20699 houses are not renovated"
   ]
  },
  {
   "cell_type": "markdown",
   "metadata": {
    "id": "wJ_mC4UAsaAc"
   },
   "source": [
    "### EDA\n",
    "#### Univariate Analysis - By BoxPlot"
   ]
  },
  {
   "cell_type": "markdown",
   "metadata": {
    "id": "XNza1fhmtVXq"
   },
   "source": [
    "* We'll create multiple boxplots based on range fo values for proper visualization."
   ]
  },
  {
   "cell_type": "code",
   "execution_count": 23,
   "metadata": {
    "colab": {
     "base_uri": "https://localhost:8080/",
     "height": 352
    },
    "id": "C5qCn0egr_Qh",
    "outputId": "9b376d8c-9365-4c41-9f79-29d87e2e9c42"
   },
   "outputs": [
    {
     "data": {
      "text/plain": [
       "<matplotlib.axes._subplots.AxesSubplot at 0x1d7d975bc88>"
      ]
     },
     "execution_count": 23,
     "metadata": {},
     "output_type": "execute_result"
    },
    {
     "data": {
      "image/png": "[encoded data removed]",
      "text/plain": [
       "<Figure size 720x360 with 1 Axes>"
      ]
     },
     "metadata": {
      "needs_background": "light"
     },
     "output_type": "display_data"
    }
   ],
   "source": [
    "# House Price values\n",
    "# the plot below indicates Price (target variable) have a of values are > $1 mm but only a dozen values >$4mm out of 21613.\n",
    "\n",
    "plt.figure(figsize=(10,5))\n",
    "city.boxplot(column=['price'] ,vert=False) "
   ]
  },
  {
   "cell_type": "code",
   "execution_count": 24,
   "metadata": {
    "colab": {
     "base_uri": "https://localhost:8080/",
     "height": 1000
    },
    "id": "e9UDm56yzJqu",
    "outputId": "a7987b21-9a9f-4fe7-c6a1-7eea0a370959"
   },
   "outputs": [],
   "source": [
    "# k=1\n",
    "# plt.figure(figsize=(15,20))\n",
    "\n",
    "# for col in city.columns[2:22]: \n",
    "#     plt.subplot(5,4,k)\n",
    "#     sns.boxplot(city[col],color='blue')\n",
    "#     k=k+1"
   ]
  },
  {
   "cell_type": "markdown",
   "metadata": {
    "id": "YiUrArXy4p1i"
   },
   "source": [
    "* From the box plot we can say that we have a more no of outliers in the data set Total_area ,long, living_measures15 , lot_measure15,basement, ceil_measure, quality, lot_measure, living meausre , room bath and room bed.\n",
    "\n",
    "* Furnished , yr_renovated and coast columns are having 0 ot 1 value\n",
    "\n",
    "* No outliers in ceil,yr_built and Zipcode columns"
   ]
  },
  {
   "cell_type": "code",
   "execution_count": 25,
   "metadata": {
    "id": "6hy9VQ1L5tqZ"
   },
   "outputs": [],
   "source": [
    " # making a copy \n",
    "# room_bed & room_bath show minimum reading of 0, which is not feasible for a house.\n",
    "\n",
    "city1 = city.copy()\n",
    "city1.drop(city1[city1['room_bed'] == 0 ].index, inplace = True) # droping the room_bed with 0 value\n",
    "city1.drop(city1[city1['room_bath'] == 0 ].index, inplace = True) #droping the room_bath with 0 value"
   ]
  },
  {
   "cell_type": "code",
   "execution_count": 26,
   "metadata": {
    "colab": {
     "base_uri": "https://localhost:8080/",
     "height": 778
    },
    "id": "ihQFG0zI6YSk",
    "outputId": "82ff13bb-3a00-4684-d3a9-5edbb76c8a08"
   },
   "outputs": [
    {
     "data": {
      "text/html": [
       "<div>\n",
       "<style scoped>\n",
       "    .dataframe tbody tr th:only-of-type {\n",
       "        vertical-align: middle;\n",
       "    }\n",
       "\n",
       "    .dataframe tbody tr th {\n",
       "        vertical-align: top;\n",
       "    }\n",
       "\n",
       "    .dataframe thead th {\n",
       "        text-align: right;\n",
       "    }\n",
       "</style>\n",
       "<table border=\"1\" class=\"dataframe\">\n",
       "  <thead>\n",
       "    <tr style=\"text-align: right;\">\n",
       "      <th></th>\n",
       "      <th>count</th>\n",
       "      <th>mean</th>\n",
       "      <th>std</th>\n",
       "      <th>min</th>\n",
       "      <th>25%</th>\n",
       "      <th>50%</th>\n",
       "      <th>75%</th>\n",
       "      <th>max</th>\n",
       "    </tr>\n",
       "  </thead>\n",
       "  <tbody>\n",
       "    <tr>\n",
       "      <th>cid</th>\n",
       "      <td>21597.00000</td>\n",
       "      <td>4580474287.77099</td>\n",
       "      <td>2876735715.74778</td>\n",
       "      <td>1000102.00000</td>\n",
       "      <td>2123049175.00000</td>\n",
       "      <td>3904930410.00000</td>\n",
       "      <td>7308900490.00000</td>\n",
       "      <td>9900000190.00000</td>\n",
       "    </tr>\n",
       "    <tr>\n",
       "      <th>price</th>\n",
       "      <td>21597.00000</td>\n",
       "      <td>540296.57351</td>\n",
       "      <td>367368.14010</td>\n",
       "      <td>78000.00000</td>\n",
       "      <td>322000.00000</td>\n",
       "      <td>450000.00000</td>\n",
       "      <td>645000.00000</td>\n",
       "      <td>7700000.00000</td>\n",
       "    </tr>\n",
       "    <tr>\n",
       "      <th>room_bed</th>\n",
       "      <td>21597.00000</td>\n",
       "      <td>3.37320</td>\n",
       "      <td>0.92630</td>\n",
       "      <td>1.00000</td>\n",
       "      <td>3.00000</td>\n",
       "      <td>3.00000</td>\n",
       "      <td>4.00000</td>\n",
       "      <td>33.00000</td>\n",
       "    </tr>\n",
       "    <tr>\n",
       "      <th>room_bath</th>\n",
       "      <td>21597.00000</td>\n",
       "      <td>2.11583</td>\n",
       "      <td>0.76898</td>\n",
       "      <td>0.50000</td>\n",
       "      <td>1.75000</td>\n",
       "      <td>2.25000</td>\n",
       "      <td>2.50000</td>\n",
       "      <td>8.00000</td>\n",
       "    </tr>\n",
       "    <tr>\n",
       "      <th>living_measure</th>\n",
       "      <td>21597.00000</td>\n",
       "      <td>2080.32185</td>\n",
       "      <td>918.10613</td>\n",
       "      <td>370.00000</td>\n",
       "      <td>1430.00000</td>\n",
       "      <td>1910.00000</td>\n",
       "      <td>2550.00000</td>\n",
       "      <td>13540.00000</td>\n",
       "    </tr>\n",
       "    <tr>\n",
       "      <th>lot_measure</th>\n",
       "      <td>21597.00000</td>\n",
       "      <td>15099.40876</td>\n",
       "      <td>41412.63688</td>\n",
       "      <td>520.00000</td>\n",
       "      <td>5040.00000</td>\n",
       "      <td>7618.00000</td>\n",
       "      <td>10685.00000</td>\n",
       "      <td>1651359.00000</td>\n",
       "    </tr>\n",
       "    <tr>\n",
       "      <th>ceil</th>\n",
       "      <td>21597.00000</td>\n",
       "      <td>1.49410</td>\n",
       "      <td>0.53968</td>\n",
       "      <td>1.00000</td>\n",
       "      <td>1.00000</td>\n",
       "      <td>1.50000</td>\n",
       "      <td>2.00000</td>\n",
       "      <td>3.50000</td>\n",
       "    </tr>\n",
       "    <tr>\n",
       "      <th>coast</th>\n",
       "      <td>21597.00000</td>\n",
       "      <td>0.00755</td>\n",
       "      <td>0.08655</td>\n",
       "      <td>0.00000</td>\n",
       "      <td>0.00000</td>\n",
       "      <td>0.00000</td>\n",
       "      <td>0.00000</td>\n",
       "      <td>1.00000</td>\n",
       "    </tr>\n",
       "    <tr>\n",
       "      <th>sight</th>\n",
       "      <td>21597.00000</td>\n",
       "      <td>0.23429</td>\n",
       "      <td>0.76639</td>\n",
       "      <td>0.00000</td>\n",
       "      <td>0.00000</td>\n",
       "      <td>0.00000</td>\n",
       "      <td>0.00000</td>\n",
       "      <td>4.00000</td>\n",
       "    </tr>\n",
       "    <tr>\n",
       "      <th>condition</th>\n",
       "      <td>21597.00000</td>\n",
       "      <td>3.40983</td>\n",
       "      <td>0.65055</td>\n",
       "      <td>1.00000</td>\n",
       "      <td>3.00000</td>\n",
       "      <td>3.00000</td>\n",
       "      <td>4.00000</td>\n",
       "      <td>5.00000</td>\n",
       "    </tr>\n",
       "    <tr>\n",
       "      <th>quality</th>\n",
       "      <td>21597.00000</td>\n",
       "      <td>7.65792</td>\n",
       "      <td>1.17320</td>\n",
       "      <td>3.00000</td>\n",
       "      <td>7.00000</td>\n",
       "      <td>7.00000</td>\n",
       "      <td>8.00000</td>\n",
       "      <td>13.00000</td>\n",
       "    </tr>\n",
       "    <tr>\n",
       "      <th>ceil_measure</th>\n",
       "      <td>21597.00000</td>\n",
       "      <td>1788.59684</td>\n",
       "      <td>827.75976</td>\n",
       "      <td>370.00000</td>\n",
       "      <td>1190.00000</td>\n",
       "      <td>1560.00000</td>\n",
       "      <td>2210.00000</td>\n",
       "      <td>9410.00000</td>\n",
       "    </tr>\n",
       "    <tr>\n",
       "      <th>basement</th>\n",
       "      <td>21597.00000</td>\n",
       "      <td>291.72501</td>\n",
       "      <td>442.66780</td>\n",
       "      <td>0.00000</td>\n",
       "      <td>0.00000</td>\n",
       "      <td>0.00000</td>\n",
       "      <td>560.00000</td>\n",
       "      <td>4820.00000</td>\n",
       "    </tr>\n",
       "    <tr>\n",
       "      <th>yr_built</th>\n",
       "      <td>21597.00000</td>\n",
       "      <td>1970.99968</td>\n",
       "      <td>29.37523</td>\n",
       "      <td>1900.00000</td>\n",
       "      <td>1951.00000</td>\n",
       "      <td>1975.00000</td>\n",
       "      <td>1997.00000</td>\n",
       "      <td>2015.00000</td>\n",
       "    </tr>\n",
       "    <tr>\n",
       "      <th>yr_renovated</th>\n",
       "      <td>21597.00000</td>\n",
       "      <td>0.04232</td>\n",
       "      <td>0.20132</td>\n",
       "      <td>0.00000</td>\n",
       "      <td>0.00000</td>\n",
       "      <td>0.00000</td>\n",
       "      <td>0.00000</td>\n",
       "      <td>1.00000</td>\n",
       "    </tr>\n",
       "    <tr>\n",
       "      <th>zipcode</th>\n",
       "      <td>21597.00000</td>\n",
       "      <td>98077.95185</td>\n",
       "      <td>53.51307</td>\n",
       "      <td>98001.00000</td>\n",
       "      <td>98033.00000</td>\n",
       "      <td>98065.00000</td>\n",
       "      <td>98118.00000</td>\n",
       "      <td>98199.00000</td>\n",
       "    </tr>\n",
       "    <tr>\n",
       "      <th>lat</th>\n",
       "      <td>21597.00000</td>\n",
       "      <td>47.56009</td>\n",
       "      <td>0.13855</td>\n",
       "      <td>47.15590</td>\n",
       "      <td>47.47110</td>\n",
       "      <td>47.57180</td>\n",
       "      <td>47.67800</td>\n",
       "      <td>47.77760</td>\n",
       "    </tr>\n",
       "    <tr>\n",
       "      <th>long</th>\n",
       "      <td>21597.00000</td>\n",
       "      <td>-122.21398</td>\n",
       "      <td>0.14072</td>\n",
       "      <td>-122.51900</td>\n",
       "      <td>-122.32800</td>\n",
       "      <td>-122.23100</td>\n",
       "      <td>-122.12500</td>\n",
       "      <td>-121.31500</td>\n",
       "    </tr>\n",
       "    <tr>\n",
       "      <th>living_measure15</th>\n",
       "      <td>21597.00000</td>\n",
       "      <td>1986.62032</td>\n",
       "      <td>685.23047</td>\n",
       "      <td>399.00000</td>\n",
       "      <td>1490.00000</td>\n",
       "      <td>1840.00000</td>\n",
       "      <td>2360.00000</td>\n",
       "      <td>6210.00000</td>\n",
       "    </tr>\n",
       "    <tr>\n",
       "      <th>lot_measure15</th>\n",
       "      <td>21597.00000</td>\n",
       "      <td>12758.28351</td>\n",
       "      <td>27274.44195</td>\n",
       "      <td>651.00000</td>\n",
       "      <td>5100.00000</td>\n",
       "      <td>7620.00000</td>\n",
       "      <td>10083.00000</td>\n",
       "      <td>871200.00000</td>\n",
       "    </tr>\n",
       "    <tr>\n",
       "      <th>furnished</th>\n",
       "      <td>21597.00000</td>\n",
       "      <td>0.19679</td>\n",
       "      <td>0.39758</td>\n",
       "      <td>0.00000</td>\n",
       "      <td>0.00000</td>\n",
       "      <td>0.00000</td>\n",
       "      <td>0.00000</td>\n",
       "      <td>1.00000</td>\n",
       "    </tr>\n",
       "    <tr>\n",
       "      <th>total_area</th>\n",
       "      <td>21597.00000</td>\n",
       "      <td>17179.73061</td>\n",
       "      <td>41581.71688</td>\n",
       "      <td>1423.00000</td>\n",
       "      <td>7036.00000</td>\n",
       "      <td>9575.00000</td>\n",
       "      <td>12995.00000</td>\n",
       "      <td>1652659.00000</td>\n",
       "    </tr>\n",
       "    <tr>\n",
       "      <th>house_sold_year</th>\n",
       "      <td>21597.00000</td>\n",
       "      <td>2014.32296</td>\n",
       "      <td>0.46762</td>\n",
       "      <td>2014.00000</td>\n",
       "      <td>2014.00000</td>\n",
       "      <td>2014.00000</td>\n",
       "      <td>2015.00000</td>\n",
       "      <td>2015.00000</td>\n",
       "    </tr>\n",
       "    <tr>\n",
       "      <th>house_age</th>\n",
       "      <td>21597.00000</td>\n",
       "      <td>43.32329</td>\n",
       "      <td>29.37728</td>\n",
       "      <td>-1.00000</td>\n",
       "      <td>18.00000</td>\n",
       "      <td>40.00000</td>\n",
       "      <td>63.00000</td>\n",
       "      <td>115.00000</td>\n",
       "    </tr>\n",
       "  </tbody>\n",
       "</table>\n",
       "</div>"
      ],
      "text/plain": [
       "                       count             mean              std           min  \\\n",
       "cid              21597.00000 4580474287.77099 2876735715.74778 1000102.00000   \n",
       "price            21597.00000     540296.57351     367368.14010   78000.00000   \n",
       "room_bed         21597.00000          3.37320          0.92630       1.00000   \n",
       "room_bath        21597.00000          2.11583          0.76898       0.50000   \n",
       "living_measure   21597.00000       2080.32185        918.10613     370.00000   \n",
       "lot_measure      21597.00000      15099.40876      41412.63688     520.00000   \n",
       "ceil             21597.00000          1.49410          0.53968       1.00000   \n",
       "coast            21597.00000          0.00755          0.08655       0.00000   \n",
       "sight            21597.00000          0.23429          0.76639       0.00000   \n",
       "condition        21597.00000          3.40983          0.65055       1.00000   \n",
       "quality          21597.00000          7.65792          1.17320       3.00000   \n",
       "ceil_measure     21597.00000       1788.59684        827.75976     370.00000   \n",
       "basement         21597.00000        291.72501        442.66780       0.00000   \n",
       "yr_built         21597.00000       1970.99968         29.37523    1900.00000   \n",
       "yr_renovated     21597.00000          0.04232          0.20132       0.00000   \n",
       "zipcode          21597.00000      98077.95185         53.51307   98001.00000   \n",
       "lat              21597.00000         47.56009          0.13855      47.15590   \n",
       "long             21597.00000       -122.21398          0.14072    -122.51900   \n",
       "living_measure15 21597.00000       1986.62032        685.23047     399.00000   \n",
       "lot_measure15    21597.00000      12758.28351      27274.44195     651.00000   \n",
       "furnished        21597.00000          0.19679          0.39758       0.00000   \n",
       "total_area       21597.00000      17179.73061      41581.71688    1423.00000   \n",
       "house_sold_year  21597.00000       2014.32296          0.46762    2014.00000   \n",
       "house_age        21597.00000         43.32329         29.37728      -1.00000   \n",
       "\n",
       "                              25%              50%              75%  \\\n",
       "cid              2123049175.00000 3904930410.00000 7308900490.00000   \n",
       "price                322000.00000     450000.00000     645000.00000   \n",
       "room_bed                  3.00000          3.00000          4.00000   \n",
       "room_bath                 1.75000          2.25000          2.50000   \n",
       "living_measure         1430.00000       1910.00000       2550.00000   \n",
       "lot_measure            5040.00000       7618.00000      10685.00000   \n",
       "ceil                      1.00000          1.50000          2.00000   \n",
       "coast                     0.00000          0.00000          0.00000   \n",
       "sight                     0.00000          0.00000          0.00000   \n",
       "condition                 3.00000          3.00000          4.00000   \n",
       "quality                   7.00000          7.00000          8.00000   \n",
       "ceil_measure           1190.00000       1560.00000       2210.00000   \n",
       "basement                  0.00000          0.00000        560.00000   \n",
       "yr_built               1951.00000       1975.00000       1997.00000   \n",
       "yr_renovated              0.00000          0.00000          0.00000   \n",
       "zipcode               98033.00000      98065.00000      98118.00000   \n",
       "lat                      47.47110         47.57180         47.67800   \n",
       "long                   -122.32800       -122.23100       -122.12500   \n",
       "living_measure15       1490.00000       1840.00000       2360.00000   \n",
       "lot_measure15          5100.00000       7620.00000      10083.00000   \n",
       "furnished                 0.00000          0.00000          0.00000   \n",
       "total_area             7036.00000       9575.00000      12995.00000   \n",
       "house_sold_year        2014.00000       2014.00000       2015.00000   \n",
       "house_age                18.00000         40.00000         63.00000   \n",
       "\n",
       "                              max  \n",
       "cid              9900000190.00000  \n",
       "price               7700000.00000  \n",
       "room_bed                 33.00000  \n",
       "room_bath                 8.00000  \n",
       "living_measure        13540.00000  \n",
       "lot_measure         1651359.00000  \n",
       "ceil                      3.50000  \n",
       "coast                     1.00000  \n",
       "sight                     4.00000  \n",
       "condition                 5.00000  \n",
       "quality                  13.00000  \n",
       "ceil_measure           9410.00000  \n",
       "basement               4820.00000  \n",
       "yr_built               2015.00000  \n",
       "yr_renovated              1.00000  \n",
       "zipcode               98199.00000  \n",
       "lat                      47.77760  \n",
       "long                   -121.31500  \n",
       "living_measure15       6210.00000  \n",
       "lot_measure15        871200.00000  \n",
       "furnished                 1.00000  \n",
       "total_area          1652659.00000  \n",
       "house_sold_year        2015.00000  \n",
       "house_age               115.00000  "
      ]
     },
     "execution_count": 26,
     "metadata": {},
     "output_type": "execute_result"
    }
   ],
   "source": [
    "pd.set_option('display.float_format', lambda x: '%.5f' % x)\n",
    "city1.describe().transpose()"
   ]
  },
  {
   "cell_type": "code",
   "execution_count": 27,
   "metadata": {
    "colab": {
     "base_uri": "https://localhost:8080/"
    },
    "id": "GsW18ChT6_xd",
    "outputId": "c5d5804d-02f7-4c63-a24e-4bf75768a996"
   },
   "outputs": [
    {
     "data": {
      "text/plain": [
       "0    17347\n",
       "1     4250\n",
       "Name: furnished, dtype: int64"
      ]
     },
     "execution_count": 27,
     "metadata": {},
     "output_type": "execute_result"
    }
   ],
   "source": [
    "# 0 represent houses are not furnished and 1 represent houses are furnished\n",
    "city1['furnished'].value_counts()"
   ]
  },
  {
   "cell_type": "markdown",
   "metadata": {
    "id": "XJsAvgyz7K5f"
   },
   "source": [
    "* So, 4250 houses are Furnished and 17347 houses are not furnished"
   ]
  },
  {
   "cell_type": "code",
   "execution_count": 28,
   "metadata": {
    "colab": {
     "base_uri": "https://localhost:8080/"
    },
    "id": "QetgBI817zKe",
    "outputId": "e640c2a8-271b-414c-de70-2ef7135d0a8c"
   },
   "outputs": [
    {
     "data": {
      "text/plain": [
       "0    21434\n",
       "1      163\n",
       "Name: coast, dtype: int64"
      ]
     },
     "execution_count": 28,
     "metadata": {},
     "output_type": "execute_result"
    }
   ],
   "source": [
    "# coast - 0 = donot have waterfront view, 1  = waterfront view\n",
    "city1.coast.value_counts()"
   ]
  },
  {
   "cell_type": "markdown",
   "metadata": {
    "id": "X4bGpHxV8GVv"
   },
   "source": [
    "* So, 163 houses are having waterfront view and 21434 houses don't have waterfront view."
   ]
  },
  {
   "cell_type": "code",
   "execution_count": 29,
   "metadata": {
    "colab": {
     "base_uri": "https://localhost:8080/",
     "height": 1000
    },
    "id": "pAZKaWRV8VF4",
    "outputId": "45dd838e-bf5a-4583-b501-b0574ccadc4d"
   },
   "outputs": [],
   "source": [
    "# visualation of skewness\n",
    "\n",
    "# k=1\n",
    "# plt.figure(figsize=(20,30))\n",
    "\n",
    "# for col in city1.columns[2:22]: \n",
    "#     plt.subplot(5,4,k)\n",
    "#     sns.distplot(city1[col],color='blue')\n",
    "#     k=k+1"
   ]
  },
  {
   "cell_type": "markdown",
   "metadata": {
    "id": "LK59HbfU_5ck"
   },
   "source": [
    "* price , room_bed , living_measure , lot_measure ,sight , condition , quality , ceil_measure , basement , zipcode , long ,living_measure15 , lot_measure15 , total_area: are Right-Skewed.\n",
    "\n",
    "* room_bath , yr_built , lat  : are Left-Skewed.\n",
    "\n",
    "* ceil: it's almost Normal Distributed.\n",
    "\n",
    "* Max room_bed value of 33\n",
    "* A lot of houses don't have basement (reads 0)"
   ]
  },
  {
   "cell_type": "markdown",
   "metadata": {
    "id": "8LYgm-vO_nLH"
   },
   "source": [
    "#### outlier treatment"
   ]
  },
  {
   "cell_type": "code",
   "execution_count": 30,
   "metadata": {
    "colab": {
     "base_uri": "https://localhost:8080/",
     "height": 298
    },
    "id": "kwWf_xSw_qkL",
    "outputId": "c0dc97fa-2066-427f-c03d-0851f11ec682"
   },
   "outputs": [
    {
     "data": {
      "text/plain": [
       "<matplotlib.axes._subplots.AxesSubplot at 0x1d7d9454ba8>"
      ]
     },
     "execution_count": 30,
     "metadata": {},
     "output_type": "execute_result"
    },
    {
     "data": {
      "image/png": "[encoded data removed]",
      "text/plain": [
       "<Figure size 432x288 with 1 Axes>"
      ]
     },
     "metadata": {
      "needs_background": "light"
     },
     "output_type": "display_data"
    }
   ],
   "source": [
    "city_new=city1.copy()\n",
    "\n",
    "city_new.drop(city_new[city_new['price'] > 4000000].index, inplace = True) # only 12 values are > $4mm.\n",
    "\n",
    "city_new.boxplot(column=['price'] , vert=False)"
   ]
  },
  {
   "cell_type": "code",
   "execution_count": 31,
   "metadata": {
    "colab": {
     "base_uri": "https://localhost:8080/",
     "height": 285
    },
    "id": "8WkS2_fTDFnv",
    "outputId": "5f7d5830-088b-4cb1-a95b-3f5872161753"
   },
   "outputs": [
    {
     "data": {
      "text/plain": [
       "<matplotlib.axes._subplots.AxesSubplot at 0x1d7d93c4128>"
      ]
     },
     "execution_count": 31,
     "metadata": {},
     "output_type": "execute_result"
    },
    {
     "data": {
      "image/png": "[encoded data removed]",
      "text/plain": [
       "<Figure size 432x288 with 1 Axes>"
      ]
     },
     "metadata": {
      "needs_background": "light"
     },
     "output_type": "display_data"
    }
   ],
   "source": [
    "#outlier treatment for column 2 Room_bed DISCRETE VALUE replacing outliers with 99th and 5th percentile value as mean was giving a float value\n",
    "\n",
    "q3 = city_new['room_bed'].quantile(0.75)\n",
    "q1 = city_new['room_bed'].quantile(0.25)\n",
    "t = q3-q1\n",
    "outliers_above = q3+(t*1.5)\n",
    "outliers_below = q1-(t*1.5)\n",
    "\n",
    "\n",
    "city_new['room_bed']=np.where(city_new.room_bed > outliers_above,np.percentile(city_new.room_bed,99),city_new.room_bed)\n",
    "city_new['room_bed']=np.where(city_new.room_bed < outliers_below,np.percentile(city_new.room_bed,5),city_new.room_bed)\n",
    "\n",
    "city_new.boxplot(column=['room_bed'] , vert=False)"
   ]
  },
  {
   "cell_type": "code",
   "execution_count": 32,
   "metadata": {
    "colab": {
     "base_uri": "https://localhost:8080/"
    },
    "id": "deMFs9QT_7qS",
    "outputId": "6d7900da-2623-423b-c5b8-3aa5a4a361a6"
   },
   "outputs": [
    {
     "name": "stdout",
     "output_type": "stream",
     "text": [
      "1278\n",
      "75\n"
     ]
    }
   ],
   "source": [
    "#oulier treatment for column 3 room_bath\n",
    "q3 = city_new['room_bath'].quantile(0.75)\n",
    "q1 = city_new['room_bath'].quantile(0.25)\n",
    "t = q3-q1\n",
    "outliers_above = q3+t\n",
    "outliers_below = q1-t\n",
    "\n",
    "print(city_new['room_bath'].loc[city_new['room_bath']>outliers_above].count())\n",
    "print(city_new['room_bath'].loc[city_new['room_bath']<outliers_below].count())\n",
    "mean_val = city_new['room_bath'].loc[city_new['room_bath']<=outliers_above].mean()\n",
    "city_new['room_bath'] = city_new['room_bath'].mask(city_new['room_bath']>outliers_above,mean_val)\n"
   ]
  },
  {
   "cell_type": "code",
   "execution_count": 33,
   "metadata": {
    "colab": {
     "base_uri": "https://localhost:8080/"
    },
    "id": "SXvbWgCjADd7",
    "outputId": "c67add7f-d84c-4445-d8c6-04be6016df3e"
   },
   "outputs": [
    {
     "name": "stdout",
     "output_type": "stream",
     "text": [
      "1218\n",
      "0\n"
     ]
    }
   ],
   "source": [
    "#oulier treatment for column 4 living_measure\n",
    "q3 = city_new['living_measure'].quantile(0.75)\n",
    "q1 = city_new['living_measure'].quantile(0.25)\n",
    "t = q3-q1\n",
    "outliers_above = q3+t\n",
    "outliers_below = q1-t\n",
    "\n",
    "print(city_new['living_measure'].loc[city['living_measure']>outliers_above].count())\n",
    "print(city_new['living_measure'].loc[city['living_measure']<outliers_below].count())\n",
    "median_val = city_new['living_measure'].loc[city_new['living_measure']<=outliers_above].median()\n",
    "city_new['living_measure'] = city_new['living_measure'].mask(city_new['living_measure']>outliers_above,median_val)"
   ]
  },
  {
   "cell_type": "code",
   "execution_count": 34,
   "metadata": {
    "colab": {
     "base_uri": "https://localhost:8080/",
     "height": 318
    },
    "id": "lW2aVEpxAI3t",
    "outputId": "63faff26-9594-47b1-d850-6f05434f1fa6"
   },
   "outputs": [
    {
     "name": "stdout",
     "output_type": "stream",
     "text": [
      "2867\n",
      "0\n"
     ]
    },
    {
     "data": {
      "text/plain": [
       "<matplotlib.axes._subplots.AxesSubplot at 0x1d7d947dac8>"
      ]
     },
     "execution_count": 34,
     "metadata": {},
     "output_type": "execute_result"
    },
    {
     "data": {
      "image/png": "[encoded data removed]",
      "text/plain": [
       "<Figure size 432x288 with 1 Axes>"
      ]
     },
     "metadata": {
      "needs_background": "light"
     },
     "output_type": "display_data"
    }
   ],
   "source": [
    "#oulier treatment for column 5 lot_measure CONTINOUS VALUE- REPLACING WITH MEDIAN \n",
    "q3 = city_new['lot_measure'].quantile(0.75)\n",
    "q1 = city_new['lot_measure'].quantile(0.25)\n",
    "t = q3-q1\n",
    "outliers_above = q3+t\n",
    "outliers_below = q1-t\n",
    "\n",
    "print(city_new['lot_measure'].loc[city_new['lot_measure']>outliers_above].count())\n",
    "print(city_new['lot_measure'].loc[city_new['lot_measure']<outliers_below].count())\n",
    "median_val = city_new['lot_measure'].loc[city_new['lot_measure']<=outliers_above].median()\n",
    "city_new['lot_measure'] = city_new['lot_measure'].mask(city_new['lot_measure']>outliers_above,median_val)\n",
    "\n",
    "city_new.boxplot(column=['lot_measure'] , vert=False)"
   ]
  },
  {
   "cell_type": "code",
   "execution_count": 35,
   "metadata": {
    "colab": {
     "base_uri": "https://localhost:8080/"
    },
    "id": "2-MqzJEKAODe",
    "outputId": "9299e733-1942-420b-8208-f2debd448015"
   },
   "outputs": [
    {
     "name": "stdout",
     "output_type": "stream",
     "text": [
      "1360\n",
      "0\n"
     ]
    }
   ],
   "source": [
    "#oulier treatment for column 11 ceil_measure\n",
    "q3 = city_new['ceil_measure'].quantile(0.75)\n",
    "q1 = city_new['ceil_measure'].quantile(0.25)\n",
    "t = q3-q1\n",
    "outliers_above = q3+t\n",
    "outliers_below = q1-t\n",
    "\n",
    "print(city_new['ceil_measure'].loc[city_new['ceil_measure']>outliers_above].count())\n",
    "print(city_new['ceil_measure'].loc[city_new['ceil_measure']<outliers_below].count())\n",
    "median_val = city_new['ceil_measure'].loc[city_new['ceil_measure']<=outliers_above].median()\n",
    "city_new['ceil_measure'] = city_new['ceil_measure'].mask(city_new['ceil_measure']>outliers_above,median_val)"
   ]
  },
  {
   "cell_type": "code",
   "execution_count": 36,
   "metadata": {
    "colab": {
     "base_uri": "https://localhost:8080/"
    },
    "id": "wsJ0P69KAT-K",
    "outputId": "9862102a-8405-4335-9dff-d23f599d1927"
   },
   "outputs": [
    {
     "name": "stdout",
     "output_type": "stream",
     "text": [
      "1195\n",
      "3\n"
     ]
    }
   ],
   "source": [
    "#oulier treatment for column 14 living_measure\n",
    "q3 = city_new['living_measure15'].quantile(0.75)\n",
    "q1 = city_new['living_measure15'].quantile(0.25)\n",
    "t = q3-q1\n",
    "outliers_above = q3+t\n",
    "outliers_below = q1-t\n",
    "\n",
    "print(city_new['living_measure15'].loc[city_new['living_measure15']>outliers_above].count())\n",
    "print(city_new['living_measure15'].loc[city_new['living_measure15']<outliers_below].count())\n",
    "median_val = city_new['living_measure15'].loc[city_new['living_measure15']<=outliers_above].median()\n",
    "city_new['living_measure15'] = city_new['living_measure15'].mask(city_new['living_measure15']>outliers_above,median_val)\n"
   ]
  },
  {
   "cell_type": "code",
   "execution_count": 37,
   "metadata": {
    "colab": {
     "base_uri": "https://localhost:8080/",
     "height": 318
    },
    "id": "fSWPVxpiAcfW",
    "outputId": "f74b9432-d8aa-4899-ee48-db883cd4cf37"
   },
   "outputs": [
    {
     "name": "stdout",
     "output_type": "stream",
     "text": [
      "2613\n",
      "0\n"
     ]
    },
    {
     "data": {
      "text/plain": [
       "<matplotlib.axes._subplots.AxesSubplot at 0x1d7d94e02e8>"
      ]
     },
     "execution_count": 37,
     "metadata": {},
     "output_type": "execute_result"
    },
    {
     "data": {
      "image/png": "[encoded data removed]",
      "text/plain": [
       "<Figure size 432x288 with 1 Axes>"
      ]
     },
     "metadata": {
      "needs_background": "light"
     },
     "output_type": "display_data"
    }
   ],
   "source": [
    "#oulier treatment for column 15 lot_measure15\n",
    "q3 = city_new['lot_measure15'].quantile(0.75)\n",
    "q1 = city_new['lot_measure15'].quantile(0.25)\n",
    "t = q3-q1\n",
    "outliers_above = q3+t\n",
    "outliers_below = q1-t\n",
    "\n",
    "print(city_new['lot_measure15'].loc[city_new['lot_measure15']>outliers_above].count())\n",
    "print(city_new['lot_measure15'].loc[city_new['lot_measure15']<outliers_below].count())\n",
    "median_val = city_new['lot_measure15'].loc[city_new['lot_measure15']<=outliers_above].median()\n",
    "city_new['lot_measure15'] = city_new['lot_measure15'].mask(city_new['lot_measure15']>outliers_above,median_val)\n",
    "\n",
    "city_new.boxplot(column=['lot_measure15'] , vert=False)"
   ]
  },
  {
   "cell_type": "code",
   "execution_count": 38,
   "metadata": {
    "colab": {
     "base_uri": "https://localhost:8080/",
     "height": 318
    },
    "id": "iLBM-tXAAjxU",
    "outputId": "7c5aa4fc-6beb-412e-b9c5-790b39c31536"
   },
   "outputs": [
    {
     "name": "stdout",
     "output_type": "stream",
     "text": [
      "2880\n",
      "0\n"
     ]
    },
    {
     "data": {
      "text/plain": [
       "<matplotlib.axes._subplots.AxesSubplot at 0x1d7d953f400>"
      ]
     },
     "execution_count": 38,
     "metadata": {},
     "output_type": "execute_result"
    },
    {
     "data": {
      "image/png": "[encoded data removed]",
      "text/plain": [
       "<Figure size 432x288 with 1 Axes>"
      ]
     },
     "metadata": {
      "needs_background": "light"
     },
     "output_type": "display_data"
    }
   ],
   "source": [
    "#oulier treatment for column 16 total_area\n",
    "q3 = city_new['total_area'].quantile(0.75)\n",
    "q1 = city_new['total_area'].quantile(0.25)\n",
    "t = q3-q1\n",
    "outliers_above = q3+t\n",
    "outliers_below = q1-t\n",
    "\n",
    "print(city_new['total_area'].loc[city_new['total_area']>outliers_above].count())\n",
    "print(city_new['total_area'].loc[city_new['total_area']<outliers_below].count())\n",
    "median_val = city_new['total_area'].loc[city_new['total_area']<=outliers_above].median()\n",
    "city_new['total_area'] = city_new['total_area'].mask(city_new['total_area']>outliers_above,median_val)\n",
    "\n",
    "city_new.boxplot(column=['total_area'] , vert=False)"
   ]
  },
  {
   "cell_type": "code",
   "execution_count": 39,
   "metadata": {
    "colab": {
     "base_uri": "https://localhost:8080/",
     "height": 787
    },
    "id": "Atu32pibAscF",
    "outputId": "0b13b188-2566-4671-8681-dc26e8a85fae"
   },
   "outputs": [
    {
     "data": {
      "text/html": [
       "<div>\n",
       "<style scoped>\n",
       "    .dataframe tbody tr th:only-of-type {\n",
       "        vertical-align: middle;\n",
       "    }\n",
       "\n",
       "    .dataframe tbody tr th {\n",
       "        vertical-align: top;\n",
       "    }\n",
       "\n",
       "    .dataframe thead th {\n",
       "        text-align: right;\n",
       "    }\n",
       "</style>\n",
       "<table border=\"1\" class=\"dataframe\">\n",
       "  <thead>\n",
       "    <tr style=\"text-align: right;\">\n",
       "      <th></th>\n",
       "      <th>0</th>\n",
       "      <th>1</th>\n",
       "      <th>2</th>\n",
       "      <th>3</th>\n",
       "      <th>4</th>\n",
       "    </tr>\n",
       "  </thead>\n",
       "  <tbody>\n",
       "    <tr>\n",
       "      <th>cid</th>\n",
       "      <td>3034200666</td>\n",
       "      <td>8731981640</td>\n",
       "      <td>5104530220</td>\n",
       "      <td>6145600285</td>\n",
       "      <td>8924100111</td>\n",
       "    </tr>\n",
       "    <tr>\n",
       "      <th>price</th>\n",
       "      <td>808100</td>\n",
       "      <td>277500</td>\n",
       "      <td>404000</td>\n",
       "      <td>300000</td>\n",
       "      <td>699000</td>\n",
       "    </tr>\n",
       "    <tr>\n",
       "      <th>room_bed</th>\n",
       "      <td>4.00000</td>\n",
       "      <td>4.00000</td>\n",
       "      <td>3.00000</td>\n",
       "      <td>2.00000</td>\n",
       "      <td>2.00000</td>\n",
       "    </tr>\n",
       "    <tr>\n",
       "      <th>room_bath</th>\n",
       "      <td>3.25000</td>\n",
       "      <td>2.50000</td>\n",
       "      <td>2.50000</td>\n",
       "      <td>1.00000</td>\n",
       "      <td>1.50000</td>\n",
       "    </tr>\n",
       "    <tr>\n",
       "      <th>living_measure</th>\n",
       "      <td>3020</td>\n",
       "      <td>2550</td>\n",
       "      <td>2370</td>\n",
       "      <td>820</td>\n",
       "      <td>1400</td>\n",
       "    </tr>\n",
       "    <tr>\n",
       "      <th>lot_measure</th>\n",
       "      <td>13457</td>\n",
       "      <td>7500</td>\n",
       "      <td>4324</td>\n",
       "      <td>3844</td>\n",
       "      <td>4050</td>\n",
       "    </tr>\n",
       "    <tr>\n",
       "      <th>ceil</th>\n",
       "      <td>1.00000</td>\n",
       "      <td>1.00000</td>\n",
       "      <td>2.00000</td>\n",
       "      <td>1.00000</td>\n",
       "      <td>1.00000</td>\n",
       "    </tr>\n",
       "    <tr>\n",
       "      <th>coast</th>\n",
       "      <td>0</td>\n",
       "      <td>0</td>\n",
       "      <td>0</td>\n",
       "      <td>0</td>\n",
       "      <td>0</td>\n",
       "    </tr>\n",
       "    <tr>\n",
       "      <th>sight</th>\n",
       "      <td>0</td>\n",
       "      <td>0</td>\n",
       "      <td>0</td>\n",
       "      <td>0</td>\n",
       "      <td>0</td>\n",
       "    </tr>\n",
       "    <tr>\n",
       "      <th>condition</th>\n",
       "      <td>5</td>\n",
       "      <td>3</td>\n",
       "      <td>3</td>\n",
       "      <td>4</td>\n",
       "      <td>4</td>\n",
       "    </tr>\n",
       "    <tr>\n",
       "      <th>quality</th>\n",
       "      <td>9</td>\n",
       "      <td>8</td>\n",
       "      <td>8</td>\n",
       "      <td>6</td>\n",
       "      <td>8</td>\n",
       "    </tr>\n",
       "    <tr>\n",
       "      <th>ceil_measure</th>\n",
       "      <td>3020</td>\n",
       "      <td>1750</td>\n",
       "      <td>2370</td>\n",
       "      <td>820</td>\n",
       "      <td>1400</td>\n",
       "    </tr>\n",
       "    <tr>\n",
       "      <th>basement</th>\n",
       "      <td>0</td>\n",
       "      <td>800</td>\n",
       "      <td>0</td>\n",
       "      <td>0</td>\n",
       "      <td>0</td>\n",
       "    </tr>\n",
       "    <tr>\n",
       "      <th>yr_built</th>\n",
       "      <td>1956</td>\n",
       "      <td>1976</td>\n",
       "      <td>2006</td>\n",
       "      <td>1916</td>\n",
       "      <td>1954</td>\n",
       "    </tr>\n",
       "    <tr>\n",
       "      <th>yr_renovated</th>\n",
       "      <td>0</td>\n",
       "      <td>0</td>\n",
       "      <td>0</td>\n",
       "      <td>0</td>\n",
       "      <td>0</td>\n",
       "    </tr>\n",
       "    <tr>\n",
       "      <th>zipcode</th>\n",
       "      <td>98133</td>\n",
       "      <td>98023</td>\n",
       "      <td>98038</td>\n",
       "      <td>98133</td>\n",
       "      <td>98115</td>\n",
       "    </tr>\n",
       "    <tr>\n",
       "      <th>lat</th>\n",
       "      <td>47.71740</td>\n",
       "      <td>47.31650</td>\n",
       "      <td>47.35150</td>\n",
       "      <td>47.70490</td>\n",
       "      <td>47.67680</td>\n",
       "    </tr>\n",
       "    <tr>\n",
       "      <th>long</th>\n",
       "      <td>-122.33600</td>\n",
       "      <td>-122.38600</td>\n",
       "      <td>-121.99900</td>\n",
       "      <td>-122.34900</td>\n",
       "      <td>-122.26900</td>\n",
       "    </tr>\n",
       "    <tr>\n",
       "      <th>living_measure15</th>\n",
       "      <td>2120</td>\n",
       "      <td>2260</td>\n",
       "      <td>2370</td>\n",
       "      <td>1520</td>\n",
       "      <td>1900</td>\n",
       "    </tr>\n",
       "    <tr>\n",
       "      <th>lot_measure15</th>\n",
       "      <td>7553</td>\n",
       "      <td>8800</td>\n",
       "      <td>4348</td>\n",
       "      <td>3844</td>\n",
       "      <td>5940</td>\n",
       "    </tr>\n",
       "    <tr>\n",
       "      <th>furnished</th>\n",
       "      <td>1</td>\n",
       "      <td>0</td>\n",
       "      <td>0</td>\n",
       "      <td>0</td>\n",
       "      <td>0</td>\n",
       "    </tr>\n",
       "    <tr>\n",
       "      <th>total_area</th>\n",
       "      <td>16477</td>\n",
       "      <td>10050</td>\n",
       "      <td>6694</td>\n",
       "      <td>4664</td>\n",
       "      <td>5450</td>\n",
       "    </tr>\n",
       "    <tr>\n",
       "      <th>month_year</th>\n",
       "      <td>November-2014</td>\n",
       "      <td>December-2014</td>\n",
       "      <td>April-2015</td>\n",
       "      <td>May-2014</td>\n",
       "      <td>April-2015</td>\n",
       "    </tr>\n",
       "    <tr>\n",
       "      <th>house_sold_year</th>\n",
       "      <td>2014</td>\n",
       "      <td>2014</td>\n",
       "      <td>2015</td>\n",
       "      <td>2014</td>\n",
       "      <td>2015</td>\n",
       "    </tr>\n",
       "    <tr>\n",
       "      <th>house_age</th>\n",
       "      <td>58</td>\n",
       "      <td>38</td>\n",
       "      <td>9</td>\n",
       "      <td>98</td>\n",
       "      <td>61</td>\n",
       "    </tr>\n",
       "  </tbody>\n",
       "</table>\n",
       "</div>"
      ],
      "text/plain": [
       "                              0              1           2           3  \\\n",
       "cid                  3034200666     8731981640  5104530220  6145600285   \n",
       "price                    808100         277500      404000      300000   \n",
       "room_bed                4.00000        4.00000     3.00000     2.00000   \n",
       "room_bath               3.25000        2.50000     2.50000     1.00000   \n",
       "living_measure             3020           2550        2370         820   \n",
       "lot_measure               13457           7500        4324        3844   \n",
       "ceil                    1.00000        1.00000     2.00000     1.00000   \n",
       "coast                         0              0           0           0   \n",
       "sight                         0              0           0           0   \n",
       "condition                     5              3           3           4   \n",
       "quality                       9              8           8           6   \n",
       "ceil_measure               3020           1750        2370         820   \n",
       "basement                      0            800           0           0   \n",
       "yr_built                   1956           1976        2006        1916   \n",
       "yr_renovated                  0              0           0           0   \n",
       "zipcode                   98133          98023       98038       98133   \n",
       "lat                    47.71740       47.31650    47.35150    47.70490   \n",
       "long                 -122.33600     -122.38600  -121.99900  -122.34900   \n",
       "living_measure15           2120           2260        2370        1520   \n",
       "lot_measure15              7553           8800        4348        3844   \n",
       "furnished                     1              0           0           0   \n",
       "total_area                16477          10050        6694        4664   \n",
       "month_year        November-2014  December-2014  April-2015    May-2014   \n",
       "house_sold_year            2014           2014        2015        2014   \n",
       "house_age                    58             38           9          98   \n",
       "\n",
       "                           4  \n",
       "cid               8924100111  \n",
       "price                 699000  \n",
       "room_bed             2.00000  \n",
       "room_bath            1.50000  \n",
       "living_measure          1400  \n",
       "lot_measure             4050  \n",
       "ceil                 1.00000  \n",
       "coast                      0  \n",
       "sight                      0  \n",
       "condition                  4  \n",
       "quality                    8  \n",
       "ceil_measure            1400  \n",
       "basement                   0  \n",
       "yr_built                1954  \n",
       "yr_renovated               0  \n",
       "zipcode                98115  \n",
       "lat                 47.67680  \n",
       "long              -122.26900  \n",
       "living_measure15        1900  \n",
       "lot_measure15           5940  \n",
       "furnished                  0  \n",
       "total_area              5450  \n",
       "month_year        April-2015  \n",
       "house_sold_year         2015  \n",
       "house_age                 61  "
      ]
     },
     "execution_count": 39,
     "metadata": {},
     "output_type": "execute_result"
    }
   ],
   "source": [
    "city_new2 = city_new.copy() #making copy of data\n",
    "city_new2.head(5).T"
   ]
  },
  {
   "cell_type": "code",
   "execution_count": 40,
   "metadata": {
    "colab": {
     "base_uri": "https://localhost:8080/",
     "height": 1000
    },
    "id": "2yTYuNwM_pza",
    "outputId": "453dea8a-aab5-4f8b-8c59-e043aff63020"
   },
   "outputs": [],
   "source": [
    "# boxplots of the variables after outlier treatment\n",
    "# k=1\n",
    "# plt.figure(figsize=(15,20))\n",
    "\n",
    "# for col in city_new2.columns[2:22]: \n",
    "#     plt.subplot(5,4,k)\n",
    "#     sns.boxplot(city_new2[col],color='blue')\n",
    "#     k=k+1"
   ]
  },
  {
   "cell_type": "code",
   "execution_count": 41,
   "metadata": {
    "colab": {
     "base_uri": "https://localhost:8080/",
     "height": 1000
    },
    "id": "ktbG9k1Z_4kp",
    "outputId": "8307f8ec-4495-457d-fe07-d54c87291dd4"
   },
   "outputs": [],
   "source": [
    "# visualation of skewness after outlier treatment\n",
    "\n",
    "# k=1\n",
    "# plt.figure(figsize=(20,30))\n",
    "\n",
    "# for col in city_new2.columns[2:22]: \n",
    "#     plt.subplot(5,4,k)\n",
    "#     sns.distplot(city_new2[col],color='blue')\n",
    "#     k=k+1"
   ]
  },
  {
   "cell_type": "markdown",
   "metadata": {
    "id": "eWrA_ct_DYfV"
   },
   "source": [
    "#### Bivariate Analysis"
   ]
  },
  {
   "cell_type": "code",
   "execution_count": 42,
   "metadata": {
    "colab": {
     "base_uri": "https://localhost:8080/",
     "height": 842
    },
    "id": "BgtTcPoYBogg",
    "outputId": "24ee6428-f667-4ee8-cf47-27c083da012b"
   },
   "outputs": [
    {
     "data": {
      "text/html": [
       "<div>\n",
       "<style scoped>\n",
       "    .dataframe tbody tr th:only-of-type {\n",
       "        vertical-align: middle;\n",
       "    }\n",
       "\n",
       "    .dataframe tbody tr th {\n",
       "        vertical-align: top;\n",
       "    }\n",
       "\n",
       "    .dataframe thead th {\n",
       "        text-align: right;\n",
       "    }\n",
       "</style>\n",
       "<table border=\"1\" class=\"dataframe\">\n",
       "  <thead>\n",
       "    <tr style=\"text-align: right;\">\n",
       "      <th></th>\n",
       "      <th>mean</th>\n",
       "      <th>median</th>\n",
       "      <th>size</th>\n",
       "    </tr>\n",
       "    <tr>\n",
       "      <th>month_year</th>\n",
       "      <th></th>\n",
       "      <th></th>\n",
       "      <th></th>\n",
       "    </tr>\n",
       "  </thead>\n",
       "  <tbody>\n",
       "    <tr>\n",
       "      <th>April-2015</th>\n",
       "      <td>557938.30534</td>\n",
       "      <td>476500</td>\n",
       "      <td>2227</td>\n",
       "    </tr>\n",
       "    <tr>\n",
       "      <th>August-2014</th>\n",
       "      <td>532010.56118</td>\n",
       "      <td>442000</td>\n",
       "      <td>1937</td>\n",
       "    </tr>\n",
       "    <tr>\n",
       "      <th>December-2014</th>\n",
       "      <td>524799.90204</td>\n",
       "      <td>432500</td>\n",
       "      <td>1470</td>\n",
       "    </tr>\n",
       "    <tr>\n",
       "      <th>February-2015</th>\n",
       "      <td>508520.05132</td>\n",
       "      <td>426500</td>\n",
       "      <td>1247</td>\n",
       "    </tr>\n",
       "    <tr>\n",
       "      <th>January-2015</th>\n",
       "      <td>525963.25153</td>\n",
       "      <td>438500</td>\n",
       "      <td>978</td>\n",
       "    </tr>\n",
       "    <tr>\n",
       "      <th>July-2014</th>\n",
       "      <td>544892.16101</td>\n",
       "      <td>465000</td>\n",
       "      <td>2211</td>\n",
       "    </tr>\n",
       "    <tr>\n",
       "      <th>June-2014</th>\n",
       "      <td>550845.85977</td>\n",
       "      <td>465000</td>\n",
       "      <td>2175</td>\n",
       "    </tr>\n",
       "    <tr>\n",
       "      <th>March-2015</th>\n",
       "      <td>544057.68320</td>\n",
       "      <td>450000</td>\n",
       "      <td>1875</td>\n",
       "    </tr>\n",
       "    <tr>\n",
       "      <th>May-2014</th>\n",
       "      <td>548166.60011</td>\n",
       "      <td>465000</td>\n",
       "      <td>1768</td>\n",
       "    </tr>\n",
       "    <tr>\n",
       "      <th>May-2015</th>\n",
       "      <td>552531.37984</td>\n",
       "      <td>455000</td>\n",
       "      <td>645</td>\n",
       "    </tr>\n",
       "    <tr>\n",
       "      <th>November-2014</th>\n",
       "      <td>522359.90348</td>\n",
       "      <td>435000</td>\n",
       "      <td>1409</td>\n",
       "    </tr>\n",
       "    <tr>\n",
       "      <th>October-2014</th>\n",
       "      <td>533179.51067</td>\n",
       "      <td>446900</td>\n",
       "      <td>1874</td>\n",
       "    </tr>\n",
       "    <tr>\n",
       "      <th>September-2014</th>\n",
       "      <td>526130.14124</td>\n",
       "      <td>450000</td>\n",
       "      <td>1770</td>\n",
       "    </tr>\n",
       "  </tbody>\n",
       "</table>\n",
       "</div>"
      ],
      "text/plain": [
       "                       mean  median  size\n",
       "month_year                               \n",
       "April-2015     557938.30534  476500  2227\n",
       "August-2014    532010.56118  442000  1937\n",
       "December-2014  524799.90204  432500  1470\n",
       "February-2015  508520.05132  426500  1247\n",
       "January-2015   525963.25153  438500   978\n",
       "July-2014      544892.16101  465000  2211\n",
       "June-2014      550845.85977  465000  2175\n",
       "March-2015     544057.68320  450000  1875\n",
       "May-2014       548166.60011  465000  1768\n",
       "May-2015       552531.37984  455000   645\n",
       "November-2014  522359.90348  435000  1409\n",
       "October-2014   533179.51067  446900  1874\n",
       "September-2014 526130.14124  450000  1770"
      ]
     },
     "execution_count": 42,
     "metadata": {},
     "output_type": "execute_result"
    },
    {
     "data": {
      "image/png": "[encoded data removed]",
      "text/plain": [
       "<Figure size 576x288 with 1 Axes>"
      ]
     },
     "metadata": {
      "needs_background": "light"
     },
     "output_type": "display_data"
    }
   ],
   "source": [
    "#month,year in which house is sold. Price is not influenced by it\n",
    "\n",
    "city_new2.sort_values([\"month_year\"], axis=0, ascending=True, inplace=True) \n",
    "sns.factorplot(x='month_year',y='price',data=city_new2, size=4, aspect=2)\n",
    "plt.xticks(rotation=90)\n",
    "#groupby\n",
    "city_new2.groupby('month_year')['price'].agg(['mean','median','size'])"
   ]
  },
  {
   "cell_type": "markdown",
   "metadata": {
    "id": "yjPS10zH90V9"
   },
   "source": [
    "* The mean price of the houses tend to be high during April, May "
   ]
  },
  {
   "cell_type": "code",
   "execution_count": 43,
   "metadata": {
    "colab": {
     "base_uri": "https://localhost:8080/",
     "height": 339
    },
    "id": "naP9Cdt6-Dk7",
    "outputId": "0f8cca9d-e024-4a54-dd7a-02c9c0477482"
   },
   "outputs": [
    {
     "data": {
      "image/png": "[encoded data removed]",
      "text/plain": [
       "<Figure size 720x360 with 1 Axes>"
      ]
     },
     "metadata": {
      "needs_background": "light"
     },
     "output_type": "display_data"
    }
   ],
   "source": [
    "plt.figure(figsize = (10,5))\n",
    "sns.barplot( x=\"room_bed\", y=\"price\", data=city_new2);"
   ]
  },
  {
   "cell_type": "markdown",
   "metadata": {
    "id": "V377z2stFmQj"
   },
   "source": [
    "* Higher number of rooms draw higher price."
   ]
  },
  {
   "cell_type": "code",
   "execution_count": 44,
   "metadata": {
    "colab": {
     "base_uri": "https://localhost:8080/",
     "height": 350
    },
    "id": "DgC_XKM5Gv23",
    "outputId": "69969a26-16a5-4955-9b7a-4a20cd30a8b9"
   },
   "outputs": [
    {
     "data": {
      "image/png": "[encoded data removed]",
      "text/plain": [
       "<Figure size 1296x360 with 1 Axes>"
      ]
     },
     "metadata": {
      "needs_background": "light"
     },
     "output_type": "display_data"
    }
   ],
   "source": [
    "plt.figure(figsize = (18,5))\n",
    "sns.barplot( x=\"room_bath\", y=\"price\", data=city_new2);"
   ]
  },
  {
   "cell_type": "markdown",
   "metadata": {
    "id": "5PgJPX6-HEjI"
   },
   "source": [
    "* Number of bath rooms have a positive correlation with price"
   ]
  },
  {
   "cell_type": "code",
   "execution_count": 45,
   "metadata": {
    "colab": {
     "base_uri": "https://localhost:8080/",
     "height": 197
    },
    "id": "zbWqMM7iBGzB",
    "outputId": "01ac8836-b7d5-467f-988a-cfa497912167"
   },
   "outputs": [],
   "source": [
    "# pairplot Price VS different measures.\n",
    "# sns.pairplot(city_new2, y_vars='price', x_vars=['living_measure', 'lot_measure', 'total_area' ,'ceil_measure','basement','yr_built'])                                                       \n",
    "# plt.show()\n"
   ]
  },
  {
   "cell_type": "markdown",
   "metadata": {
    "id": "9gXBXpjlkLc5"
   },
   "source": [
    "* living_measure shows positive correlation with price\n",
    "* We may either chose 'lot_measure' or 'total_area' owing to their high inter-correlation and simialr response to 'price'\n",
    "* 'ceil_measure' is positively correlated with house price.\n",
    "* basement' is positively correlated with house price but data cloud shows larger scatter.\n",
    "* Price shows a gradual increase in recent years."
   ]
  },
  {
   "cell_type": "code",
   "execution_count": 46,
   "metadata": {
    "colab": {
     "base_uri": "https://localhost:8080/",
     "height": 318
    },
    "id": "VFighiC_l_yw",
    "outputId": "109a72fa-2542-4394-da1d-8814f186dcea"
   },
   "outputs": [
    {
     "data": {
      "image/png": "[encoded data removed]",
      "text/plain": [
       "<Figure size 1440x360 with 3 Axes>"
      ]
     },
     "metadata": {
      "needs_background": "light"
     },
     "output_type": "display_data"
    }
   ],
   "source": [
    "plt.figure(figsize=(20,5))\n",
    "plt.subplot(1, 3, 1)\n",
    "sns.scatterplot(city_new2['lot_measure'],city_new2['total_area'])\n",
    "\n",
    "plt.subplot(1, 3, 2)\n",
    "sns.scatterplot(city_new2['lot_measure15'],city_new2['total_area'])\n",
    "\n",
    "plt.subplot(1, 3, 3)\n",
    "sns.scatterplot(city_new2['lot_measure'],city_new2['lot_measure15'])\n",
    "\n",
    "plt.show()"
   ]
  },
  {
   "cell_type": "markdown",
   "metadata": {
    "id": "dmCJihWlILwm"
   },
   "source": [
    "* We can drop lot_measure15 if lot_measure15 has strong correlation with lot_measure\n",
    "* lot_measure has better correlation with total area with lesser spread."
   ]
  },
  {
   "cell_type": "code",
   "execution_count": 47,
   "metadata": {
    "colab": {
     "base_uri": "https://localhost:8080/",
     "height": 356
    },
    "id": "XvFBSQO0JBG4",
    "outputId": "e35ebd9d-d75c-42f4-9a5a-0c664dc3075f"
   },
   "outputs": [
    {
     "data": {
      "image/png": "[encoded data removed]",
      "text/plain": [
       "<Figure size 1800x504 with 4 Axes>"
      ]
     },
     "metadata": {
      "needs_background": "light"
     },
     "output_type": "display_data"
    }
   ],
   "source": [
    "#boxplot to show yr_renovated vs Price , living_measure , lot_measure , ceil_measure\n",
    "plt.figure(figsize=(25,7))\n",
    "plt.subplot(1, 4, 1)\n",
    "sns.boxplot(city_new2['yr_renovated'],city_new2['price'])\n",
    "\n",
    "plt.subplot(1, 4, 2)\n",
    "sns.boxplot(city_new2['yr_renovated'],city_new2['living_measure'])\n",
    "\n",
    "plt.subplot(1, 4, 3)\n",
    "sns.boxplot(city_new2['yr_renovated'],city_new2['lot_measure'])\n",
    "\n",
    "plt.subplot(1, 4, 4)\n",
    "sns.boxplot(city_new2['yr_renovated'],city_new2['ceil_measure'])\n",
    "\n",
    "plt.show()"
   ]
  },
  {
   "cell_type": "markdown",
   "metadata": {
    "id": "zbzCTbHMJU0A"
   },
   "source": [
    "* renovated houses have high price"
   ]
  },
  {
   "cell_type": "markdown",
   "metadata": {
    "id": "IS0q_ayYK-xU"
   },
   "source": [
    "* yr_renovated doesn't have any observable correlation with other independent variables related to area measure."
   ]
  },
  {
   "cell_type": "code",
   "execution_count": 48,
   "metadata": {
    "colab": {
     "base_uri": "https://localhost:8080/",
     "height": 459
    },
    "id": "KrF1L4i3LCMR",
    "outputId": "c8c13874-0af7-4644-f209-fbe9780e67ac"
   },
   "outputs": [
    {
     "data": {
      "image/png": "[encoded data removed]",
      "text/plain": [
       "<Figure size 720x504 with 1 Axes>"
      ]
     },
     "metadata": {
      "needs_background": "light"
     },
     "output_type": "display_data"
    }
   ],
   "source": [
    "# Furnished vs. Price\n",
    "plt.figure(figsize = (10,7))\n",
    "sns.barplot( x=\"furnished\", y=\"price\", data=city_new2, hue='room_bed');"
   ]
  },
  {
   "cell_type": "markdown",
   "metadata": {
    "id": "pyE3HysOLYRS"
   },
   "source": [
    "* Furnished Plots are priced above $800,000, with minimum no. of bedroom/house.\n",
    "\n",
    "* Also as the no. of bedroom/house increases, the price of house increases as well, signifying positive correlation with price."
   ]
  },
  {
   "cell_type": "code",
   "execution_count": 49,
   "metadata": {
    "colab": {
     "base_uri": "https://localhost:8080/",
     "height": 459
    },
    "id": "xh4Jhh1KLaWA",
    "outputId": "3195f2b2-8e35-456a-b235-47c210b07c7c"
   },
   "outputs": [
    {
     "data": {
      "image/png": "[encoded data removed]",
      "text/plain": [
       "<Figure size 720x504 with 1 Axes>"
      ]
     },
     "metadata": {
      "needs_background": "light"
     },
     "output_type": "display_data"
    }
   ],
   "source": [
    "# Condition vs. Price\n",
    "plt.figure(figsize = (10,7))\n",
    "\n",
    "sns.stripplot(city_new2['condition'],city_new['price'],hue=city_new2['furnished'],jitter=0.35,dodge=True);"
   ]
  },
  {
   "cell_type": "markdown",
   "metadata": {
    "id": "bsr9s8IdLl2i"
   },
   "source": [
    "* Houses with condition 1-2 have negligiable furnished houses thus they have low prices.\n",
    "\n",
    "* Houses with condition 3-4-5 have higher number of furnished house and thus are in the higher price slab.\n",
    "\n",
    "* Both furnished and unfurnished houses in any of the individual 3-4-5 conditions fall in the same price range for a specific \"condition\" category.\n",
    "\n",
    "* Furnished houses starting prices are higher than unfurnished ones but higher end of house price is not impacted by furnishing status.\n",
    "\n",
    "* Overall, furnished flats have better condition thus have higher price."
   ]
  },
  {
   "cell_type": "code",
   "execution_count": 50,
   "metadata": {
    "colab": {
     "base_uri": "https://localhost:8080/",
     "height": 459
    },
    "id": "m4OJCK4bMqOJ",
    "outputId": "850a6662-0d16-49e7-9aab-e03744e2a0f1"
   },
   "outputs": [
    {
     "data": {
      "image/png": "[encoded data removed]",
      "text/plain": [
       "<Figure size 720x504 with 1 Axes>"
      ]
     },
     "metadata": {
      "needs_background": "light"
     },
     "output_type": "display_data"
    }
   ],
   "source": [
    "# Quality vs Price\n",
    "plt.figure(figsize = (10,7))\n",
    "sns.scatterplot(city_new2['quality'],city_new2['price'],hue=city_new2['furnished']);"
   ]
  },
  {
   "cell_type": "markdown",
   "metadata": {
    "id": "Vr1uO1D6M6_o"
   },
   "source": [
    "* Houses with quality higher than 8 are funished\n",
    "* Price of houses increases with Quality and the rate of increase of house price vs. quality is higher for higher price range."
   ]
  },
  {
   "cell_type": "code",
   "execution_count": 51,
   "metadata": {
    "colab": {
     "base_uri": "https://localhost:8080/",
     "height": 459
    },
    "id": "pooHMb5CNRRi",
    "outputId": "b7a62c8f-7a4a-4b56-898e-9ab0ae10ac06"
   },
   "outputs": [
    {
     "data": {
      "image/png": "[encoded data removed]",
      "text/plain": [
       "<Figure size 720x504 with 1 Axes>"
      ]
     },
     "metadata": {
      "needs_background": "light"
     },
     "output_type": "display_data"
    }
   ],
   "source": [
    "# Sight vs. Price\n",
    "plt.figure(figsize = (10,7))\n",
    "sns.barplot( x=\"sight\", y=\"price\", data=city_new2, hue='coast');"
   ]
  },
  {
   "cell_type": "markdown",
   "metadata": {
    "id": "TaMXjwnWNauM"
   },
   "source": [
    "* Houses in the vicinity of a waterfront are slighlty more higher priced, especially for #visits > = 2."
   ]
  },
  {
   "cell_type": "code",
   "execution_count": 52,
   "metadata": {
    "colab": {
     "base_uri": "https://localhost:8080/",
     "height": 403
    },
    "id": "fe60OeFeNfvr",
    "outputId": "7eb46429-f578-4c52-b163-b38e75e045e5"
   },
   "outputs": [
    {
     "data": {
      "text/plain": [
       "<Figure size 1080x1800 with 0 Axes>"
      ]
     },
     "metadata": {},
     "output_type": "display_data"
    },
    {
     "data": {
      "image/png": "[encoded data removed]",
      "text/plain": [
       "<Figure size 769.55x360 with 2 Axes>"
      ]
     },
     "metadata": {
      "needs_background": "light"
     },
     "output_type": "display_data"
    }
   ],
   "source": [
    "# quality Vs furnished\n",
    "plt.figure(figsize = (15,25))\n",
    "\n",
    "sns.catplot(x=\"quality\", hue=\"condition\", col=\"furnished\",data=city_new2, kind=\"count\");"
   ]
  },
  {
   "cell_type": "markdown",
   "metadata": {
    "id": "oXjtYoDvN4Er"
   },
   "source": [
    "* Count of Non-Furnished Houses are significantly high and are average graded.\n",
    "\n",
    "* Furnished houses are less in count but are high graded."
   ]
  },
  {
   "cell_type": "code",
   "execution_count": 53,
   "metadata": {
    "colab": {
     "base_uri": "https://localhost:8080/",
     "height": 554
    },
    "id": "uZpa-JmRN8el",
    "outputId": "421bb423-a8a8-40de-aa0e-f8e35dbdbe92"
   },
   "outputs": [],
   "source": [
    "# # house_age vs. Price\n",
    "# sns.factorplot( x=\"house_age\", y=\"price\", data=city_new2, hue='yr_renovated' , size=15, aspect=2);"
   ]
  },
  {
   "cell_type": "markdown",
   "metadata": {
    "id": "ZhpNyodgwknk"
   },
   "source": [
    "* House age between 26 - 77 yrs are having higher price for renovated houses."
   ]
  },
  {
   "cell_type": "code",
   "execution_count": 54,
   "metadata": {
    "id": "yqnacDeBTb0r"
   },
   "outputs": [],
   "source": [
    "# Effect of longtitude -latitude on house price\n",
    "df_price = pd.read_csv('Price_Class.csv')"
   ]
  },
  {
   "cell_type": "markdown",
   "metadata": {
    "id": "ixG1v1S5UM5t"
   },
   "source": [
    "* Loaded a new file with 4 price classes: class 1 : <$240000, class 2 : 240000-480000, class 3 : 480000-750000 & class 4 : >750000"
   ]
  },
  {
   "cell_type": "code",
   "execution_count": 55,
   "metadata": {
    "id": "uCf9CnA2UsZx"
   },
   "outputs": [],
   "source": [
    "df_price = df_price.drop (['cid'], axis =1)\n",
    "city_price = city_new2. copy()\n",
    "city_price = city_price.join(df_price)"
   ]
  },
  {
   "cell_type": "code",
   "execution_count": 56,
   "metadata": {
    "colab": {
     "base_uri": "https://localhost:8080/",
     "height": 839
    },
    "id": "R5jVAdSxU2dw",
    "outputId": "658dd217-f9dd-4ae2-acdb-790ea03700e7"
   },
   "outputs": [],
   "source": [
    "# plt.figure(figsize= (20,15))\n",
    "# sns.scatterplot(x='lat', y='long', data=city_price, hue='price_class')"
   ]
  },
  {
   "cell_type": "markdown",
   "metadata": {
    "id": "EYHVgVG1U-Qt"
   },
   "source": [
    "* Location based on latitude-longitude don't have a clear bearing on house price as classes\n",
    "* Classes 2 (240000-480000) & 4 (>750000) have a lot of overlap across."
   ]
  },
  {
   "cell_type": "code",
   "execution_count": 57,
   "metadata": {
    "id": "_L7rP1DSVAlF"
   },
   "outputs": [],
   "source": [
    "city_NEW = city_new2.copy()\n",
    "city_NEW = city_NEW.drop(['cid'] , axis =1) "
   ]
  },
  {
   "cell_type": "code",
   "execution_count": 58,
   "metadata": {
    "colab": {
     "base_uri": "https://localhost:8080/"
    },
    "id": "U4zvZ81uV7IX",
    "outputId": "06e043c8-2f36-4f4e-f1f6-793ff46b49be"
   },
   "outputs": [
    {
     "name": "stdout",
     "output_type": "stream",
     "text": [
      "<class 'pandas.core.frame.DataFrame'>\n",
      "Int64Index: 21586 entries, 8596 to 17304\n",
      "Data columns (total 24 columns):\n",
      "price               21586 non-null int64\n",
      "room_bed            21586 non-null float64\n",
      "room_bath           21586 non-null float64\n",
      "living_measure      21586 non-null int64\n",
      "lot_measure         21586 non-null int64\n",
      "ceil                21586 non-null float64\n",
      "coast               21586 non-null int64\n",
      "sight               21586 non-null int64\n",
      "condition           21586 non-null int64\n",
      "quality             21586 non-null int64\n",
      "ceil_measure        21586 non-null int64\n",
      "basement            21586 non-null int64\n",
      "yr_built            21586 non-null int64\n",
      "yr_renovated        21586 non-null int64\n",
      "zipcode             21586 non-null int64\n",
      "lat                 21586 non-null float64\n",
      "long                21586 non-null float64\n",
      "living_measure15    21586 non-null int64\n",
      "lot_measure15       21586 non-null int64\n",
      "furnished           21586 non-null int64\n",
      "total_area          21586 non-null int64\n",
      "month_year          21586 non-null object\n",
      "house_sold_year     21586 non-null int64\n",
      "house_age           21586 non-null int64\n",
      "dtypes: float64(5), int64(18), object(1)\n",
      "memory usage: 4.1+ MB\n"
     ]
    }
   ],
   "source": [
    "city_NEW.info()"
   ]
  },
  {
   "cell_type": "code",
   "execution_count": 59,
   "metadata": {
    "colab": {
     "base_uri": "https://localhost:8080/",
     "height": 1000
    },
    "id": "mmgOO442WEXM",
    "outputId": "d35a3836-1e1d-4269-d364-13760de93182"
   },
   "outputs": [],
   "source": [
    "# # pairplot\n",
    "# sns.pairplot(city_NEW , diag_kind = 'kde')"
   ]
  },
  {
   "cell_type": "code",
   "execution_count": 60,
   "metadata": {
    "colab": {
     "base_uri": "https://localhost:8080/",
     "height": 925
    },
    "id": "I4xR7aB9Y9bn",
    "outputId": "6520a952-77a9-4bab-9d4e-fef4a7e6a097"
   },
   "outputs": [],
   "source": [
    "#heatmap\n",
    "# plt.figure(figsize = (20,15))\n",
    "# sns.heatmap(city_NEW.corr(),annot=True);"
   ]
  },
  {
   "cell_type": "markdown",
   "metadata": {
    "id": "4wUV_w-gZI67"
   },
   "source": [
    "#### Based on the data analysis and observations, following recommendations can be made for inputs into regression modelling exercise:\n",
    "1. Zipcode be dropped as it don't add clarity in house price segmentation.\n",
    "\n",
    "2. We can drop continuous numeric variables that correlated < 0.1 with house price, e.g., lot_measure15\n",
    "3. Living_measure15 might be dropped as well as this doesn't add any additional value as compared to iving_measure.\n",
    "\n",
    "4. CID can be dropped."
   ]
  },
  {
   "cell_type": "code",
   "execution_count": 61,
   "metadata": {
    "colab": {
     "base_uri": "https://localhost:8080/"
    },
    "id": "N-QUV123aYAf",
    "outputId": "93fede1e-f024-4804-b434-80427509a0aa"
   },
   "outputs": [
    {
     "name": "stdout",
     "output_type": "stream",
     "text": [
      "price               1.00000\n",
      "quality             0.67788\n",
      "furnished           0.58199\n",
      "living_measure      0.39967\n",
      "sight               0.39653\n",
      "living_measure15    0.36929\n",
      "ceil_measure        0.32807\n",
      "room_bath           0.32302\n",
      "lat                 0.31952\n",
      "room_bed            0.31932\n",
      "basement            0.31288\n",
      "ceil                0.26389\n",
      "coast               0.24833\n",
      "total_area          0.14509\n",
      "yr_renovated        0.12279\n",
      "lot_measure         0.06922\n",
      "lot_measure15       0.06062\n",
      "yr_built            0.05448\n",
      "condition           0.04015\n",
      "long                0.02436\n",
      "house_sold_year     0.00520\n",
      "zipcode            -0.05155\n",
      "house_age          -0.05439\n",
      "Name: price, dtype: float64\n"
     ]
    }
   ],
   "source": [
    "corr = city_NEW.corr()\n",
    "corr.sort_values([\"price\"], ascending = False, inplace = True)\n",
    "print(corr.price)"
   ]
  },
  {
   "cell_type": "markdown",
   "metadata": {
    "id": "2HssmpyUaeys"
   },
   "source": [
    "### Modelling"
   ]
  },
  {
   "cell_type": "code",
   "execution_count": 62,
   "metadata": {
    "id": "eilAIq3ZJUjt"
   },
   "outputs": [],
   "source": [
    "# copying the dataset before removing outliers\n",
    "Houseprice_df=city_NEW.copy()"
   ]
  },
  {
   "cell_type": "code",
   "execution_count": 63,
   "metadata": {
    "colab": {
     "base_uri": "https://localhost:8080/"
    },
    "id": "mJxZd_UBJmc0",
    "outputId": "9dbe0c71-d3ba-4646-b1c3-b043abc5522b"
   },
   "outputs": [
    {
     "data": {
      "text/plain": [
       "price                 int64\n",
       "room_bed            float64\n",
       "room_bath           float64\n",
       "living_measure        int64\n",
       "lot_measure           int64\n",
       "ceil                float64\n",
       "coast                 int64\n",
       "sight                 int64\n",
       "condition             int64\n",
       "quality               int64\n",
       "ceil_measure          int64\n",
       "basement              int64\n",
       "yr_built              int64\n",
       "yr_renovated          int64\n",
       "zipcode               int64\n",
       "lat                 float64\n",
       "long                float64\n",
       "living_measure15      int64\n",
       "lot_measure15         int64\n",
       "furnished             int64\n",
       "total_area            int64\n",
       "month_year           object\n",
       "house_sold_year       int64\n",
       "house_age             int64\n",
       "dtype: object"
      ]
     },
     "execution_count": 63,
     "metadata": {},
     "output_type": "execute_result"
    }
   ],
   "source": [
    "Houseprice_df.dtypes"
   ]
  },
  {
   "cell_type": "code",
   "execution_count": 64,
   "metadata": {
    "colab": {
     "base_uri": "https://localhost:8080/",
     "height": 215
    },
    "id": "h01rD8wfJpjE",
    "outputId": "c0ea24ef-1a1e-4006-f0df-6575bfad1d09"
   },
   "outputs": [
    {
     "data": {
      "text/html": [
       "<div>\n",
       "<style scoped>\n",
       "    .dataframe tbody tr th:only-of-type {\n",
       "        vertical-align: middle;\n",
       "    }\n",
       "\n",
       "    .dataframe tbody tr th {\n",
       "        vertical-align: top;\n",
       "    }\n",
       "\n",
       "    .dataframe thead th {\n",
       "        text-align: right;\n",
       "    }\n",
       "</style>\n",
       "<table border=\"1\" class=\"dataframe\">\n",
       "  <thead>\n",
       "    <tr style=\"text-align: right;\">\n",
       "      <th></th>\n",
       "      <th>price</th>\n",
       "      <th>room_bed</th>\n",
       "      <th>room_bath</th>\n",
       "      <th>living_measure</th>\n",
       "      <th>lot_measure</th>\n",
       "      <th>ceil</th>\n",
       "      <th>coast</th>\n",
       "      <th>sight</th>\n",
       "      <th>condition</th>\n",
       "      <th>quality</th>\n",
       "      <th>...</th>\n",
       "      <th>basement</th>\n",
       "      <th>yr_built</th>\n",
       "      <th>yr_renovated</th>\n",
       "      <th>lat</th>\n",
       "      <th>long</th>\n",
       "      <th>living_measure15</th>\n",
       "      <th>lot_measure15</th>\n",
       "      <th>furnished</th>\n",
       "      <th>total_area</th>\n",
       "      <th>house_age</th>\n",
       "    </tr>\n",
       "  </thead>\n",
       "  <tbody>\n",
       "    <tr>\n",
       "      <th>8596</th>\n",
       "      <td>967000</td>\n",
       "      <td>4.00000</td>\n",
       "      <td>2.50000</td>\n",
       "      <td>3100</td>\n",
       "      <td>7250</td>\n",
       "      <td>2.00000</td>\n",
       "      <td>0</td>\n",
       "      <td>0</td>\n",
       "      <td>3</td>\n",
       "      <td>9</td>\n",
       "      <td>...</td>\n",
       "      <td>0</td>\n",
       "      <td>2010</td>\n",
       "      <td>0</td>\n",
       "      <td>47.69610</td>\n",
       "      <td>-122.31600</td>\n",
       "      <td>1240</td>\n",
       "      <td>6670</td>\n",
       "      <td>1</td>\n",
       "      <td>10350</td>\n",
       "      <td>5</td>\n",
       "    </tr>\n",
       "    <tr>\n",
       "      <th>2652</th>\n",
       "      <td>1270000</td>\n",
       "      <td>4.00000</td>\n",
       "      <td>3.00000</td>\n",
       "      <td>3130</td>\n",
       "      <td>2646</td>\n",
       "      <td>2.50000</td>\n",
       "      <td>0</td>\n",
       "      <td>0</td>\n",
       "      <td>5</td>\n",
       "      <td>9</td>\n",
       "      <td>...</td>\n",
       "      <td>840</td>\n",
       "      <td>1906</td>\n",
       "      <td>0</td>\n",
       "      <td>47.62720</td>\n",
       "      <td>-122.31600</td>\n",
       "      <td>2920</td>\n",
       "      <td>4500</td>\n",
       "      <td>1</td>\n",
       "      <td>5776</td>\n",
       "      <td>109</td>\n",
       "    </tr>\n",
       "    <tr>\n",
       "      <th>19828</th>\n",
       "      <td>329950</td>\n",
       "      <td>4.00000</td>\n",
       "      <td>1.00000</td>\n",
       "      <td>2050</td>\n",
       "      <td>7590</td>\n",
       "      <td>1.00000</td>\n",
       "      <td>0</td>\n",
       "      <td>0</td>\n",
       "      <td>3</td>\n",
       "      <td>7</td>\n",
       "      <td>...</td>\n",
       "      <td>770</td>\n",
       "      <td>1957</td>\n",
       "      <td>0</td>\n",
       "      <td>47.49160</td>\n",
       "      <td>-122.22400</td>\n",
       "      <td>2050</td>\n",
       "      <td>7800</td>\n",
       "      <td>0</td>\n",
       "      <td>9640</td>\n",
       "      <td>58</td>\n",
       "    </tr>\n",
       "    <tr>\n",
       "      <th>2654</th>\n",
       "      <td>412000</td>\n",
       "      <td>3.00000</td>\n",
       "      <td>1.50000</td>\n",
       "      <td>1320</td>\n",
       "      <td>8000</td>\n",
       "      <td>1.00000</td>\n",
       "      <td>0</td>\n",
       "      <td>0</td>\n",
       "      <td>3</td>\n",
       "      <td>7</td>\n",
       "      <td>...</td>\n",
       "      <td>0</td>\n",
       "      <td>1957</td>\n",
       "      <td>0</td>\n",
       "      <td>47.60270</td>\n",
       "      <td>-122.12200</td>\n",
       "      <td>1720</td>\n",
       "      <td>8100</td>\n",
       "      <td>0</td>\n",
       "      <td>9320</td>\n",
       "      <td>58</td>\n",
       "    </tr>\n",
       "    <tr>\n",
       "      <th>6518</th>\n",
       "      <td>360000</td>\n",
       "      <td>5.00000</td>\n",
       "      <td>3.00000</td>\n",
       "      <td>2480</td>\n",
       "      <td>7200</td>\n",
       "      <td>1.00000</td>\n",
       "      <td>0</td>\n",
       "      <td>0</td>\n",
       "      <td>3</td>\n",
       "      <td>7</td>\n",
       "      <td>...</td>\n",
       "      <td>920</td>\n",
       "      <td>1999</td>\n",
       "      <td>0</td>\n",
       "      <td>47.45860</td>\n",
       "      <td>-122.28300</td>\n",
       "      <td>1910</td>\n",
       "      <td>9432</td>\n",
       "      <td>0</td>\n",
       "      <td>9680</td>\n",
       "      <td>16</td>\n",
       "    </tr>\n",
       "  </tbody>\n",
       "</table>\n",
       "<p>5 rows × 21 columns</p>\n",
       "</div>"
      ],
      "text/plain": [
       "         price  room_bed  room_bath  living_measure  lot_measure    ceil  \\\n",
       "8596    967000   4.00000    2.50000            3100         7250 2.00000   \n",
       "2652   1270000   4.00000    3.00000            3130         2646 2.50000   \n",
       "19828   329950   4.00000    1.00000            2050         7590 1.00000   \n",
       "2654    412000   3.00000    1.50000            1320         8000 1.00000   \n",
       "6518    360000   5.00000    3.00000            2480         7200 1.00000   \n",
       "\n",
       "       coast  sight  condition  quality  ...  basement  yr_built  \\\n",
       "8596       0      0          3        9  ...         0      2010   \n",
       "2652       0      0          5        9  ...       840      1906   \n",
       "19828      0      0          3        7  ...       770      1957   \n",
       "2654       0      0          3        7  ...         0      1957   \n",
       "6518       0      0          3        7  ...       920      1999   \n",
       "\n",
       "       yr_renovated      lat       long  living_measure15  lot_measure15  \\\n",
       "8596              0 47.69610 -122.31600              1240           6670   \n",
       "2652              0 47.62720 -122.31600              2920           4500   \n",
       "19828             0 47.49160 -122.22400              2050           7800   \n",
       "2654              0 47.60270 -122.12200              1720           8100   \n",
       "6518              0 47.45860 -122.28300              1910           9432   \n",
       "\n",
       "       furnished  total_area  house_age  \n",
       "8596           1       10350          5  \n",
       "2652           1        5776        109  \n",
       "19828          0        9640         58  \n",
       "2654           0        9320         58  \n",
       "6518           0        9680         16  \n",
       "\n",
       "[5 rows x 21 columns]"
      ]
     },
     "execution_count": 64,
     "metadata": {},
     "output_type": "execute_result"
    }
   ],
   "source": [
    "Houseprice_df.drop('month_year', axis=1 ,inplace=True)\n",
    "Houseprice_df.drop('house_sold_year', axis=1 ,inplace=True)\n",
    "Houseprice_df.drop('zipcode', axis=1 ,inplace=True)\n",
    "Houseprice_df.head(5)"
   ]
  },
  {
   "cell_type": "code",
   "execution_count": 65,
   "metadata": {
    "colab": {
     "base_uri": "https://localhost:8080/"
    },
    "id": "DLtdT_4kMTdL",
    "outputId": "e9295f49-829f-44f2-9007-cf0304b28f40"
   },
   "outputs": [
    {
     "data": {
      "text/plain": [
       "(21586, 21)"
      ]
     },
     "execution_count": 65,
     "metadata": {},
     "output_type": "execute_result"
    }
   ],
   "source": [
    "Houseprice_df.shape"
   ]
  },
  {
   "cell_type": "code",
   "execution_count": 66,
   "metadata": {
    "id": "d5N9l6GGgaPx"
   },
   "outputs": [],
   "source": [
    "#Dropping the target variable and assigning to y-target\n",
    "X=Houseprice_df.drop('price',axis=1)\n",
    "y=Houseprice_df['price']\n",
    "# X.head(10)"
   ]
  },
  {
   "cell_type": "code",
   "execution_count": 67,
   "metadata": {
    "colab": {
     "base_uri": "https://localhost:8080/"
    },
    "id": "h16aeu25gdk2",
    "outputId": "ddb475b4-eeae-44dd-bdfa-3603bdcb6cdd"
   },
   "outputs": [
    {
     "name": "stdout",
     "output_type": "stream",
     "text": [
      "(21586, 20)\n",
      "(21586,)\n"
     ]
    }
   ],
   "source": [
    "#shape of training set\n",
    "print(X.shape)\n",
    "print(y.shape)"
   ]
  },
  {
   "cell_type": "code",
   "execution_count": 68,
   "metadata": {
    "id": "dJ0QJ6RpggNk"
   },
   "outputs": [],
   "source": [
    " #Splitting the data into 60:40, train:test\n",
    "X_train,X_test,y_train,y_test=train_test_split(X,y,test_size=0.4,random_state=10)\n",
    "#Splitting the test data into 20:20   validation:test\n",
    "X_val,X_test,y_val,y_test=train_test_split(X_test, y_test,test_size=0.5,random_state=10)"
   ]
  },
  {
   "cell_type": "code",
   "execution_count": 69,
   "metadata": {
    "id": "NiOO2hmY-XL_"
   },
   "outputs": [],
   "source": [
    "# Mean_absolute_percentage_error\n",
    "def mean_absolute_percentage_error(y_true, y_pred): \n",
    "    y_true, y_pred = np.array(y_true), np.array(y_pred)\n",
    "    return np.mean(np.abs((y_true - y_pred) / y_true)) * 100"
   ]
  },
  {
   "cell_type": "markdown",
   "metadata": {
    "id": "r7KsHZTwgjMr"
   },
   "source": [
    "### Linear Regression"
   ]
  },
  {
   "cell_type": "markdown",
   "metadata": {
    "id": "6lxTZ7KsDOYN"
   },
   "source": [
    "* Linear Regression is a supervised learning technique which helps in finding the correlation between variables and enables us to predict the continuous output variable based on the one or more predictor variables."
   ]
  },
  {
   "cell_type": "code",
   "execution_count": 70,
   "metadata": {
    "colab": {
     "base_uri": "https://localhost:8080/"
    },
    "id": "HOpTZs9qglGI",
    "outputId": "8e286032-7207-415e-98e4-ca9638b92ebc"
   },
   "outputs": [
    {
     "data": {
      "text/plain": [
       "LinearRegression(copy_X=True, fit_intercept=True, n_jobs=None,\n",
       "         normalize=False)"
      ]
     },
     "execution_count": 70,
     "metadata": {},
     "output_type": "execute_result"
    }
   ],
   "source": [
    "# Created a linear model\n",
    "LR_model=LinearRegression()\n",
    "LR_model.fit(X_train,y_train)\n",
    "# X_test.head()"
   ]
  },
  {
   "cell_type": "code",
   "execution_count": 71,
   "metadata": {
    "colab": {
     "base_uri": "https://localhost:8080/"
    },
    "id": "0GLDmO2dgn1_",
    "outputId": "ee2d2a54-d968-49a3-9f01-a1ca83302f46"
   },
   "outputs": [
    {
     "name": "stdout",
     "output_type": "stream",
     "text": [
      "Performance on training data using Linear Regression: 0.651767372661981\n",
      "Performance on testing data using Linear Regression: 0.6585240057577098\n",
      "R2 LR:  0.6585240057577098\n",
      "MSE:  42461053388.21358\n",
      "MAE: 129137.16645658472\n",
      "MAPE: 26.126553972891287\n"
     ]
    }
   ],
   "source": [
    "y_pred = LR_model.predict(X_test)\n",
    "print('Performance on training data using Linear Regression:',LR_model.score(X_train,y_train))\n",
    "print('Performance on testing data using Linear Regression:',LR_model.score(X_test,y_test))\n",
    "R2_LR=metrics.r2_score(y_test, y_pred)\n",
    "print('R2 LR: ',R2_LR)\n",
    "print('MSE: ',metrics.mean_squared_error(y_test, y_pred))\n",
    "print('MAE:',metrics.mean_absolute_error(y_test,y_pred))\n",
    "MAPE_LR=mean_absolute_percentage_error(y_test,y_pred)\n",
    "print('MAPE:',MAPE_LR)"
   ]
  },
  {
   "cell_type": "markdown",
   "metadata": {
    "id": "kn1KEYDfkQE-"
   },
   "source": [
    "### Lasso Regression"
   ]
  },
  {
   "cell_type": "markdown",
   "metadata": {
    "id": "rJ9CJuKSDjw_"
   },
   "source": [
    "* Lasso regression is a regularization technique. It is used over regression methods for a more accurate prediction. This model uses shrinkage. Shrinkage is where data values are shrunk towards a central point as the mean. "
   ]
  },
  {
   "cell_type": "code",
   "execution_count": 72,
   "metadata": {
    "colab": {
     "base_uri": "https://localhost:8080/"
    },
    "id": "d0_moNHNkUpC",
    "outputId": "2d51f829-2f8e-449b-ab63-67d9a3b6ca1d"
   },
   "outputs": [
    {
     "data": {
      "text/plain": [
       "Lasso(alpha=0.1, copy_X=True, fit_intercept=True, max_iter=1000,\n",
       "   normalize=False, positive=False, precompute=False, random_state=None,\n",
       "   selection='cyclic', tol=0.0001, warm_start=False)"
      ]
     },
     "execution_count": 72,
     "metadata": {},
     "output_type": "execute_result"
    }
   ],
   "source": [
    "#created a Lasso Regression model\n",
    "from sklearn import linear_model\n",
    "las_model=linear_model.Lasso(alpha=0.1)\n",
    "las_model.fit(X_train,y_train)"
   ]
  },
  {
   "cell_type": "code",
   "execution_count": 73,
   "metadata": {
    "colab": {
     "base_uri": "https://localhost:8080/"
    },
    "id": "149BxRikkYyD",
    "outputId": "6ceb7e5e-19fe-42bd-86e1-2fd5d8f0ae22"
   },
   "outputs": [
    {
     "name": "stdout",
     "output_type": "stream",
     "text": [
      "Performance on training data using Lasso Regression: 0.6509413693412288\n",
      "Performance on testing data using Lasso Regression: 0.6571015342329993\n",
      "R2 las:  0.6571015342329993\n",
      "MSE:  42637931530.0811\n",
      "MAE: 129428.67646179537\n",
      "MAPE: 26.13646908059516\n"
     ]
    }
   ],
   "source": [
    "y_pred = las_model.predict(X_test)\n",
    "print('Performance on training data using Lasso Regression:',las_model.score(X_train,y_train))\n",
    "print('Performance on testing data using Lasso Regression:',las_model.score(X_test,y_test))\n",
    "R2_las=metrics.r2_score(y_test, y_pred)\n",
    "print('R2 las: ',R2_las)\n",
    "print('MSE: ',metrics.mean_squared_error(y_test, y_pred))\n",
    "print('MAE:',metrics.mean_absolute_error(y_test,y_pred))\n",
    "MAPE_las=mean_absolute_percentage_error(y_test,y_pred)\n",
    "print('MAPE:',MAPE_las)"
   ]
  },
  {
   "cell_type": "markdown",
   "metadata": {
    "id": "MnlTYWs6ki5U"
   },
   "source": [
    "### Ridge Regression"
   ]
  },
  {
   "cell_type": "markdown",
   "metadata": {
    "id": "fpY0TC6sDyJV"
   },
   "source": [
    "* Ridge regression is a model tuning method that is used to analyse any data that suffers from multicollinearity."
   ]
  },
  {
   "cell_type": "code",
   "execution_count": 74,
   "metadata": {
    "colab": {
     "base_uri": "https://localhost:8080/"
    },
    "id": "QGi1tgJ_kkYe",
    "outputId": "8137dfe2-0ece-4922-8ee8-9f8956c7ae7e"
   },
   "outputs": [
    {
     "data": {
      "text/plain": [
       "Ridge(alpha=0.1, copy_X=True, fit_intercept=True, max_iter=None,\n",
       "   normalize=False, random_state=None, solver='auto', tol=0.001)"
      ]
     },
     "execution_count": 74,
     "metadata": {},
     "output_type": "execute_result"
    }
   ],
   "source": [
    "#created a Ridge regression model\n",
    "from sklearn.linear_model import Ridge\n",
    "rid_model=linear_model.Ridge(alpha=0.1)\n",
    "rid_model.fit(X_train,y_train)"
   ]
  },
  {
   "cell_type": "code",
   "execution_count": 75,
   "metadata": {
    "colab": {
     "base_uri": "https://localhost:8080/"
    },
    "id": "aEhsmvE0knnF",
    "outputId": "f24f8700-54f8-4551-9d77-3e39e36fffd6"
   },
   "outputs": [
    {
     "name": "stdout",
     "output_type": "stream",
     "text": [
      "Performance on training data using Ridge Regression: 0.6517673399063245\n",
      "Performance on testing data using Ridge Regression: 0.6585253918389942\n",
      "R2 rid:  0.6585253918389942\n",
      "MSE:  42460881035.03968\n",
      "MAE: 129134.59631778693\n",
      "MAPE: 26.125742259731577\n"
     ]
    }
   ],
   "source": [
    "y_pred = rid_model.predict(X_test)\n",
    "print('Performance on training data using Ridge Regression:',rid_model.score(X_train,y_train))\n",
    "print('Performance on testing data using Ridge Regression:',rid_model.score(X_test,y_test))\n",
    "R2_rid=metrics.r2_score(y_test, y_pred)\n",
    "print('R2 rid: ',R2_rid)\n",
    "print('MSE: ',metrics.mean_squared_error(y_test, y_pred))\n",
    "print('MAE:',metrics.mean_absolute_error(y_test,y_pred))\n",
    "MAPE_rid=mean_absolute_percentage_error(y_test,y_pred)\n",
    "print('MAPE:',MAPE_rid)"
   ]
  },
  {
   "cell_type": "markdown",
   "metadata": {
    "id": "98vUTiU8l7fk"
   },
   "source": [
    "### Ada Boosting"
   ]
  },
  {
   "cell_type": "markdown",
   "metadata": {
    "id": "XqAxE9X2D3cP"
   },
   "source": [
    "* Boosting\" in machine learning is a way of combining multiple simple models into a single composite model.\n",
    "* Ada-boosting model combines multiple classifiers to increase the accuracy of classifiers. AdaBoost is an iterative ensemble method."
   ]
  },
  {
   "cell_type": "code",
   "execution_count": 76,
   "metadata": {
    "colab": {
     "base_uri": "https://localhost:8080/"
    },
    "id": "T15gXhShl8yJ",
    "outputId": "713aad25-8a55-4880-acdc-12c4532e5c50"
   },
   "outputs": [
    {
     "data": {
      "text/plain": [
       "AdaBoostRegressor(base_estimator=None, learning_rate=1.0, loss='linear',\n",
       "         n_estimators=50, random_state=None)"
      ]
     },
     "execution_count": 76,
     "metadata": {},
     "output_type": "execute_result"
    }
   ],
   "source": [
    "#Created an ada-boosting model\n",
    "AD_model=AdaBoostRegressor()\n",
    "AD_model.fit(X_train,y_train)"
   ]
  },
  {
   "cell_type": "code",
   "execution_count": 77,
   "metadata": {
    "colab": {
     "base_uri": "https://localhost:8080/"
    },
    "id": "-oD8CulVmAFn",
    "outputId": "ab219018-6929-4b94-f211-2e7907f5585f"
   },
   "outputs": [
    {
     "name": "stdout",
     "output_type": "stream",
     "text": [
      "Performance on training data using Ada-boosting: 0.24817912578867515\n",
      "Performance on testing data using Ada-boosting: 0.27247404276428144\n",
      "R2 AD:  0.27247404276428144\n",
      "MSE:  90464685753.5125\n",
      "MAE: 266520.9238416314\n",
      "MAPE: 67.38882982447721\n"
     ]
    }
   ],
   "source": [
    "y_pred = AD_model.predict(X_test)\n",
    "print('Performance on training data using Ada-boosting:',AD_model.score(X_train,y_train))\n",
    "print('Performance on testing data using Ada-boosting:',AD_model.score(X_test,y_test))\n",
    "R2_AD=metrics.r2_score(y_test, y_pred)\n",
    "print('R2 AD: ',R2_AD)\n",
    "print('MSE: ',metrics.mean_squared_error(y_test, y_pred))\n",
    "print('MAE:',metrics.mean_absolute_error(y_test,y_pred))\n",
    "MAPE_AD=mean_absolute_percentage_error(y_test,y_pred)\n",
    "print('MAPE:',MAPE_AD)"
   ]
  },
  {
   "cell_type": "markdown",
   "metadata": {
    "id": "BnM0ZzhYmKBu"
   },
   "source": [
    "### Gradient Boosting"
   ]
  },
  {
   "cell_type": "markdown",
   "metadata": {
    "id": "2MC0gb_7EDgU"
   },
   "source": [
    "* A Gradient Boosting combines the predictions from multiple decision trees to generate the final predictions. "
   ]
  },
  {
   "cell_type": "code",
   "execution_count": 78,
   "metadata": {
    "colab": {
     "base_uri": "https://localhost:8080/"
    },
    "id": "TbIu4sPumLTu",
    "outputId": "f7ea67c3-9edd-4537-d3b2-12b206f266f8"
   },
   "outputs": [
    {
     "data": {
      "text/plain": [
       "GradientBoostingRegressor(alpha=0.9, criterion='friedman_mse', init=None,\n",
       "             learning_rate=0.1, loss='ls', max_depth=3, max_features=None,\n",
       "             max_leaf_nodes=None, min_impurity_decrease=0.0,\n",
       "             min_impurity_split=None, min_samples_leaf=1,\n",
       "             min_samples_split=2, min_weight_fraction_leaf=0.0,\n",
       "             n_estimators=100, n_iter_no_change=None, presort='auto',\n",
       "             random_state=None, subsample=1.0, tol=0.0001,\n",
       "             validation_fraction=0.1, verbose=0, warm_start=False)"
      ]
     },
     "execution_count": 78,
     "metadata": {},
     "output_type": "execute_result"
    }
   ],
   "source": [
    "#Created a Gradient boosting model\n",
    "GB_model=GradientBoostingRegressor()\n",
    "GB_model.fit(X_train,y_train)"
   ]
  },
  {
   "cell_type": "code",
   "execution_count": 79,
   "metadata": {
    "colab": {
     "base_uri": "https://localhost:8080/"
    },
    "id": "bhuNhiMimOSF",
    "outputId": "eae10460-0738-45df-ecb8-0ac5463f48a1"
   },
   "outputs": [
    {
     "name": "stdout",
     "output_type": "stream",
     "text": [
      "Performance on training data using Gradient-boosting: 0.8699832133267579\n",
      "Performance on testing data using Gradient-boosting: 0.8479868751278478\n",
      "R2 GB:  0.8479868751278478\n",
      "MSE:  18902170342.09972\n",
      "MAE: 80838.52440853951\n",
      "MAPE: 15.480022282635558\n"
     ]
    }
   ],
   "source": [
    "y_pred = GB_model.predict(X_test)\n",
    "print('Performance on training data using Gradient-boosting:',GB_model.score(X_train,y_train))\n",
    "print('Performance on testing data using Gradient-boosting:',GB_model.score(X_test,y_test))\n",
    "R2_GB=metrics.r2_score(y_test, y_pred)\n",
    "print('R2 GB: ',R2_GB)\n",
    "print('MSE: ',metrics.mean_squared_error(y_test, y_pred))\n",
    "print('MAE:',metrics.mean_absolute_error(y_test,y_pred))\n",
    "MAPE_GB=mean_absolute_percentage_error(y_test,y_pred)\n",
    "print('MAPE:',MAPE_GB)"
   ]
  },
  {
   "cell_type": "markdown",
   "metadata": {
    "id": "X3h7Ce_Rmg1P"
   },
   "source": [
    "### Random Forest"
   ]
  },
  {
   "cell_type": "markdown",
   "metadata": {
    "id": "Tl6M-a-oE0dI"
   },
   "source": [
    "* Random forests or random decision forests are an ensemble learning method for classification, regression and other tasks that operates by constructing a multitude of decision trees at training time and outputting the class that is the mode of the classes or mean/average prediction of the individual trees"
   ]
  },
  {
   "cell_type": "code",
   "execution_count": 80,
   "metadata": {
    "colab": {
     "base_uri": "https://localhost:8080/"
    },
    "id": "2U-gpRNYmjID",
    "outputId": "5002bb3c-bca6-4632-9567-2d1963d63da2"
   },
   "outputs": [
    {
     "data": {
      "text/plain": [
       "RandomForestRegressor(bootstrap=True, criterion='mse', max_depth=None,\n",
       "           max_features='auto', max_leaf_nodes=None,\n",
       "           min_impurity_decrease=0.0, min_impurity_split=None,\n",
       "           min_samples_leaf=1, min_samples_split=2,\n",
       "           min_weight_fraction_leaf=0.0, n_estimators=10, n_jobs=None,\n",
       "           oob_score=False, random_state=None, verbose=0, warm_start=False)"
      ]
     },
     "execution_count": 80,
     "metadata": {},
     "output_type": "execute_result"
    }
   ],
   "source": [
    "#created a Random forest model\n",
    "from sklearn.ensemble import RandomForestRegressor\n",
    "RF_model=RandomForestRegressor()\n",
    "RF_model.fit(X_train,y_train)"
   ]
  },
  {
   "cell_type": "code",
   "execution_count": 82,
   "metadata": {
    "colab": {
     "base_uri": "https://localhost:8080/"
    },
    "id": "uXWHWMA6mkvX",
    "outputId": "3c94a93b-bd45-4650-ee9b-76b3b53590ff"
   },
   "outputs": [
    {
     "name": "stdout",
     "output_type": "stream",
     "text": [
      "Performance on training data using Random Forest: 0.9726919803723207\n",
      "Performance on testing data using Random Forest: 0.8535000609061787\n",
      "R2 RF:  0.8535000609061787\n",
      "MSE:  18216629690.28233\n",
      "MAE: 76272.20276031672\n",
      "MAPE: 14.45421957666576\n"
     ]
    }
   ],
   "source": [
    "y_pred = RF_model.predict(X_test)\n",
    "print('Performance on training data using Random Forest:',RF_model.score(X_train,y_train))\n",
    "print('Performance on testing data using Random Forest:',RF_model.score(X_test,y_test))\n",
    "R2_RF=metrics.r2_score(y_test, y_pred)\n",
    "print('R2 RF: ',R2_RF)\n",
    "print('MSE: ',metrics.mean_squared_error(y_test, y_pred))\n",
    "print('MAE:',metrics.mean_absolute_error(y_test,y_pred))\n",
    "MAPE_RF=mean_absolute_percentage_error(y_test,y_pred)\n",
    "print('MAPE:',MAPE_RF)\n",
    "\n"
   ]
  },
  {
   "cell_type": "markdown",
   "metadata": {
    "id": "_6ctk-ZGnbuu"
   },
   "source": [
    "### KNN Regressor"
   ]
  },
  {
   "cell_type": "markdown",
   "metadata": {
    "id": "BkPQAs1OE8HY"
   },
   "source": [
    "* KNN regression is a non-parametric method that, in an intuitive manner, approximates the association between independent variables and the continuous outcome by averaging the observations in the same neighbourhood."
   ]
  },
  {
   "cell_type": "code",
   "execution_count": 83,
   "metadata": {
    "colab": {
     "base_uri": "https://localhost:8080/"
    },
    "id": "EG2raMNSngG0",
    "outputId": "baea178d-92c8-41e9-89d3-4139c3a6e37c"
   },
   "outputs": [
    {
     "data": {
      "text/plain": [
       "KNeighborsRegressor(algorithm='auto', leaf_size=30, metric='minkowski',\n",
       "          metric_params=None, n_jobs=None, n_neighbors=5, p=2,\n",
       "          weights='uniform')"
      ]
     },
     "execution_count": 83,
     "metadata": {},
     "output_type": "execute_result"
    }
   ],
   "source": [
    "#created a KNN Regressor model\n",
    "from sklearn.neighbors import KNeighborsRegressor\n",
    "KNN_model=KNeighborsRegressor()\n",
    "KNN_model.fit(X_train,y_train)\n"
   ]
  },
  {
   "cell_type": "code",
   "execution_count": 84,
   "metadata": {
    "colab": {
     "base_uri": "https://localhost:8080/"
    },
    "id": "0mu79OwkoF4z",
    "outputId": "add82d0d-d5ad-4018-c324-52e121931d63"
   },
   "outputs": [
    {
     "name": "stdout",
     "output_type": "stream",
     "text": [
      "Performance on training data using KNN Regressor: 0.6489665011205428\n",
      "Performance on testing data using KNN Regressor: 0.4414166052136663\n",
      "R2 RF:  0.4414166052136663\n",
      "MSE:  69457413545.04482\n",
      "MAE: 161799.78800370538\n",
      "MAPE: 32.242068704301516\n"
     ]
    }
   ],
   "source": [
    "y_pred = KNN_model.predict(X_test)\n",
    "print('Performance on training data using KNN Regressor:',KNN_model.score(X_train,y_train))\n",
    "print('Performance on testing data using KNN Regressor:',KNN_model.score(X_test,y_test))\n",
    "R2_KNN=metrics.r2_score(y_test, y_pred)\n",
    "print('R2 RF: ',R2_KNN)\n",
    "print('MSE: ',metrics.mean_squared_error(y_test, y_pred))\n",
    "print('MAE:',metrics.mean_absolute_error(y_test,y_pred))\n",
    "MAPE_KNN=mean_absolute_percentage_error(y_test,y_pred)\n",
    "print('MAPE:',MAPE_KNN)"
   ]
  },
  {
   "cell_type": "markdown",
   "metadata": {
    "id": "MgTpc3wkqXGX"
   },
   "source": [
    "### Support vector regressor"
   ]
  },
  {
   "cell_type": "markdown",
   "metadata": {
    "id": "xhY42cfIFW7P"
   },
   "source": [
    "* Support vector regressor classifies the new point depending on whether it lies on the positive or negative side of the hyperplane depending on the classes to predict."
   ]
  },
  {
   "cell_type": "code",
   "execution_count": 85,
   "metadata": {
    "colab": {
     "base_uri": "https://localhost:8080/"
    },
    "id": "HaG7nEseqYTr",
    "outputId": "9dc2610a-2643-4703-af6b-c4d7c9245a9d"
   },
   "outputs": [
    {
     "data": {
      "text/plain": [
       "SVR(C=1.0, cache_size=200, coef0=0.0, degree=3, epsilon=0.1,\n",
       "  gamma='auto_deprecated', kernel='rbf', max_iter=-1, shrinking=True,\n",
       "  tol=0.001, verbose=False)"
      ]
     },
     "execution_count": 85,
     "metadata": {},
     "output_type": "execute_result"
    }
   ],
   "source": [
    "#created a SVM Regressor model\n",
    "from sklearn.svm import SVR\n",
    "SVM_model=SVR()\n",
    "SVM_model.fit(X_train,y_train)"
   ]
  },
  {
   "cell_type": "code",
   "execution_count": 86,
   "metadata": {
    "colab": {
     "base_uri": "https://localhost:8080/"
    },
    "id": "OSDGeyLFqw6J",
    "outputId": "97de687b-9389-432e-e51a-48550d7d2308"
   },
   "outputs": [
    {
     "name": "stdout",
     "output_type": "stream",
     "text": [
      "Performance on training data using Support vector regressor: -0.06149523541760704\n",
      "Performance on testing data using Support vector regressor: -0.05448203593056622\n",
      "R2 SVM:  -0.05448203593056622\n",
      "MSE:  131120250850.75455\n",
      "MAE: 218548.83237869755\n",
      "MAPE: 42.98588424711342\n"
     ]
    }
   ],
   "source": [
    "y_pred = SVM_model.predict(X_test)\n",
    "print('Performance on training data using Support vector regressor:',SVM_model.score(X_train,y_train))\n",
    "print('Performance on testing data using Support vector regressor:',SVM_model.score(X_test,y_test))\n",
    "R2_SVM=metrics.r2_score(y_test, y_pred)\n",
    "print('R2 SVM: ',R2_SVM)\n",
    "print('MSE: ',metrics.mean_squared_error(y_test, y_pred))\n",
    "print('MAE:',metrics.mean_absolute_error(y_test,y_pred))\n",
    "MAPE_SVM=mean_absolute_percentage_error(y_test,y_pred)\n",
    "print('MAPE:',MAPE_SVM)"
   ]
  },
  {
   "cell_type": "code",
   "execution_count": 87,
   "metadata": {
    "colab": {
     "base_uri": "https://localhost:8080/",
     "height": 284
    },
    "id": "wCCZhf_E9P29",
    "outputId": "a75ea2cd-d74f-4709-bc7c-7c1cb6ce394e"
   },
   "outputs": [
    {
     "data": {
      "text/html": [
       "<div>\n",
       "<style scoped>\n",
       "    .dataframe tbody tr th:only-of-type {\n",
       "        vertical-align: middle;\n",
       "    }\n",
       "\n",
       "    .dataframe tbody tr th {\n",
       "        vertical-align: top;\n",
       "    }\n",
       "\n",
       "    .dataframe thead th {\n",
       "        text-align: right;\n",
       "    }\n",
       "</style>\n",
       "<table border=\"1\" class=\"dataframe\">\n",
       "  <thead>\n",
       "    <tr style=\"text-align: right;\">\n",
       "      <th></th>\n",
       "      <th>TrainTest</th>\n",
       "      <th>R2 Score</th>\n",
       "      <th>Mean Absolute Percentage Error</th>\n",
       "    </tr>\n",
       "  </thead>\n",
       "  <tbody>\n",
       "    <tr>\n",
       "      <th>0</th>\n",
       "      <td>Linear Regression</td>\n",
       "      <td>0.65852</td>\n",
       "      <td>26.12655</td>\n",
       "    </tr>\n",
       "    <tr>\n",
       "      <th>1</th>\n",
       "      <td>Random Forest</td>\n",
       "      <td>0.85350</td>\n",
       "      <td>14.45422</td>\n",
       "    </tr>\n",
       "    <tr>\n",
       "      <th>2</th>\n",
       "      <td>Gardient Boost</td>\n",
       "      <td>0.84799</td>\n",
       "      <td>15.48002</td>\n",
       "    </tr>\n",
       "    <tr>\n",
       "      <th>3</th>\n",
       "      <td>Ada Boost</td>\n",
       "      <td>0.27247</td>\n",
       "      <td>67.38883</td>\n",
       "    </tr>\n",
       "    <tr>\n",
       "      <th>4</th>\n",
       "      <td>Lasso</td>\n",
       "      <td>0.65710</td>\n",
       "      <td>26.13647</td>\n",
       "    </tr>\n",
       "    <tr>\n",
       "      <th>5</th>\n",
       "      <td>Ridge</td>\n",
       "      <td>0.65853</td>\n",
       "      <td>26.12574</td>\n",
       "    </tr>\n",
       "    <tr>\n",
       "      <th>6</th>\n",
       "      <td>SVM Regression</td>\n",
       "      <td>-0.05448</td>\n",
       "      <td>42.98588</td>\n",
       "    </tr>\n",
       "    <tr>\n",
       "      <th>7</th>\n",
       "      <td>KNN Regression</td>\n",
       "      <td>0.44142</td>\n",
       "      <td>32.24207</td>\n",
       "    </tr>\n",
       "  </tbody>\n",
       "</table>\n",
       "</div>"
      ],
      "text/plain": [
       "           TrainTest  R2 Score  Mean Absolute Percentage Error\n",
       "0  Linear Regression   0.65852                        26.12655\n",
       "1      Random Forest   0.85350                        14.45422\n",
       "2     Gardient Boost   0.84799                        15.48002\n",
       "3          Ada Boost   0.27247                        67.38883\n",
       "4              Lasso   0.65710                        26.13647\n",
       "5              Ridge   0.65853                        26.12574\n",
       "6     SVM Regression  -0.05448                        42.98588\n",
       "7     KNN Regression   0.44142                        32.24207"
      ]
     },
     "execution_count": 87,
     "metadata": {},
     "output_type": "execute_result"
    }
   ],
   "source": [
    "result = pd.DataFrame({'TrainTest' : ['Linear Regression', 'Random Forest','Gardient Boost','Ada Boost','Lasso','Ridge','SVM Regression', 'KNN Regression'], \n",
    "                       'R2 Score' : [R2_LR,R2_RF,R2_GB,R2_AD,R2_las,R2_rid,R2_SVM,R2_KNN], 'Mean Absolute Percentage Error' : [MAPE_LR,MAPE_RF,MAPE_GB,MAPE_AD,MAPE_las,MAPE_rid,MAPE_SVM,MAPE_KNN],\n",
    "                      })\n",
    "result\n",
    "\n"
   ]
  },
  {
   "cell_type": "markdown",
   "metadata": {
    "id": "SFToFB9c_-dl"
   },
   "source": [
    "After analysis below is the model...\n",
    "* Based on the above comparison, we can see that Gradient Boosting Regression model & Random Forest model outperforms all the other regression models. So, we will choose  **Random forest** as the best Regression Model with maximun R2 score 0.84 and low Mean absolute percentage error of 14.6"
   ]
  },
  {
   "cell_type": "code",
   "execution_count": 88,
   "metadata": {
    "colab": {
     "base_uri": "https://localhost:8080/"
    },
    "id": "8P1rxGyErNBj",
    "outputId": "cc8464a2-2726-4221-9833-e6ccf2acc86f"
   },
   "outputs": [
    {
     "data": {
      "text/plain": [
       "PCA(copy=True, iterated_power='auto', n_components=None, random_state=None,\n",
       "  svd_solver='auto', tol=0.0, whiten=False)"
      ]
     },
     "execution_count": 88,
     "metadata": {},
     "output_type": "execute_result"
    }
   ],
   "source": [
    "from sklearn.decomposition import PCA\n",
    "pca = PCA()\n",
    "pca.fit(X_train)"
   ]
  },
  {
   "cell_type": "code",
   "execution_count": 89,
   "metadata": {
    "colab": {
     "base_uri": "https://localhost:8080/",
     "height": 439
    },
    "id": "ZrjLEpE6rY0k",
    "outputId": "b2202360-06eb-4767-f618-dabfc7e20357"
   },
   "outputs": [
    {
     "name": "stdout",
     "output_type": "stream",
     "text": [
      "[8.67439399e-01 7.35614575e-02 3.22560966e-02 1.24163750e-02\n",
      " 7.69783314e-03 4.26784869e-03 2.31349714e-03 4.74008112e-05\n",
      " 2.95576807e-08 1.73604983e-08 1.46920919e-08 1.22413613e-08\n",
      " 6.15241894e-09 3.86021414e-09 3.63761643e-09 1.79718633e-09\n",
      " 1.16932241e-09 5.78788221e-10 4.72562144e-10 1.99865647e-10]\n"
     ]
    },
    {
     "data": {
      "image/png": "[encoded data removed]",
      "text/plain": [
       "<Figure size 720x360 with 1 Axes>"
      ]
     },
     "metadata": {
      "needs_background": "light"
     },
     "output_type": "display_data"
    }
   ],
   "source": [
    "print(pca.explained_variance_ratio_)\n",
    "plt.figure(figsize=(10, 5))\n",
    "plt.plot(pca.explained_variance_ratio_)\n",
    "plt.title('Cummulative variance explained by the PCs')\n",
    "plt.ylabel('Explained variance')\n",
    "plt.xlabel('Components')\n",
    "plt.show()"
   ]
  },
  {
   "cell_type": "markdown",
   "metadata": {
    "id": "Zm8KRKmN61zO"
   },
   "source": [
    "### Hyperparameter Tuning"
   ]
  },
  {
   "cell_type": "code",
   "execution_count": 93,
   "metadata": {
    "colab": {
     "base_uri": "https://localhost:8080/"
    },
    "id": "ou-rz3i_ua2z",
    "outputId": "4759e84f-9891-4806-f788-acfe01a02ef1"
   },
   "outputs": [
    {
     "name": "stdout",
     "output_type": "stream",
     "text": [
      "Fitting 3 folds for each of 3 candidates, totalling 9 fits\n",
      "[CV] RFR__n_estimators=100 ...........................................\n"
     ]
    },
    {
     "name": "stderr",
     "output_type": "stream",
     "text": [
      "[Parallel(n_jobs=1)]: Using backend SequentialBackend with 1 concurrent workers.\n"
     ]
    },
    {
     "name": "stdout",
     "output_type": "stream",
     "text": [
      "[CV] ............................ RFR__n_estimators=100, total=   8.0s\n",
      "[CV] RFR__n_estimators=100 ...........................................\n"
     ]
    },
    {
     "name": "stderr",
     "output_type": "stream",
     "text": [
      "[Parallel(n_jobs=1)]: Done   1 out of   1 | elapsed:    8.2s remaining:    0.0s\n"
     ]
    },
    {
     "name": "stdout",
     "output_type": "stream",
     "text": [
      "[CV] ............................ RFR__n_estimators=100, total=   7.3s\n",
      "[CV] RFR__n_estimators=100 ...........................................\n",
      "[CV] ............................ RFR__n_estimators=100, total=   7.3s\n",
      "[CV] RFR__n_estimators=200 ...........................................\n",
      "[CV] ............................ RFR__n_estimators=200, total=  15.2s\n",
      "[CV] RFR__n_estimators=200 ...........................................\n",
      "[CV] ............................ RFR__n_estimators=200, total=  14.8s\n",
      "[CV] RFR__n_estimators=200 ...........................................\n",
      "[CV] ............................ RFR__n_estimators=200, total=  14.8s\n",
      "[CV] RFR__n_estimators=400 ...........................................\n",
      "[CV] ............................ RFR__n_estimators=400, total=  30.8s\n",
      "[CV] RFR__n_estimators=400 ...........................................\n",
      "[CV] ............................ RFR__n_estimators=400, total=  30.5s\n",
      "[CV] RFR__n_estimators=400 ...........................................\n",
      "[CV] ............................ RFR__n_estimators=400, total=  29.7s\n"
     ]
    },
    {
     "name": "stderr",
     "output_type": "stream",
     "text": [
      "[Parallel(n_jobs=1)]: Done   9 out of   9 | elapsed:  2.7min finished\n"
     ]
    },
    {
     "name": "stdout",
     "output_type": "stream",
     "text": [
      "Performance on training data using Grid Search Random Forest: 0.9803367592536436\n",
      "Performance on testing data using Grid Search Random Forest: 0.8723370606788272\n",
      "R2 Grid search RF:  0.8690807950807934\n",
      "MSE Grid search:  16279233220.9233\n",
      "MAE Grid search: 72243.81996323529\n",
      "MAPE Grid search: 13.655098271209539\n"
     ]
    }
   ],
   "source": [
    "# Build the pipline for random forest regressor\n",
    "pipe_rf = Pipeline([('scaler',StandardScaler()),('RFR',RandomForestRegressor())])\n",
    "\n",
    "param_grid = {'RFR__n_estimators': [100,200,400] }\n",
    "\n",
    "grid = GridSearchCV(pipe_rf, param_grid=param_grid, cv=3,  verbose=2)\n",
    "grid.fit(X_train,y_train)\n",
    "\n",
    "y_pred = grid.predict(X_test)\n",
    "print('Performance on training data using Grid Search Random Forest:',grid.score(X_train,y_train))\n",
    "print('Performance on testing data using Grid Search Random Forest:',grid.score(X_val,y_val))\n",
    "R2_GSRF=metrics.r2_score(y_test, y_pred)\n",
    "print('R2 Grid search RF: ',R2_GSRF)\n",
    "print('MSE Grid search: ',metrics.mean_squared_error(y_test, y_pred))\n",
    "print('MAE Grid search:',metrics.mean_absolute_error(y_test,y_pred))\n",
    "MAPE_GSRF=mean_absolute_percentage_error(y_test,y_pred)\n",
    "print('MAPE Grid search:',MAPE_GSRF)"
   ]
  },
  {
   "cell_type": "code",
   "execution_count": 90,
   "metadata": {},
   "outputs": [
    {
     "name": "stdout",
     "output_type": "stream",
     "text": [
      "Fitting 3 folds for each of 3 candidates, totalling 9 fits\n",
      "[CV] RFR__n_estimators=100 ...........................................\n"
     ]
    },
    {
     "name": "stderr",
     "output_type": "stream",
     "text": [
      "[Parallel(n_jobs=1)]: Using backend SequentialBackend with 1 concurrent workers.\n"
     ]
    },
    {
     "name": "stdout",
     "output_type": "stream",
     "text": [
      "[CV] ............................ RFR__n_estimators=100, total=   7.5s\n",
      "[CV] RFR__n_estimators=100 ...........................................\n"
     ]
    },
    {
     "name": "stderr",
     "output_type": "stream",
     "text": [
      "[Parallel(n_jobs=1)]: Done   1 out of   1 | elapsed:    7.7s remaining:    0.0s\n"
     ]
    },
    {
     "name": "stdout",
     "output_type": "stream",
     "text": [
      "[CV] ............................ RFR__n_estimators=100, total=   7.3s\n",
      "[CV] RFR__n_estimators=100 ...........................................\n",
      "[CV] ............................ RFR__n_estimators=100, total=   7.3s\n",
      "[CV] RFR__n_estimators=200 ...........................................\n",
      "[CV] ............................ RFR__n_estimators=200, total=  15.2s\n",
      "[CV] RFR__n_estimators=200 ...........................................\n",
      "[CV] ............................ RFR__n_estimators=200, total=  14.8s\n",
      "[CV] RFR__n_estimators=200 ...........................................\n",
      "[CV] ............................ RFR__n_estimators=200, total=  15.2s\n",
      "[CV] RFR__n_estimators=400 ...........................................\n",
      "[CV] ............................ RFR__n_estimators=400, total=  30.2s\n",
      "[CV] RFR__n_estimators=400 ...........................................\n",
      "[CV] ............................ RFR__n_estimators=400, total=  30.7s\n",
      "[CV] RFR__n_estimators=400 ...........................................\n",
      "[CV] ............................ RFR__n_estimators=400, total=  29.7s\n"
     ]
    },
    {
     "name": "stderr",
     "output_type": "stream",
     "text": [
      "[Parallel(n_jobs=1)]: Done   9 out of   9 | elapsed:  2.7min finished\n"
     ]
    },
    {
     "name": "stdout",
     "output_type": "stream",
     "text": [
      "Performance on validation data using Grid Search Random Forest: 0.8731995092907607\n",
      "Performance on testing data using Grid Search Random Forest: 0.8702178474078904\n",
      "R2 Grid search RF:  0.8702178474078904\n",
      "MSE Grid search:  16137845713.80676\n",
      "MAE Grid search: 72091.2214175365\n",
      "MAPE Grid search: 13.645457494525356\n"
     ]
    }
   ],
   "source": [
    "pipe_rf = Pipeline([('scaler',StandardScaler()),('RFR',RandomForestRegressor())])\n",
    "\n",
    "param_grid = {'RFR__n_estimators': [100,200,400] }\n",
    "\n",
    "grid = GridSearchCV(pipe_rf, param_grid=param_grid, cv=3,  verbose=2)\n",
    "grid.fit(X_train,y_train)\n",
    "\n",
    "y_pred = grid.predict(X_test)\n",
    "print('Performance on validation data using Grid Search Random Forest:',grid.score(X_val,y_val))\n",
    "print('Performance on testing data using Grid Search Random Forest:',grid.score(X_test,y_test))\n",
    "R2_GSRF_val=metrics.r2_score(y_test, y_pred)\n",
    "print('R2 Grid search RF: ',R2_GSRF_val)\n",
    "print('MSE Grid search: ',metrics.mean_squared_error(y_test, y_pred))\n",
    "print('MAE Grid search:',metrics.mean_absolute_error(y_test,y_pred))\n",
    "MAPE_GSRF=mean_absolute_percentage_error(y_test,y_pred)\n",
    "print('MAPE Grid search:',MAPE_GSRF)"
   ]
  },
  {
   "cell_type": "code",
   "execution_count": 91,
   "metadata": {
    "colab": {
     "base_uri": "https://localhost:8080/"
    },
    "id": "dxWHRyBUDXVA",
    "outputId": "3383ee34-38da-41aa-f309-445d73c99677"
   },
   "outputs": [
    {
     "data": {
      "text/plain": [
       "array([0.00599786, 0.00610874, 0.08381343, 0.0111248 , 0.00277381,\n",
       "       0.03741917, 0.01503131, 0.00493493, 0.29255224, 0.01444513,\n",
       "       0.0144386 , 0.02593854, 0.00153194, 0.17282073, 0.07613118,\n",
       "       0.02230036, 0.01170073, 0.16118214, 0.01349097, 0.02626341])"
      ]
     },
     "execution_count": 91,
     "metadata": {},
     "output_type": "execute_result"
    }
   ],
   "source": [
    "#feature importance from pipleline\n",
    "grid.best_estimator_.named_steps['RFR'].feature_importances_"
   ]
  },
  {
   "cell_type": "code",
   "execution_count": 115,
   "metadata": {},
   "outputs": [
    {
     "name": "stdout",
     "output_type": "stream",
     "text": [
      "Fitting 3 folds for each of 3 candidates, totalling 9 fits\n",
      "[CV] RFR__n_estimators=100 ...........................................\n"
     ]
    },
    {
     "name": "stderr",
     "output_type": "stream",
     "text": [
      "[Parallel(n_jobs=1)]: Using backend SequentialBackend with 1 concurrent workers.\n"
     ]
    },
    {
     "name": "stdout",
     "output_type": "stream",
     "text": [
      "[CV] ............................ RFR__n_estimators=100, total=   7.5s\n",
      "[CV] RFR__n_estimators=100 ...........................................\n"
     ]
    },
    {
     "name": "stderr",
     "output_type": "stream",
     "text": [
      "[Parallel(n_jobs=1)]: Done   1 out of   1 | elapsed:    7.7s remaining:    0.0s\n"
     ]
    },
    {
     "name": "stdout",
     "output_type": "stream",
     "text": [
      "[CV] ............................ RFR__n_estimators=100, total=   6.9s\n",
      "[CV] RFR__n_estimators=100 ...........................................\n",
      "[CV] ............................ RFR__n_estimators=100, total=   6.6s\n",
      "[CV] RFR__n_estimators=200 ...........................................\n",
      "[CV] ............................ RFR__n_estimators=200, total=  13.3s\n",
      "[CV] RFR__n_estimators=200 ...........................................\n",
      "[CV] ............................ RFR__n_estimators=200, total=  13.8s\n",
      "[CV] RFR__n_estimators=200 ...........................................\n",
      "[CV] ............................ RFR__n_estimators=200, total=  15.1s\n",
      "[CV] RFR__n_estimators=400 ...........................................\n",
      "[CV] ............................ RFR__n_estimators=400, total=  26.9s\n",
      "[CV] RFR__n_estimators=400 ...........................................\n",
      "[CV] ............................ RFR__n_estimators=400, total=  27.2s\n",
      "[CV] RFR__n_estimators=400 ...........................................\n",
      "[CV] ............................ RFR__n_estimators=400, total=  27.1s\n"
     ]
    },
    {
     "name": "stderr",
     "output_type": "stream",
     "text": [
      "[Parallel(n_jobs=1)]: Done   9 out of   9 | elapsed:  2.5min finished\n"
     ]
    },
    {
     "name": "stdout",
     "output_type": "stream",
     "text": [
      "Fitting 3 folds for each of 3 candidates, totalling 9 fits\n",
      "[CV] RFR__n_estimators=100 ...........................................\n"
     ]
    },
    {
     "name": "stderr",
     "output_type": "stream",
     "text": [
      "[Parallel(n_jobs=1)]: Using backend SequentialBackend with 1 concurrent workers.\n"
     ]
    },
    {
     "name": "stdout",
     "output_type": "stream",
     "text": [
      "[CV] ............................ RFR__n_estimators=100, total=   6.7s\n",
      "[CV] RFR__n_estimators=100 ...........................................\n"
     ]
    },
    {
     "name": "stderr",
     "output_type": "stream",
     "text": [
      "[Parallel(n_jobs=1)]: Done   1 out of   1 | elapsed:    6.9s remaining:    0.0s\n"
     ]
    },
    {
     "name": "stdout",
     "output_type": "stream",
     "text": [
      "[CV] ............................ RFR__n_estimators=100, total=   7.0s\n",
      "[CV] RFR__n_estimators=100 ...........................................\n",
      "[CV] ............................ RFR__n_estimators=100, total=   7.6s\n",
      "[CV] RFR__n_estimators=200 ...........................................\n",
      "[CV] ............................ RFR__n_estimators=200, total=  13.5s\n",
      "[CV] RFR__n_estimators=200 ...........................................\n",
      "[CV] ............................ RFR__n_estimators=200, total=  13.9s\n",
      "[CV] RFR__n_estimators=200 ...........................................\n",
      "[CV] ............................ RFR__n_estimators=200, total=  13.5s\n",
      "[CV] RFR__n_estimators=400 ...........................................\n",
      "[CV] ............................ RFR__n_estimators=400, total=  40.6s\n",
      "[CV] RFR__n_estimators=400 ...........................................\n",
      "[CV] ............................ RFR__n_estimators=400, total=  43.7s\n",
      "[CV] RFR__n_estimators=400 ...........................................\n",
      "[CV] ............................ RFR__n_estimators=400, total=  41.2s\n"
     ]
    },
    {
     "name": "stderr",
     "output_type": "stream",
     "text": [
      "[Parallel(n_jobs=1)]: Done   9 out of   9 | elapsed:  3.2min finished\n"
     ]
    },
    {
     "name": "stdout",
     "output_type": "stream",
     "text": [
      "Fitting 3 folds for each of 3 candidates, totalling 9 fits\n",
      "[CV] RFR__n_estimators=100 ...........................................\n"
     ]
    },
    {
     "name": "stderr",
     "output_type": "stream",
     "text": [
      "[Parallel(n_jobs=1)]: Using backend SequentialBackend with 1 concurrent workers.\n"
     ]
    },
    {
     "name": "stdout",
     "output_type": "stream",
     "text": [
      "[CV] ............................ RFR__n_estimators=100, total=  10.0s\n",
      "[CV] RFR__n_estimators=100 ...........................................\n"
     ]
    },
    {
     "name": "stderr",
     "output_type": "stream",
     "text": [
      "[Parallel(n_jobs=1)]: Done   1 out of   1 | elapsed:   10.3s remaining:    0.0s\n"
     ]
    },
    {
     "name": "stdout",
     "output_type": "stream",
     "text": [
      "[CV] ............................ RFR__n_estimators=100, total=   9.7s\n",
      "[CV] RFR__n_estimators=100 ...........................................\n",
      "[CV] ............................ RFR__n_estimators=100, total=   9.7s\n",
      "[CV] RFR__n_estimators=200 ...........................................\n",
      "[CV] ............................ RFR__n_estimators=200, total=  19.9s\n",
      "[CV] RFR__n_estimators=200 ...........................................\n",
      "[CV] ............................ RFR__n_estimators=200, total=  19.8s\n",
      "[CV] RFR__n_estimators=200 ...........................................\n",
      "[CV] ............................ RFR__n_estimators=200, total=  19.5s\n",
      "[CV] RFR__n_estimators=400 ...........................................\n",
      "[CV] ............................ RFR__n_estimators=400, total=  40.2s\n",
      "[CV] RFR__n_estimators=400 ...........................................\n",
      "[CV] ............................ RFR__n_estimators=400, total=  39.2s\n",
      "[CV] RFR__n_estimators=400 ...........................................\n",
      "[CV] ............................ RFR__n_estimators=400, total=  42.0s\n"
     ]
    },
    {
     "name": "stderr",
     "output_type": "stream",
     "text": [
      "[Parallel(n_jobs=1)]: Done   9 out of   9 | elapsed:  3.6min finished\n",
      "[Parallel(n_jobs=1)]: Using backend SequentialBackend with 1 concurrent workers.\n"
     ]
    },
    {
     "name": "stdout",
     "output_type": "stream",
     "text": [
      "Fitting 3 folds for each of 3 candidates, totalling 9 fits\n",
      "[CV] RFR__n_estimators=100 ...........................................\n",
      "[CV] ............................ RFR__n_estimators=100, total=   9.9s\n",
      "[CV] RFR__n_estimators=100 ...........................................\n"
     ]
    },
    {
     "name": "stderr",
     "output_type": "stream",
     "text": [
      "[Parallel(n_jobs=1)]: Done   1 out of   1 | elapsed:   10.2s remaining:    0.0s\n"
     ]
    },
    {
     "name": "stdout",
     "output_type": "stream",
     "text": [
      "[CV] ............................ RFR__n_estimators=100, total=   9.9s\n",
      "[CV] RFR__n_estimators=100 ...........................................\n",
      "[CV] ............................ RFR__n_estimators=100, total=   9.8s\n",
      "[CV] RFR__n_estimators=200 ...........................................\n",
      "[CV] ............................ RFR__n_estimators=200, total=  22.4s\n",
      "[CV] RFR__n_estimators=200 ...........................................\n",
      "[CV] ............................ RFR__n_estimators=200, total=  19.4s\n",
      "[CV] RFR__n_estimators=200 ...........................................\n",
      "[CV] ............................ RFR__n_estimators=200, total=  19.9s\n",
      "[CV] RFR__n_estimators=400 ...........................................\n",
      "[CV] ............................ RFR__n_estimators=400, total=  40.1s\n",
      "[CV] RFR__n_estimators=400 ...........................................\n",
      "[CV] ............................ RFR__n_estimators=400, total=  40.2s\n",
      "[CV] RFR__n_estimators=400 ...........................................\n",
      "[CV] ............................ RFR__n_estimators=400, total=  36.7s\n"
     ]
    },
    {
     "name": "stderr",
     "output_type": "stream",
     "text": [
      "[Parallel(n_jobs=1)]: Done   9 out of   9 | elapsed:  3.6min finished\n"
     ]
    },
    {
     "name": "stdout",
     "output_type": "stream",
     "text": [
      "Fitting 3 folds for each of 3 candidates, totalling 9 fits\n",
      "[CV] RFR__n_estimators=100 ...........................................\n"
     ]
    },
    {
     "name": "stderr",
     "output_type": "stream",
     "text": [
      "[Parallel(n_jobs=1)]: Using backend SequentialBackend with 1 concurrent workers.\n"
     ]
    },
    {
     "name": "stdout",
     "output_type": "stream",
     "text": [
      "[CV] ............................ RFR__n_estimators=100, total=   9.3s\n",
      "[CV] RFR__n_estimators=100 ...........................................\n"
     ]
    },
    {
     "name": "stderr",
     "output_type": "stream",
     "text": [
      "[Parallel(n_jobs=1)]: Done   1 out of   1 | elapsed:    9.6s remaining:    0.0s\n"
     ]
    },
    {
     "name": "stdout",
     "output_type": "stream",
     "text": [
      "[CV] ............................ RFR__n_estimators=100, total=   9.6s\n",
      "[CV] RFR__n_estimators=100 ...........................................\n",
      "[CV] ............................ RFR__n_estimators=100, total=   7.4s\n",
      "[CV] RFR__n_estimators=200 ...........................................\n",
      "[CV] ............................ RFR__n_estimators=200, total=  13.3s\n",
      "[CV] RFR__n_estimators=200 ...........................................\n",
      "[CV] ............................ RFR__n_estimators=200, total=  13.7s\n",
      "[CV] RFR__n_estimators=200 ...........................................\n",
      "[CV] ............................ RFR__n_estimators=200, total=  13.3s\n",
      "[CV] RFR__n_estimators=400 ...........................................\n",
      "[CV] ............................ RFR__n_estimators=400, total=  31.4s\n",
      "[CV] RFR__n_estimators=400 ...........................................\n",
      "[CV] ............................ RFR__n_estimators=400, total=  27.1s\n",
      "[CV] RFR__n_estimators=400 ...........................................\n",
      "[CV] ............................ RFR__n_estimators=400, total=  26.3s\n"
     ]
    },
    {
     "name": "stderr",
     "output_type": "stream",
     "text": [
      "[Parallel(n_jobs=1)]: Done   9 out of   9 | elapsed:  2.6min finished\n"
     ]
    },
    {
     "name": "stdout",
     "output_type": "stream",
     "text": [
      "Fitting 3 folds for each of 3 candidates, totalling 9 fits\n",
      "[CV] RFR__n_estimators=100 ...........................................\n"
     ]
    },
    {
     "name": "stderr",
     "output_type": "stream",
     "text": [
      "[Parallel(n_jobs=1)]: Using backend SequentialBackend with 1 concurrent workers.\n"
     ]
    },
    {
     "name": "stdout",
     "output_type": "stream",
     "text": [
      "[CV] ............................ RFR__n_estimators=100, total=   7.1s\n",
      "[CV] RFR__n_estimators=100 ...........................................\n"
     ]
    },
    {
     "name": "stderr",
     "output_type": "stream",
     "text": [
      "[Parallel(n_jobs=1)]: Done   1 out of   1 | elapsed:    7.3s remaining:    0.0s\n"
     ]
    },
    {
     "name": "stdout",
     "output_type": "stream",
     "text": [
      "[CV] ............................ RFR__n_estimators=100, total=   7.0s\n",
      "[CV] RFR__n_estimators=100 ...........................................\n",
      "[CV] ............................ RFR__n_estimators=100, total=   6.7s\n",
      "[CV] RFR__n_estimators=200 ...........................................\n",
      "[CV] ............................ RFR__n_estimators=200, total=  13.4s\n",
      "[CV] RFR__n_estimators=200 ...........................................\n",
      "[CV] ............................ RFR__n_estimators=200, total=  13.5s\n",
      "[CV] RFR__n_estimators=200 ...........................................\n",
      "[CV] ............................ RFR__n_estimators=200, total=  14.6s\n",
      "[CV] RFR__n_estimators=400 ...........................................\n",
      "[CV] ............................ RFR__n_estimators=400, total=  28.4s\n",
      "[CV] RFR__n_estimators=400 ...........................................\n",
      "[CV] ............................ RFR__n_estimators=400, total=  26.3s\n",
      "[CV] RFR__n_estimators=400 ...........................................\n",
      "[CV] ............................ RFR__n_estimators=400, total=  27.6s\n"
     ]
    },
    {
     "name": "stderr",
     "output_type": "stream",
     "text": [
      "[Parallel(n_jobs=1)]: Done   9 out of   9 | elapsed:  2.5min finished\n"
     ]
    },
    {
     "name": "stdout",
     "output_type": "stream",
     "text": [
      "Fitting 3 folds for each of 3 candidates, totalling 9 fits\n",
      "[CV] RFR__n_estimators=100 ...........................................\n"
     ]
    },
    {
     "name": "stderr",
     "output_type": "stream",
     "text": [
      "[Parallel(n_jobs=1)]: Using backend SequentialBackend with 1 concurrent workers.\n"
     ]
    },
    {
     "name": "stdout",
     "output_type": "stream",
     "text": [
      "[CV] ............................ RFR__n_estimators=100, total=   6.6s\n",
      "[CV] RFR__n_estimators=100 ...........................................\n"
     ]
    },
    {
     "name": "stderr",
     "output_type": "stream",
     "text": [
      "[Parallel(n_jobs=1)]: Done   1 out of   1 | elapsed:    6.8s remaining:    0.0s\n"
     ]
    },
    {
     "name": "stdout",
     "output_type": "stream",
     "text": [
      "[CV] ............................ RFR__n_estimators=100, total=   6.5s\n",
      "[CV] RFR__n_estimators=100 ...........................................\n",
      "[CV] ............................ RFR__n_estimators=100, total=   6.5s\n",
      "[CV] RFR__n_estimators=200 ...........................................\n",
      "[CV] ............................ RFR__n_estimators=200, total=  13.5s\n",
      "[CV] RFR__n_estimators=200 ...........................................\n",
      "[CV] ............................ RFR__n_estimators=200, total=  13.7s\n",
      "[CV] RFR__n_estimators=200 ...........................................\n",
      "[CV] ............................ RFR__n_estimators=200, total=  13.1s\n",
      "[CV] RFR__n_estimators=400 ...........................................\n",
      "[CV] ............................ RFR__n_estimators=400, total=  26.4s\n",
      "[CV] RFR__n_estimators=400 ...........................................\n",
      "[CV] ............................ RFR__n_estimators=400, total=  27.0s\n",
      "[CV] RFR__n_estimators=400 ...........................................\n",
      "[CV] ............................ RFR__n_estimators=400, total=  26.2s\n"
     ]
    },
    {
     "name": "stderr",
     "output_type": "stream",
     "text": [
      "[Parallel(n_jobs=1)]: Done   9 out of   9 | elapsed:  2.4min finished\n"
     ]
    },
    {
     "name": "stdout",
     "output_type": "stream",
     "text": [
      "Fitting 3 folds for each of 3 candidates, totalling 9 fits\n",
      "[CV] RFR__n_estimators=100 ...........................................\n"
     ]
    },
    {
     "name": "stderr",
     "output_type": "stream",
     "text": [
      "[Parallel(n_jobs=1)]: Using backend SequentialBackend with 1 concurrent workers.\n"
     ]
    },
    {
     "name": "stdout",
     "output_type": "stream",
     "text": [
      "[CV] ............................ RFR__n_estimators=100, total=   6.6s\n",
      "[CV] RFR__n_estimators=100 ...........................................\n"
     ]
    },
    {
     "name": "stderr",
     "output_type": "stream",
     "text": [
      "[Parallel(n_jobs=1)]: Done   1 out of   1 | elapsed:    6.8s remaining:    0.0s\n"
     ]
    },
    {
     "name": "stdout",
     "output_type": "stream",
     "text": [
      "[CV] ............................ RFR__n_estimators=100, total=   6.5s\n",
      "[CV] RFR__n_estimators=100 ...........................................\n",
      "[CV] ............................ RFR__n_estimators=100, total=   6.5s\n",
      "[CV] RFR__n_estimators=200 ...........................................\n",
      "[CV] ............................ RFR__n_estimators=200, total=  13.6s\n",
      "[CV] RFR__n_estimators=200 ...........................................\n",
      "[CV] ............................ RFR__n_estimators=200, total=  13.7s\n",
      "[CV] RFR__n_estimators=200 ...........................................\n",
      "[CV] ............................ RFR__n_estimators=200, total=  13.3s\n",
      "[CV] RFR__n_estimators=400 ...........................................\n",
      "[CV] ............................ RFR__n_estimators=400, total=  26.4s\n",
      "[CV] RFR__n_estimators=400 ...........................................\n",
      "[CV] ............................ RFR__n_estimators=400, total=  26.9s\n",
      "[CV] RFR__n_estimators=400 ...........................................\n",
      "[CV] ............................ RFR__n_estimators=400, total=  26.9s\n"
     ]
    },
    {
     "name": "stderr",
     "output_type": "stream",
     "text": [
      "[Parallel(n_jobs=1)]: Done   9 out of   9 | elapsed:  2.4min finished\n"
     ]
    },
    {
     "name": "stdout",
     "output_type": "stream",
     "text": [
      "Fitting 3 folds for each of 3 candidates, totalling 9 fits\n",
      "[CV] RFR__n_estimators=100 ...........................................\n"
     ]
    },
    {
     "name": "stderr",
     "output_type": "stream",
     "text": [
      "[Parallel(n_jobs=1)]: Using backend SequentialBackend with 1 concurrent workers.\n"
     ]
    },
    {
     "name": "stdout",
     "output_type": "stream",
     "text": [
      "[CV] ............................ RFR__n_estimators=100, total=   6.6s\n",
      "[CV] RFR__n_estimators=100 ...........................................\n"
     ]
    },
    {
     "name": "stderr",
     "output_type": "stream",
     "text": [
      "[Parallel(n_jobs=1)]: Done   1 out of   1 | elapsed:    6.8s remaining:    0.0s\n"
     ]
    },
    {
     "name": "stdout",
     "output_type": "stream",
     "text": [
      "[CV] ............................ RFR__n_estimators=100, total=   7.0s\n",
      "[CV] RFR__n_estimators=100 ...........................................\n",
      "[CV] ............................ RFR__n_estimators=100, total=   6.5s\n",
      "[CV] RFR__n_estimators=200 ...........................................\n",
      "[CV] ............................ RFR__n_estimators=200, total=  13.2s\n",
      "[CV] RFR__n_estimators=200 ...........................................\n",
      "[CV] ............................ RFR__n_estimators=200, total=  13.2s\n",
      "[CV] RFR__n_estimators=200 ...........................................\n",
      "[CV] ............................ RFR__n_estimators=200, total=  13.2s\n",
      "[CV] RFR__n_estimators=400 ...........................................\n",
      "[CV] ............................ RFR__n_estimators=400, total=  27.5s\n",
      "[CV] RFR__n_estimators=400 ...........................................\n",
      "[CV] ............................ RFR__n_estimators=400, total=  27.4s\n",
      "[CV] RFR__n_estimators=400 ...........................................\n",
      "[CV] ............................ RFR__n_estimators=400, total=  27.2s\n"
     ]
    },
    {
     "name": "stderr",
     "output_type": "stream",
     "text": [
      "[Parallel(n_jobs=1)]: Done   9 out of   9 | elapsed:  2.4min finished\n"
     ]
    },
    {
     "name": "stdout",
     "output_type": "stream",
     "text": [
      "Fitting 3 folds for each of 3 candidates, totalling 9 fits\n",
      "[CV] RFR__n_estimators=100 ...........................................\n"
     ]
    },
    {
     "name": "stderr",
     "output_type": "stream",
     "text": [
      "[Parallel(n_jobs=1)]: Using backend SequentialBackend with 1 concurrent workers.\n"
     ]
    },
    {
     "name": "stdout",
     "output_type": "stream",
     "text": [
      "[CV] ............................ RFR__n_estimators=100, total=   6.6s\n",
      "[CV] RFR__n_estimators=100 ...........................................\n"
     ]
    },
    {
     "name": "stderr",
     "output_type": "stream",
     "text": [
      "[Parallel(n_jobs=1)]: Done   1 out of   1 | elapsed:    6.8s remaining:    0.0s\n"
     ]
    },
    {
     "name": "stdout",
     "output_type": "stream",
     "text": [
      "[CV] ............................ RFR__n_estimators=100, total=   6.6s\n",
      "[CV] RFR__n_estimators=100 ...........................................\n",
      "[CV] ............................ RFR__n_estimators=100, total=   6.5s\n",
      "[CV] RFR__n_estimators=200 ...........................................\n",
      "[CV] ............................ RFR__n_estimators=200, total=  13.2s\n",
      "[CV] RFR__n_estimators=200 ...........................................\n",
      "[CV] ............................ RFR__n_estimators=200, total=  13.9s\n",
      "[CV] RFR__n_estimators=200 ...........................................\n",
      "[CV] ............................ RFR__n_estimators=200, total=  13.2s\n",
      "[CV] RFR__n_estimators=400 ...........................................\n",
      "[CV] ............................ RFR__n_estimators=400, total=  26.8s\n",
      "[CV] RFR__n_estimators=400 ...........................................\n",
      "[CV] ............................ RFR__n_estimators=400, total=  27.4s\n",
      "[CV] RFR__n_estimators=400 ...........................................\n",
      "[CV] ............................ RFR__n_estimators=400, total=  26.2s\n"
     ]
    },
    {
     "name": "stderr",
     "output_type": "stream",
     "text": [
      "[Parallel(n_jobs=1)]: Done   9 out of   9 | elapsed:  2.4min finished\n"
     ]
    },
    {
     "name": "stdout",
     "output_type": "stream",
     "text": [
      "Cross validation score of Grid Search Random Forest: 0.8556881914674911\n"
     ]
    }
   ],
   "source": [
    "#KFold cross validation for Random forest\n",
    "\n",
    "def kfold_validation(x,y):\n",
    "     kfold = KFold(n_splits=10, random_state=1)\n",
    "     results=cross_val_score(grid, x, y, cv=kfold)\n",
    "#      print(results)\n",
    "     cross_k_GSrf=results.mean()\n",
    "     return cross_k_GSrf\n",
    "     \n",
    "        \n",
    "a=kfold_validation(X_train,y_train)\n",
    "\n",
    "print(\"Cross validation score of Grid Search Random Forest:\" , a)"
   ]
  },
  {
   "cell_type": "code",
   "execution_count": 116,
   "metadata": {},
   "outputs": [
    {
     "data": {
      "text/html": [
       "<div>\n",
       "<style scoped>\n",
       "    .dataframe tbody tr th:only-of-type {\n",
       "        vertical-align: middle;\n",
       "    }\n",
       "\n",
       "    .dataframe tbody tr th {\n",
       "        vertical-align: top;\n",
       "    }\n",
       "\n",
       "    .dataframe thead th {\n",
       "        text-align: right;\n",
       "    }\n",
       "</style>\n",
       "<table border=\"1\" class=\"dataframe\">\n",
       "  <thead>\n",
       "    <tr style=\"text-align: right;\">\n",
       "      <th></th>\n",
       "      <th>Grid search</th>\n",
       "      <th>R2 Score_train_val</th>\n",
       "      <th>R2 Score_val_test</th>\n",
       "      <th>Cross val</th>\n",
       "    </tr>\n",
       "  </thead>\n",
       "  <tbody>\n",
       "    <tr>\n",
       "      <th>0</th>\n",
       "      <td>Random Forest</td>\n",
       "      <td>0.86908</td>\n",
       "      <td>0.87022</td>\n",
       "      <td>0.85569</td>\n",
       "    </tr>\n",
       "  </tbody>\n",
       "</table>\n",
       "</div>"
      ],
      "text/plain": [
       "     Grid search  R2 Score_train_val  R2 Score_val_test  Cross val\n",
       "0  Random Forest             0.86908            0.87022    0.85569"
      ]
     },
     "execution_count": 116,
     "metadata": {},
     "output_type": "execute_result"
    }
   ],
   "source": [
    "result1 = pd.DataFrame({'Grid search' : ['Random Forest'], 'R2 Score_train_val' : [R2_GSRF], 'R2 Score_val_test' : [R2_GSRF_val], 'Cross val' : [a]}) \n",
    "                        \n",
    "result1"
   ]
  },
  {
   "cell_type": "markdown",
   "metadata": {},
   "source": [
    "Above is the cross validation score and percentage error of random serach algorithm"
   ]
  },
  {
   "cell_type": "code",
   "execution_count": 98,
   "metadata": {
    "colab": {
     "base_uri": "https://localhost:8080/",
     "height": 336
    },
    "id": "hLWGLuY2E_px",
    "outputId": "3a6b3937-1e0f-439b-cece-92a1ab617145"
   },
   "outputs": [
    {
     "data": {
      "image/png": "[encoded data removed]",
      "text/plain": [
       "<Figure size 432x288 with 1 Axes>"
      ]
     },
     "metadata": {
      "needs_background": "light"
     },
     "output_type": "display_data"
    }
   ],
   "source": [
    "# Plotting y_test and y_pred to understand the spread\n",
    "def prediction_graph(x,y):\n",
    "     fig = plt.figure()\n",
    "     plt.scatter(x,y)\n",
    "     fig.suptitle('y_test vs y_pred', fontsize = 20)              # Plot heading \n",
    "     plt.xlabel('y_test', fontsize = 16)                          # X-label\n",
    "     plt.ylabel('y_pred', fontsize = 16)                          # Y-label\n",
    "\n",
    "prediction_graph(y_test, y_pred)\n"
   ]
  },
  {
   "cell_type": "markdown",
   "metadata": {},
   "source": [
    "# Insight from graph\n",
    "We are able to get almost horizontal line can be an indication of linear relationship ,thus taking Random forest regression algorithm linear regression seems to be the best option. "
   ]
  },
  {
   "cell_type": "code",
   "execution_count": 91,
   "metadata": {},
   "outputs": [
    {
     "data": {
      "image/png": "[encoded data removed]",
      "text/plain": [
       "<Figure size 432x288 with 1 Axes>"
      ]
     },
     "metadata": {
      "needs_background": "light"
     },
     "output_type": "display_data"
    },
    {
     "data": {
      "text/html": [
       "<div>\n",
       "<style scoped>\n",
       "    .dataframe tbody tr th:only-of-type {\n",
       "        vertical-align: middle;\n",
       "    }\n",
       "\n",
       "    .dataframe tbody tr th {\n",
       "        vertical-align: top;\n",
       "    }\n",
       "\n",
       "    .dataframe thead th {\n",
       "        text-align: right;\n",
       "    }\n",
       "</style>\n",
       "<table border=\"1\" class=\"dataframe\">\n",
       "  <thead>\n",
       "    <tr style=\"text-align: right;\">\n",
       "      <th></th>\n",
       "      <th>feature</th>\n",
       "      <th>importance</th>\n",
       "    </tr>\n",
       "  </thead>\n",
       "  <tbody>\n",
       "    <tr>\n",
       "      <th>8</th>\n",
       "      <td>quality</td>\n",
       "      <td>0.28290</td>\n",
       "    </tr>\n",
       "    <tr>\n",
       "      <th>13</th>\n",
       "      <td>lat</td>\n",
       "      <td>0.17173</td>\n",
       "    </tr>\n",
       "    <tr>\n",
       "      <th>17</th>\n",
       "      <td>furnished</td>\n",
       "      <td>0.17045</td>\n",
       "    </tr>\n",
       "    <tr>\n",
       "      <th>2</th>\n",
       "      <td>living_measure</td>\n",
       "      <td>0.08521</td>\n",
       "    </tr>\n",
       "    <tr>\n",
       "      <th>14</th>\n",
       "      <td>long</td>\n",
       "      <td>0.07548</td>\n",
       "    </tr>\n",
       "    <tr>\n",
       "      <th>5</th>\n",
       "      <td>coast</td>\n",
       "      <td>0.03736</td>\n",
       "    </tr>\n",
       "    <tr>\n",
       "      <th>19</th>\n",
       "      <td>house_age</td>\n",
       "      <td>0.02683</td>\n",
       "    </tr>\n",
       "    <tr>\n",
       "      <th>11</th>\n",
       "      <td>yr_built</td>\n",
       "      <td>0.02610</td>\n",
       "    </tr>\n",
       "    <tr>\n",
       "      <th>15</th>\n",
       "      <td>living_measure15</td>\n",
       "      <td>0.02240</td>\n",
       "    </tr>\n",
       "    <tr>\n",
       "      <th>6</th>\n",
       "      <td>sight</td>\n",
       "      <td>0.01505</td>\n",
       "    </tr>\n",
       "    <tr>\n",
       "      <th>9</th>\n",
       "      <td>ceil_measure</td>\n",
       "      <td>0.01460</td>\n",
       "    </tr>\n",
       "    <tr>\n",
       "      <th>10</th>\n",
       "      <td>basement</td>\n",
       "      <td>0.01448</td>\n",
       "    </tr>\n",
       "    <tr>\n",
       "      <th>18</th>\n",
       "      <td>total_area</td>\n",
       "      <td>0.01313</td>\n",
       "    </tr>\n",
       "    <tr>\n",
       "      <th>16</th>\n",
       "      <td>lot_measure15</td>\n",
       "      <td>0.01140</td>\n",
       "    </tr>\n",
       "    <tr>\n",
       "      <th>3</th>\n",
       "      <td>lot_measure</td>\n",
       "      <td>0.01108</td>\n",
       "    </tr>\n",
       "    <tr>\n",
       "      <th>1</th>\n",
       "      <td>room_bath</td>\n",
       "      <td>0.00653</td>\n",
       "    </tr>\n",
       "    <tr>\n",
       "      <th>0</th>\n",
       "      <td>room_bed</td>\n",
       "      <td>0.00609</td>\n",
       "    </tr>\n",
       "    <tr>\n",
       "      <th>7</th>\n",
       "      <td>condition</td>\n",
       "      <td>0.00497</td>\n",
       "    </tr>\n",
       "    <tr>\n",
       "      <th>4</th>\n",
       "      <td>ceil</td>\n",
       "      <td>0.00268</td>\n",
       "    </tr>\n",
       "    <tr>\n",
       "      <th>12</th>\n",
       "      <td>yr_renovated</td>\n",
       "      <td>0.00153</td>\n",
       "    </tr>\n",
       "  </tbody>\n",
       "</table>\n",
       "</div>"
      ],
      "text/plain": [
       "             feature  importance\n",
       "8            quality     0.28290\n",
       "13               lat     0.17173\n",
       "17         furnished     0.17045\n",
       "2     living_measure     0.08521\n",
       "14              long     0.07548\n",
       "5              coast     0.03736\n",
       "19         house_age     0.02683\n",
       "11          yr_built     0.02610\n",
       "15  living_measure15     0.02240\n",
       "6              sight     0.01505\n",
       "9       ceil_measure     0.01460\n",
       "10          basement     0.01448\n",
       "18        total_area     0.01313\n",
       "16     lot_measure15     0.01140\n",
       "3        lot_measure     0.01108\n",
       "1          room_bath     0.00653\n",
       "0           room_bed     0.00609\n",
       "7          condition     0.00497\n",
       "4               ceil     0.00268\n",
       "12      yr_renovated     0.00153"
      ]
     },
     "execution_count": 91,
     "metadata": {},
     "output_type": "execute_result"
    }
   ],
   "source": [
    "from matplotlib import pyplot\n",
    "\n",
    "\n",
    "importance = grid.best_estimator_.named_steps['RFR'].feature_importances_\n",
    "\n",
    "# # plot feature importance\n",
    "pyplot.bar([x for x in range(len(importance))], importance)\n",
    "pyplot.show()\n",
    "\n",
    "names = []\n",
    "importpercent=[]\n",
    "for feat, importance in zip(X.columns, grid.best_estimator_.named_steps['RFR'].feature_importances_):\n",
    "    names.append(feat)\n",
    "    importpercent.append(importance)\n",
    "\n",
    "front=pd.DataFrame({'feature' : names, 'importance' : importpercent})\n",
    "front.sort_values('importance',ascending=False)"
   ]
  },
  {
   "cell_type": "markdown",
   "metadata": {
    "id": "gsi5CqXmIKJ5"
   },
   "source": [
    "#### Observation\n",
    "* After Analysing variables in EDA , Price (Target Variable) have linear relationship with living_measure , living_measure15 and ceil_measure\n",
    "* There is Linear relation exist between lot_ measure and total area And also there is some linear relation between ceil_measure and living_measure \n",
    "* zipcode has No clear relationship with price.\n",
    "* After analysing variable and factors influencing the house price we have found Random Forest model gives best Result.\n",
    "* Accuracy of the model is improved by Hyperparameter Tuning.  \n"
   ]
  },
  {
   "cell_type": "code",
   "execution_count": 107,
   "metadata": {},
   "outputs": [
    {
     "name": "stdout",
     "output_type": "stream",
     "text": [
      "0.8699153837345471\n"
     ]
    }
   ],
   "source": [
    "filename = 'finalized_model1.pkl'\n",
    "pickle.dump(grid, open(filename, 'wb'))\n",
    "loaded_model = pickle.load(open(filename, 'rb'))\n",
    "result = loaded_model.score(X_test, y_test)\n",
    "print(result)"
   ]
  },
  {
   "cell_type": "markdown",
   "metadata": {},
   "source": [
    "Predicted house price."
   ]
  },
  {
   "cell_type": "code",
   "execution_count": 106,
   "metadata": {},
   "outputs": [
    {
     "data": {
      "text/plain": [
       "array([593051.68])"
      ]
     },
     "execution_count": 106,
     "metadata": {},
     "output_type": "execute_result"
    }
   ],
   "source": [
    "arr=np.asarray([2,4,4,4,4,4,4,4,4,4,4,4,4,4,4,4,4,4,4,4])\n",
    "loaded_model.predict(arr.reshape(1, -1))"
   ]
  },
  {
   "cell_type": "markdown",
   "metadata": {},
   "source": [
    "The main objective of this machine learning project is building a mechanism based on the given set of variables to generate an optimum prediction on the houses that gives buyers and sellers fair confidence independent of real estate agents.\n",
    "\n",
    "We’ve used 20 variables in the exploratory data analysis after necessary data curation to analyze their impact on house price. We’ve also listed the hierarchy of parameters supposedly affecting the house price were then listed.\n",
    " \n",
    "These feature set were then given as an input to the different regression modelling algorithms to predict house prices. We’ve calculated the performance of each model using different performance metrics and compared them based on these metrics Based on the above comparison, we can see that Random Forest model outperforms all the other regression models. So, we chose Random forest as the best Regression Model for this problem and have succesfully predicted the house price."
   ]
  },
  {
   "cell_type": "code",
   "execution_count": null,
   "metadata": {},
   "outputs": [],
   "source": []
  }
 ],
 "metadata": {
  "colab": {
   "collapsed_sections": [],
   "name": "Final_Innercityhouseprice.ipynb",
   "provenance": [],
   "toc_visible": true
  },
  "kernelspec": {
   "display_name": "Python 3",
   "language": "python",
   "name": "python3"
  },
  "language_info": {
   "codemirror_mode": {
    "name": "ipython",
    "version": 3
   },
   "file_extension": ".py",
   "mimetype": "text/x-python",
   "name": "python",
   "nbconvert_exporter": "python",
   "pygments_lexer": "ipython3",
   "version": "3.7.3"
  }
 },
 "nbformat": 4,
 "nbformat_minor": 1
}
